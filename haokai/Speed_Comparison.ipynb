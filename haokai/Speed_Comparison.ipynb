{
  "nbformat": 4,
  "nbformat_minor": 0,
  "metadata": {
    "colab": {
      "name": "Speed Comparison.ipynb",
      "provenance": [],
      "include_colab_link": true
    },
    "kernelspec": {
      "name": "python3",
      "display_name": "Python 3"
    }
  },
  "cells": [
    {
      "cell_type": "markdown",
      "metadata": {
        "id": "view-in-github",
        "colab_type": "text"
      },
      "source": [
        "<a href=\"https://colab.research.google.com/github/hhk54250/Is20f/blob/master/haokai/Speed_Comparison.ipynb\" target=\"_parent\"><img src=\"https://colab.research.google.com/assets/colab-badge.svg\" alt=\"Open In Colab\"/></a>"
      ]
    },
    {
      "cell_type": "code",
      "metadata": {
        "id": "5RqYQQdXP653"
      },
      "source": [
        "import numpy as np\n",
        "\n",
        "def BSM_characteristic_function(v, x0, T, r, sigma):\n",
        "    cf_value = np.exp(((x0 / T + r - 0.5 * sigma ** 2) * 1j * v\n",
        "                - 0.5 * sigma ** 2 * v ** 2) * T)\n",
        "    return cf_value\n",
        "def BSM_call_characteristic_function(v,alpha, x0, T, r, sigma):\n",
        "    res=np.exp(-r*T)/((alpha+1j*v)*(alpha+1j*v+1))\\\n",
        "        *BSM_characteristic_function((v-(alpha+1)*1j), x0, T, r, sigma)\n",
        "    return res\n",
        "    \n",
        "def SimpsonW(N,eta):\n",
        "    delt = np.zeros(N, dtype=np.float)\n",
        "    delt[0] = 1\n",
        "    j = np.arange(1, N + 1, 1)\n",
        "    SimpsonW = eta*(3 + (-1) ** j - delt) / 3\n",
        "    return SimpsonW\n",
        "    \n",
        "\n",
        "def Simposon_numerical_integrate(S0, K, T, r, sigma):\n",
        "    k = np.log(K)\n",
        "    x0 = np.log(S0)\n",
        "    N=1024\n",
        "    B=153.6\n",
        "    eta=B/N\n",
        "    W=SimpsonW(N,eta)\n",
        "    \n",
        "    alpha=1.5\n",
        "    sumx=0\n",
        "    for j in range(N):\n",
        "        v_j=j*eta\n",
        "        temp=np.exp(-1j*v_j*k)*\\\n",
        "            BSM_call_characteristic_function(v_j,alpha, x0, T, r, sigma)*\\\n",
        "            W[j]            \n",
        "        sumx+=temp.real\n",
        "\n",
        "        \n",
        "    return sumx*np.exp(-alpha*k)/np.pi"
      ],
      "execution_count": null,
      "outputs": []
    },
    {
      "cell_type": "code",
      "metadata": {
        "id": "o6flkUKoQBhP",
        "outputId": "ab58700f-454d-476e-da58-eb61749ee67e",
        "colab": {
          "base_uri": "https://localhost:8080/",
          "height": 34
        }
      },
      "source": [
        "S0 = 100.0  # index level\n",
        "K = 108.52520983216910821762196480844  # option strike\n",
        "T = 1.0  # maturity date\n",
        "r = 0.0475  # risk-less short rate\n",
        "sigma = 0.2  # volatility\n",
        "\n",
        "print ('>>>>>>>>>>FT call value is ' + str(Simposon_numerical_integrate(S0, K, T, r, sigma)))"
      ],
      "execution_count": null,
      "outputs": [
        {
          "output_type": "stream",
          "text": [
            ">>>>>>>>>>FT call value is 6.477779672276538\n"
          ],
          "name": "stdout"
        }
      ]
    },
    {
      "cell_type": "code",
      "metadata": {
        "id": "OjH6ZsKjaGIy",
        "outputId": "b702009f-aaba-40eb-9f9e-b1ab98410fc2",
        "colab": {
          "base_uri": "https://localhost:8080/",
          "height": 153
        }
      },
      "source": [
        "%cd~\n",
        "\n",
        "!git clone https://github.com/hhk54250/20MA573-HHK.git \n",
        "pass\n"
      ],
      "execution_count": null,
      "outputs": [
        {
          "output_type": "stream",
          "text": [
            "/root\n",
            "Cloning into '20MA573-HHK'...\n",
            "remote: Enumerating objects: 29, done.\u001b[K\n",
            "remote: Counting objects: 100% (29/29), done.\u001b[K\n",
            "remote: Compressing objects: 100% (26/26), done.\u001b[K\n",
            "remote: Total 200 (delta 11), reused 0 (delta 0), pack-reused 171\u001b[K\n",
            "Receiving objects: 100% (200/200), 5.79 MiB | 26.82 MiB/s, done.\n",
            "Resolving deltas: 100% (85/85), done.\n"
          ],
          "name": "stdout"
        }
      ]
    },
    {
      "cell_type": "code",
      "metadata": {
        "id": "ISQhrM8EaHx-",
        "outputId": "d9062a12-9d93-494c-e5c4-853acc559586",
        "colab": {
          "base_uri": "https://localhost:8080/",
          "height": 51
        }
      },
      "source": [
        "\n",
        "%cd 20MA573-HHK/src/\n",
        "%ls"
      ],
      "execution_count": null,
      "outputs": [
        {
          "output_type": "stream",
          "text": [
            "/root/20MA573-HHK/src\n",
            "bsm.py  optiondata.dat  prj01.ipynb  prj02.ipynb\n"
          ],
          "name": "stdout"
        }
      ]
    },
    {
      "cell_type": "code",
      "metadata": {
        "id": "nm8aSkBdaLDB",
        "outputId": "b6f30601-d6a0-4058-a066-d0dcc1ce7637",
        "colab": {
          "base_uri": "https://localhost:8080/",
          "height": 34
        }
      },
      "source": [
        "from bsm import *\n",
        "\n",
        "\n",
        "'''===============\n",
        "Test bsm_price\n",
        "================='''\n",
        "gbm1 = Gbm(\n",
        "    init_state = 100., \n",
        "    drift_ratio = .0475,\n",
        "    vol_ratio = .2)\n",
        "option1 = VanillaOption(\n",
        "    otype = 1,\n",
        "    strike = 108.52520983216910821762196480844,                \n",
        "    maturity = 1.\n",
        ")    \n",
        "\n",
        "print('>>>>>>>>>>BSM call value is ' + str(gbm1.bsm_price(option1)))"
      ],
      "execution_count": null,
      "outputs": [
        {
          "output_type": "stream",
          "text": [
            ">>>>>>>>>>BSM call value is 6.477779672277251\n"
          ],
          "name": "stdout"
        }
      ]
    },
    {
      "cell_type": "code",
      "metadata": {
        "id": "wZPFM4f5GLyQ"
      },
      "source": [
        "def fft(FFTFunc):\n",
        "    N=2**10\n",
        "    eta=0.15\n",
        "    lambda_ = 2 * np.pi / (N *eta)   \n",
        "    t=np.arange(0, N, 1)\n",
        "    sumy=np.asarray([np.sum(np.exp(-1j*lambda_*eta*t*m)*FFTFunc) for m in range(N)])\n",
        "\n",
        "        \n",
        "    return sumy\n",
        "\n",
        "def BSM_call_value_FFT(S0, K, T, r, sigma):\n",
        "    k = np.log(K)\n",
        "    x0 = np.log(S0)\n",
        "    N =2**10\n",
        "    alpha=1.5\n",
        "    \n",
        "    eta=0.15\n",
        "    lambda_ = 2 * np.pi / (N *eta)\n",
        "    beta=x0-lambda_*N/2\n",
        "    km=np.asarray([beta+i*lambda_ for i in range(N)])\n",
        "    W=SimpsonW(N,eta)\n",
        "    v=np.asarray([i*eta for i in range(N)])\n",
        "    Psi=np.asarray([BSM_call_characteristic_function(vj,alpha, x0, T, r, sigma)  for vj in v])\n",
        "    FFTFunc=Psi*np.exp(-1j*beta*v)*W\n",
        "    \n",
        "    \n",
        "    y=fft(FFTFunc).real\n",
        "    \n",
        "    \n",
        "    cT=np.exp(-alpha*km)*y/np.pi\n",
        "    \n",
        "    return cT"
      ],
      "execution_count": null,
      "outputs": []
    },
    {
      "cell_type": "code",
      "metadata": {
        "id": "qw3IRxSxGNPp",
        "outputId": "1bcb96ef-e039-4c03-b20f-bcb6102e22f0",
        "colab": {
          "base_uri": "https://localhost:8080/",
          "height": 34
        }
      },
      "source": [
        "\n",
        "S0 = 100.0  # index level\n",
        "K = 110.0  # option strike\n",
        "T = 1.0  # maturity date\n",
        "r = 0.0475  # risk-less short rate\n",
        "sigma = 0.2  # volatility\n",
        "print('>>>>>>>>>>FFT call value is ' + str(BSM_call_value_FFT(S0, K, T, r, sigma)[514]))"
      ],
      "execution_count": null,
      "outputs": [
        {
          "output_type": "stream",
          "text": [
            ">>>>>>>>>>FFT call value is 6.4777796722766245\n"
          ],
          "name": "stdout"
        }
      ]
    },
    {
      "cell_type": "code",
      "metadata": {
        "id": "IeohOYvGpsHG",
        "outputId": "6267dc23-2dc8-449f-97af-b9c0c6768d5c",
        "colab": {
          "base_uri": "https://localhost:8080/",
          "height": 85
        }
      },
      "source": [
        "\"FFT time test\"\n",
        "S0 = 100.0  # index level\n",
        "K = 110.0  # option strike\n",
        "T = 1.0  # maturity date\n",
        "r = 0.0475  # risk-less short rate\n",
        "sigma = 0.2  # volatility\n",
        "%time BSM_call_value_FFT(S0, K, T, r, sigma)"
      ],
      "execution_count": null,
      "outputs": [
        {
          "output_type": "stream",
          "text": [
            "CPU times: user 120 ms, sys: 618 µs, total: 120 ms\n",
            "Wall time: 121 ms\n"
          ],
          "name": "stdout"
        },
        {
          "output_type": "execute_result",
          "data": {
            "text/plain": [
              "array([-1.51437903e+14, -1.21413940e+14, -9.50754645e+13, ...,\n",
              "       -1.33706636e-13, -1.13945211e-13, -9.53065405e-14])"
            ]
          },
          "metadata": {
            "tags": []
          },
          "execution_count": 10
        }
      ]
    },
    {
      "cell_type": "code",
      "metadata": {
        "id": "4o_h-Et_sHrc",
        "outputId": "0d0e2947-f9bd-4479-f1bb-aeed6607d970",
        "colab": {
          "base_uri": "https://localhost:8080/",
          "height": 85
        }
      },
      "source": [
        "\"FT time test\"\n",
        "S0 = 100.0  # index level\n",
        "T = 1.0  # maturity date\n",
        "r = 0.0475  # risk-less short rate\n",
        "sigma = 0.2  # volatility\n",
        "N =2**10 \n",
        "eta=0.15\n",
        "lambda_ = 2 * np.pi / (N *eta)\n",
        "x0 = np.log(S0)\n",
        "beta=x0-lambda_*N/2\n",
        "k=np.asarray([np.e**(beta+lambda_*n) for n in range(N)])\n",
        "%time np.asarray([Simposon_numerical_integrate(S0, k[n], T, r, sigma) for n in range(N)])\n"
      ],
      "execution_count": null,
      "outputs": [
        {
          "output_type": "stream",
          "text": [
            "CPU times: user 13.6 s, sys: 1.28 ms, total: 13.6 s\n",
            "Wall time: 13.6 s\n"
          ],
          "name": "stdout"
        },
        {
          "output_type": "execute_result",
          "data": {
            "text/plain": [
              "array([-1.51437903e+14, -1.21413940e+14, -9.50754645e+13, ...,\n",
              "       -1.33706636e-13, -1.13945211e-13, -9.53065405e-14])"
            ]
          },
          "metadata": {
            "tags": []
          },
          "execution_count": 11
        }
      ]
    },
    {
      "cell_type": "code",
      "metadata": {
        "id": "xHob98mH4FXo",
        "outputId": "82839c71-1859-4a66-8a96-782f72e9cafe",
        "colab": {
          "base_uri": "https://localhost:8080/",
          "height": 85
        }
      },
      "source": [
        "\"BSM time test\"\n",
        "gbm1 = Gbm(\n",
        "    init_state = 100., \n",
        "    drift_ratio = .0475,\n",
        "    vol_ratio = .2)\n",
        "option1 = VanillaOption(\n",
        "    otype = 1,\n",
        "    strike = k,                \n",
        "    maturity = 1.\n",
        ")    \n",
        "\n",
        "%time gbm1.bsm_price(option1)"
      ],
      "execution_count": null,
      "outputs": [
        {
          "output_type": "stream",
          "text": [
            "CPU times: user 2.04 ms, sys: 0 ns, total: 2.04 ms\n",
            "Wall time: 1.86 ms\n"
          ],
          "name": "stdout"
        },
        {
          "output_type": "execute_result",
          "data": {
            "text/plain": [
              "array([99.99999992, 99.99999992, 99.99999992, ...,  0.        ,\n",
              "        0.        ,  0.        ])"
            ]
          },
          "metadata": {
            "tags": []
          },
          "execution_count": 12
        }
      ]
    },
    {
      "cell_type": "code",
      "metadata": {
        "id": "Vb4XeCtyy7hc"
      },
      "source": [
        "def BSM_call_value_NumpyFFT(S0, K, T, r, sigma):\n",
        "    k = np.log(K)\n",
        "    x0 = np.log(S0)\n",
        "    N =2**10\n",
        "    alpha=1.5\n",
        "    \n",
        "    eta=0.15\n",
        "    lambda_ = 2 * np.pi / (N *eta)\n",
        "    beta=x0-lambda_*N/2\n",
        "    km=np.asarray([beta+i*lambda_ for i in range(N)])\n",
        "    W=SimpsonW(N,eta)\n",
        "    v=np.asarray([i*eta for i in range(N)])\n",
        "    Psi=np.asarray([BSM_call_characteristic_function(vj,alpha, x0, T, r, sigma)  for vj in v])\n",
        "    FFTFunc=Psi*np.exp(-1j*beta*v)*W\n",
        "    \n",
        "    \n",
        "    y=np.fft.fft(FFTFunc).real\n",
        "    \n",
        "    \n",
        "    cT=np.exp(-alpha*km)*y/np.pi"
      ],
      "execution_count": null,
      "outputs": []
    },
    {
      "cell_type": "code",
      "metadata": {
        "id": "zPC_rd9dy25M",
        "outputId": "62a96670-aa19-4ff5-9844-7f1259cbe58e",
        "colab": {
          "base_uri": "https://localhost:8080/",
          "height": 51
        }
      },
      "source": [
        "\"FFT time test using Numpy.FFT package\"\n",
        "S0 = 100.0  # index level\n",
        "K = 110.0  # option strike\n",
        "T = 1.0  # maturity date\n",
        "r = 0.0475  # risk-less short rate\n",
        "sigma = 0.2  # volatility\n",
        "%time BSM_call_value_NumpyFFT(S0, K, T, r, sigma)"
      ],
      "execution_count": null,
      "outputs": [
        {
          "output_type": "stream",
          "text": [
            "CPU times: user 19.9 ms, sys: 1.02 ms, total: 20.9 ms\n",
            "Wall time: 22.6 ms\n"
          ],
          "name": "stdout"
        }
      ]
    },
    {
      "cell_type": "code",
      "metadata": {
        "id": "588KyD_gzLei"
      },
      "source": [
        ""
      ],
      "execution_count": null,
      "outputs": []
    }
  ]
}