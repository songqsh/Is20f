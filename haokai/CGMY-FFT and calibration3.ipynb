{
  "nbformat": 4,
  "nbformat_minor": 0,
  "metadata": {
    "colab": {
      "name": "Untitled16.ipynb",
      "provenance": [],
      "authorship_tag": "ABX9TyOXwQ9jKOOfudztMZ3MtOYX",
      "include_colab_link": true
    },
    "kernelspec": {
      "name": "python3",
      "display_name": "Python 3"
    },
    "accelerator": "GPU"
  },
  "cells": [
    {
      "cell_type": "markdown",
      "metadata": {
        "id": "view-in-github",
        "colab_type": "text"
      },
      "source": [
        "<a href=\"https://colab.research.google.com/github/hhk54250/Is20f/blob/master/haokai/CGMY-FFT%20and%20calibration3.ipynb\" target=\"_parent\"><img src=\"https://colab.research.google.com/assets/colab-badge.svg\" alt=\"Open In Colab\"/></a>"
      ]
    },
    {
      "cell_type": "code",
      "metadata": {
        "id": "dJflZNQ4bO5z"
      },
      "source": [
        "import numpy as np\n",
        "from scipy.integrate import quad\n",
        "import math\n",
        "from scipy import optimize\n",
        "\n",
        "import pandas as pd"
      ],
      "execution_count": 89,
      "outputs": []
    },
    {
      "cell_type": "code",
      "metadata": {
        "id": "OpEcvmIjc-s5"
      },
      "source": [
        "\n",
        "class FTCall:\n",
        "    def __init__(self, model):\n",
        "        self.md = model\n",
        "        \n",
        "    #$\\psi$ function for carr-madan method\n",
        "    def psi(self, w, T, alpha):\n",
        "        o1 = np.exp(-self.md.r*T)\n",
        "        o1 = o1*self.md.charfun(T, w - (alpha+1)*1j)\n",
        "        o2 = alpha**2+alpha-w**2+1j*(2*alpha+1.)*w\n",
        "        return o1/o2\n",
        "    \n",
        "    #carr-madan method with damping\n",
        "    def price_cm(self, K, T, alpha = 1.5):\n",
        "        k = np.log(K)\n",
        "        integrand = lambda w: (np.exp(-1j*w*k)*self.psi(w, T, alpha)).real\n",
        "        integral = quad(integrand, 0, np.inf)[0]\n",
        "        return np.exp(-alpha*k)/np.pi*integral"
      ],
      "execution_count": 90,
      "outputs": []
    },
    {
      "cell_type": "code",
      "metadata": {
        "id": "VfzQXt-gdAhN"
      },
      "source": [
        "class Heston:\n",
        "    def __init__(self, S0, v0, r, kappa, theta, xi, rho):\n",
        "        self.S0 = S0\n",
        "        self.v0 = v0\n",
        "        self.r = r\n",
        "        self.kappa = kappa\n",
        "        self.theta = theta\n",
        "        self.xi = xi\n",
        "        self.rho = rho\n",
        "        \n",
        "    #char func for ln(S_T) from Ng05\n",
        "    def charfun(self, T, u):\n",
        "        t1 = self.kappa - self.rho*self.xi*1j*u\n",
        "        D = np.sqrt(t1**2+(u**2+1j*u)*self.xi**2)\n",
        "        G = (t1-D)/(t1+D)\n",
        "        t2 = 1-G*np.exp(-D*T)\n",
        "        f1 = np.exp(1j*u*(np.log(self.S0+self.r*T)))\n",
        "        f2 = np.exp(self.v0*(1-np.exp(-D*T))*(t1-D)/self.xi**2/t2)\n",
        "        f3 = np.exp(self.kappa*self.theta*(\n",
        "            T*(t1-D)-2*np.log(t2/(1-G)))/self.xi**2)\n",
        "        return f1*f2*f3"
      ],
      "execution_count": 91,
      "outputs": []
    },
    {
      "cell_type": "code",
      "metadata": {
        "id": "MlewI5-GdCs8",
        "colab": {
          "base_uri": "https://localhost:8080/"
        },
        "outputId": "e20c072b-3fc9-419e-8afd-6199aab2ab50"
      },
      "source": [
        "hes = Heston(100, 0.04, 0.03, 2, 0.04, 0.5, -0.7)\n",
        "ftc = FTCall(hes)\n",
        "ans = ftc.price_cm(100, 0.5, alpha = 1.5)\n",
        "print(\n",
        "      f'Heston FT price by carr-madan is \\n  >> {ans}'\n",
        "      )\n",
        "print('(ref. P61 of [Hirsa13])')"
      ],
      "execution_count": 92,
      "outputs": [
        {
          "output_type": "stream",
          "text": [
            "Heston FT price by carr-madan is \n",
            "  >> 5.112752678867938\n",
            "(ref. P61 of [Hirsa13])\n"
          ],
          "name": "stdout"
        }
      ]
    },
    {
      "cell_type": "code",
      "metadata": {
        "id": "640upV4hdEzM",
        "colab": {
          "base_uri": "https://localhost:8080/"
        },
        "outputId": "37ea5b76-ce29-422d-ae05-cd0a4ca4482d"
      },
      "source": [
        "T = 10\n",
        "#risk free rate\n",
        "r = 0\n",
        "#long term volatility(equiribrium level)\n",
        "theta = 0.0398\n",
        "#Mean reversion speed of volatility\n",
        "kappa = 1.5768\n",
        "#sigma(volatility of Volatility)\n",
        "sigma = 0.5751\n",
        "#rho\n",
        "rho = -0.5751\n",
        "#Initial stock price\n",
        "S0 = 100\n",
        "#Initial volatility\n",
        "v0 = 0.0175\n",
        "def charfun(u):\n",
        "    T = 10\n",
        "    #risk free rate\n",
        "    r = 0\n",
        "    #long term volatility(equiribrium level)\n",
        "    theta = 0.0398\n",
        "    #Mean reversion speed of volatility\n",
        "    kappa = 1.5768\n",
        "    #sigma(volatility of Volatility)\n",
        "    xi = 0.5751\n",
        "    #rho\n",
        "    rho = -0.5751\n",
        "    #Initial stock price\n",
        "    S0 = 100\n",
        "    #Initial volatility\n",
        "    v0 = 0.0175\n",
        "    t1 = kappa - rho*xi*1j*u\n",
        "    D = np.sqrt(t1**2+(u**2+1j*u)*xi**2)\n",
        "    G = (t1-D)/(t1+D)\n",
        "    t2 = 1-G*np.exp(-D*T)\n",
        "    f1 = np.exp(1j*u*(np.log(S0+r*T)))\n",
        "    f2 = np.exp(v0*(1-np.exp(-D*T))*(t1-D)/xi**2/t2)\n",
        "    f3 = np.exp(kappa*theta*(\n",
        "        T*(t1-D)-2*np.log(t2/(1-G)))/xi**2)\n",
        "    return f1*f2*f3\n",
        "def SimpsonW(N,eta):\n",
        "    delt = np.zeros(N, dtype=np.float)\n",
        "    delt[0] = 1\n",
        "    j = np.arange(1, N + 1, 1)\n",
        "    SimpsonW = eta*(3 + (-1) ** j - delt) / 3\n",
        "    return SimpsonW\n",
        "    \n",
        "def psi(w, T, alpha, r):\n",
        "    o1 = np.exp(-r*T)\n",
        "    o1 = o1*charfun(w - (alpha+1)*1j)\n",
        "    o2 = alpha**2+alpha-w**2+1j*(2*alpha+1.)*w\n",
        "    return o1/o2\n",
        "\n",
        "def Heston_NumpyFFT(S0, K, T):\n",
        "    k = np.log(K)\n",
        "    x0 = np.log(S0)\n",
        "    N =2**10\n",
        "    alpha=1.5\n",
        "    \n",
        "    eta=0.15\n",
        "    lambda_ = 2 * np.pi / (N *eta)\n",
        "    beta=x0-lambda_*N/2\n",
        "    km=np.asarray([beta+i*lambda_ for i in range(N)])\n",
        "    W=SimpsonW(N,eta)\n",
        "    v=np.asarray([i*eta for i in range(N)])\n",
        "    Psi=np.asarray([psi(vj, T, alpha, 0)  for vj in v])\n",
        "    FFTFunc=Psi*np.exp(-1j*beta*v)*W\n",
        "    \n",
        "    \n",
        "    y=np.fft.fft(FFTFunc).real\n",
        "    \n",
        "    \n",
        "    cT=np.exp(-alpha*km)*y/np.pi\n",
        "    return cT\n",
        "Heston_NumpyFFT(100, 80, 10)[514]"
      ],
      "execution_count": 93,
      "outputs": [
        {
          "output_type": "execute_result",
          "data": {
            "text/plain": [
              "18.791154357043478"
            ]
          },
          "metadata": {
            "tags": []
          },
          "execution_count": 93
        }
      ]
    },
    {
      "cell_type": "code",
      "metadata": {
        "id": "00lMUeZnz8NW"
      },
      "source": [
        "S0 = 100.0  # index level\n",
        "N =2**10 \n",
        "eta=0.15\n",
        "lambda_ = 2 * np.pi / (N *eta)\n",
        "x0 = np.log(S0)\n",
        "beta=x0-lambda_*N/2\n",
        "k=np.asarray([np.e**(beta+lambda_*n) for n in range(N)])\n"
      ],
      "execution_count": 94,
      "outputs": []
    },
    {
      "cell_type": "code",
      "metadata": {
        "id": "-HbK9Cegx6G_",
        "colab": {
          "base_uri": "https://localhost:8080/",
          "height": 615
        },
        "outputId": "23ea095a-33a6-46f2-ceda-2fa15f10e0f6"
      },
      "source": [
        "import matplotlib.pyplot as plt\n",
        "plt.plot(Heston_NumpyFFT(100, 80, 10)[300:600]) \n",
        "plt.show()  \n",
        "hes = Heston(100, 0.0175, 0., 1.5768, 0.0398, 0.5751, -0.5751)\n",
        "ftc = FTCall(hes)\n",
        "t=[]\n",
        "for i in range(300,600):\n",
        "  t.append(ftc.price_cm(k[i], 10, alpha = 1.5))\n",
        "plt.plot(t) \n",
        "plt.show() \n"
      ],
      "execution_count": 95,
      "outputs": [
        {
          "output_type": "display_data",
          "data": {
            "image/png": "[encoded data removed]",
            "text/plain": [
              "<Figure size 432x288 with 1 Axes>"
            ]
          },
          "metadata": {
            "tags": [],
            "needs_background": "light"
          }
        },
        {
          "output_type": "stream",
          "text": [
            "/usr/local/lib/python3.6/dist-packages/ipykernel_launcher.py:17: IntegrationWarning: The maximum number of subdivisions (50) has been achieved.\n",
            "  If increasing the limit yields no improvement it is advised to analyze \n",
            "  the integrand in order to determine the difficulties.  If the position of a \n",
            "  local difficulty can be determined (singularity, discontinuity) one will \n",
            "  probably gain from splitting up the interval and calling the integrator \n",
            "  on the subranges.  Perhaps a special-purpose integrator should be used.\n"
          ],
          "name": "stderr"
        },
        {
          "output_type": "display_data",
          "data": {
            "image/png": "[encoded data removed]",
            "text/plain": [
              "<Figure size 432x288 with 1 Axes>"
            ]
          },
          "metadata": {
            "tags": [],
            "needs_background": "light"
          }
        }
      ]
    },
    {
      "cell_type": "code",
      "metadata": {
        "id": "EAtzi_JGmzMU"
      },
      "source": [
        "class FFTCall:\n",
        "    def __init__(self, model):\n",
        "        self.md = model\n",
        "    def psi(self, w, T, alpha):\n",
        "        o1 = np.exp(-self.md.r*T)\n",
        "        o1 = o1*self.md.charfun(T, w - (alpha+1)*1j)\n",
        "        o2 = alpha**2+alpha-w**2+1j*(2*alpha+1.)*w\n",
        "        return o1/o2\n",
        "    def SimpsonW(self, N, eta):\n",
        "        delt = np.zeros(N, dtype=np.float)\n",
        "        delt[0] = 1\n",
        "        j = np.arange(1, N + 1, 1)\n",
        "        SimpsonW = eta*(3 + (-1) ** j - delt) / 3\n",
        "        return SimpsonW\n",
        "    def Heston_NumpyFFT(self, T, N, eta, alpha):\n",
        "        x0 = np.log(self.md.S0)\n",
        "        lambda_ = 2 * np.pi / (N *eta)\n",
        "        beta=x0-lambda_*N/2\n",
        "        km=np.asarray([beta+i*lambda_ for i in range(N)])\n",
        "        W=self.SimpsonW(N,eta)\n",
        "        v=np.asarray([i*eta for i in range(N)])\n",
        "        Psi=np.asarray([self.psi(vj, T, alpha)  for vj in v])\n",
        "        FFTFunc=Psi*np.exp(-1j*beta*v)*W\n",
        "        y=np.fft.fft(FFTFunc).real   \n",
        "        cT=np.exp(-alpha*km)*y/np.pi\n",
        "        return cT    "
      ],
      "execution_count": 96,
      "outputs": []
    },
    {
      "cell_type": "code",
      "metadata": {
        "id": "ANekvupDpzlo"
      },
      "source": [
        "class Heston1:\n",
        "    def __init__(self, S0, v0, r, kappa, theta, xi, rho):\n",
        "        self.S0 = S0\n",
        "        self.v0 = v0\n",
        "        self.r = r\n",
        "        self.kappa = kappa\n",
        "        self.theta = theta\n",
        "        self.xi = xi\n",
        "        self.rho = rho\n",
        "    #char func for ln(S_T) from Ng05\n",
        "    def charfun(self, T, u):\n",
        "        t1 = self.kappa - self.rho*self.xi*1j*u\n",
        "        D = np.sqrt(t1**2+(u**2+1j*u)*self.xi**2)\n",
        "        G = (t1-D)/(t1+D)\n",
        "        t2 = 1-G*np.exp(-D*T)\n",
        "        f1 = np.exp(1j*u*(np.log(self.S0+self.r*T)))\n",
        "        f2 = np.exp(self.v0*(1-np.exp(-D*T))*(t1-D)/self.xi**2/t2)\n",
        "        f3 = np.exp(self.kappa*self.theta*(\n",
        "            T*(t1-D)-2*np.log(t2/(1-G)))/self.xi**2)\n",
        "        return f1*f2*f3\n",
        "\n",
        "hes = Heston1(100, 0.0175, 0., 1.5768, 0.0398, 0.5751, -0.5751)\n",
        "fttc = FFTCall(hes)\n",
        "ans = fttc.Heston_NumpyFFT(10, 2**10, 0.15, alpha = 1.5)\n",
        "ans[514]\n",
        "hes = Heston(100, 0.0175, 0., 1.5768, 0.0398, 0.5751, -0.5751)\n",
        "ftc = FTCall(hes)\n",
        "t=[]"
      ],
      "execution_count": 97,
      "outputs": []
    },
    {
      "cell_type": "code",
      "metadata": {
        "id": "lcciSw-uv0mx",
        "colab": {
          "base_uri": "https://localhost:8080/"
        },
        "outputId": "13637ac9-9e24-4f60-f89c-54ee81d6cd4f"
      },
      "source": [
        "#speed test\n",
        "\n",
        "\n",
        "%%time\n",
        "for i in range(1023):\n",
        "  t.append(ftc.price_cm(k[i], 10, alpha = 1.5))\n",
        "t"
      ],
      "execution_count": 98,
      "outputs": [
        {
          "output_type": "stream",
          "text": [
            "/usr/local/lib/python3.6/dist-packages/ipykernel_launcher.py:17: IntegrationWarning: The maximum number of subdivisions (50) has been achieved.\n",
            "  If increasing the limit yields no improvement it is advised to analyze \n",
            "  the integrand in order to determine the difficulties.  If the position of a \n",
            "  local difficulty can be determined (singularity, discontinuity) one will \n",
            "  probably gain from splitting up the interval and calling the integrator \n",
            "  on the subranges.  Perhaps a special-purpose integrator should be used.\n"
          ],
          "name": "stderr"
        },
        {
          "output_type": "stream",
          "text": [
            "CPU times: user 29.6 s, sys: 6 ms, total: 29.6 s\n",
            "Wall time: 29.6 s\n"
          ],
          "name": "stdout"
        }
      ]
    },
    {
      "cell_type": "code",
      "metadata": {
        "id": "rvYQvVddzgKq",
        "colab": {
          "base_uri": "https://localhost:8080/"
        },
        "outputId": "c6ee35aa-9fc7-49aa-8930-5345f27e4062"
      },
      "source": [
        "%%time\n",
        "fttc.Heston_NumpyFFT(10, 2**10, 0.15, alpha = 1.5)"
      ],
      "execution_count": 99,
      "outputs": [
        {
          "output_type": "stream",
          "text": [
            "CPU times: user 36.2 ms, sys: 0 ns, total: 36.2 ms\n",
            "Wall time: 36 ms\n"
          ],
          "name": "stdout"
        },
        {
          "output_type": "execute_result",
          "data": {
            "text/plain": [
              "array([-3.27450836e+14, -3.01260253e+14, -2.75800941e+14, ...,\n",
              "       -2.11086972e-13, -1.96805178e-13, -1.82721879e-13])"
            ]
          },
          "metadata": {
            "tags": []
          },
          "execution_count": 99
        }
      ]
    },
    {
      "cell_type": "code",
      "metadata": {
        "id": "8Uhr_hxsTYth",
        "colab": {
          "base_uri": "https://localhost:8080/",
          "height": 299
        },
        "outputId": "78d19c49-3996-4309-8dfa-5f863afc2ebd"
      },
      "source": [
        "class CGMY:\n",
        "    def __init__(self, S0, G, Y, C, M, r):\n",
        "        self.S0 = S0\n",
        "        self.G = G\n",
        "        self.Y = Y\n",
        "        self.C = C\n",
        "        self.M = M\n",
        "        self.r = r\n",
        "    def charfun(self, T, u):\n",
        "        integrand = lambda w: w**(-(self.Y)-1)*(np.e)**(-w)\n",
        "        gamma = quad(integrand, 0, np.inf)[0]\n",
        "        f1 = (np.e)**(self.C*T*gamma*((self.M-1j*u)**self.Y-self.M**self.Y+(self.G+1j*u)**self.Y-self.G**self.Y))\n",
        "        return f1\n",
        "\n",
        "CGMY = CGMY(100,5,0.5,2,10,0.03)\n",
        "ftt2 = FFTCall(CGMY)\n",
        "ans2 = ftt2.Heston_NumpyFFT(0.5, 2**10, 0.15, alpha = 0.5)\n",
        "\n",
        "plt.plot(ans2[100:1024]) \n",
        "plt.show()  "
      ],
      "execution_count": 100,
      "outputs": [
        {
          "output_type": "stream",
          "text": [
            "/usr/local/lib/python3.6/dist-packages/ipykernel_launcher.py:11: IntegrationWarning: The integral is probably divergent, or slowly convergent.\n",
            "  # This is added back by InteractiveShellApp.init_path()\n"
          ],
          "name": "stderr"
        },
        {
          "output_type": "display_data",
          "data": {
            "image/png": "[encoded data removed]",
            "text/plain": [
              "<Figure size 432x288 with 1 Axes>"
            ]
          },
          "metadata": {
            "tags": [],
            "needs_background": "light"
          }
        }
      ]
    },
    {
      "cell_type": "code",
      "metadata": {
        "id": "DqsoLxaS55oA"
      },
      "source": [
        "class CGMY2:\n",
        "    def __init__(self, S0, G, Y, C, M, r):\n",
        "        self.S0 = S0\n",
        "        self.G = G\n",
        "        self.Y = Y\n",
        "        self.C = C\n",
        "        self.M = M\n",
        "        self.r = r\n",
        "    def charfun(self, T, u):\n",
        "        gamma = math.gamma(-(self.Y))\n",
        "        beta = self.C*(self.G**self.Y)*gamma*((1+1/self.G)**self.Y-1-self.Y/self.G) + self.C*(self.M**self.Y)*gamma*((1-1/self.M)**self.Y-1+self.Y/self.M)\n",
        "        f1 = (np.e)**(1j*u*np.log(self.S0)+(self.r-beta)*T)\n",
        "        f2 = (np.e)**(self.C*(self.G**self.Y)*T*gamma*((1+1j*u/self.G)**self.Y-1-1j*u*self.Y/self.G) + self.C*(self.M**self.Y)*T*gamma*((1-1j*u/self.M)**self.Y-1+1j*u*self.Y/self.M))\n",
        "        return f1*f2"
      ],
      "execution_count": 101,
      "outputs": []
    },
    {
      "cell_type": "code",
      "metadata": {
        "id": "mIPQsg7gA-h7"
      },
      "source": [
        "CGMY = CGMY2(100,5,0.5,2,10,0.03)\n",
        "ftt1 = FFTCall(CGMY)\n",
        "ans1 = ftt1.Heston_NumpyFFT(0.5, 2**10, 0.15, alpha = 0.5)"
      ],
      "execution_count": 102,
      "outputs": []
    },
    {
      "cell_type": "code",
      "metadata": {
        "id": "iODF8ia3kem7",
        "colab": {
          "base_uri": "https://localhost:8080/",
          "height": 282
        },
        "outputId": "19e4e500-0450-475c-b8d9-7f1866136b81"
      },
      "source": [
        "plt.plot(ans1[300:900]) \n",
        "plt.show()  \n",
        "ans1[514]"
      ],
      "execution_count": 103,
      "outputs": [
        {
          "output_type": "display_data",
          "data": {
            "image/png": "[encoded data removed]",
            "text/plain": [
              "<Figure size 432x288 with 1 Axes>"
            ]
          },
          "metadata": {
            "tags": [],
            "needs_background": "light"
          }
        },
        {
          "output_type": "execute_result",
          "data": {
            "text/plain": [
              "10.725567345057915"
            ]
          },
          "metadata": {
            "tags": []
          },
          "execution_count": 103
        }
      ]
    },
    {
      "cell_type": "code",
      "metadata": {
        "id": "jlI9QjBAtM7l",
        "colab": {
          "base_uri": "https://localhost:8080/"
        },
        "outputId": "fee7b114-fa64-49fe-e286-de8ef4e119d5"
      },
      "source": [
        "ftc1 = FTCall(CGMY)\n",
        "ans = ftc1.price_cm(40, 0.5, alpha = 1.5)\n",
        "ans\n"
      ],
      "execution_count": 104,
      "outputs": [
        {
          "output_type": "execute_result",
          "data": {
            "text/plain": [
              "62.049226774184774"
            ]
          },
          "metadata": {
            "tags": []
          },
          "execution_count": 104
        }
      ]
    },
    {
      "cell_type": "code",
      "metadata": {
        "id": "mFZ8IF56q8Ys",
        "colab": {
          "base_uri": "https://localhost:8080/"
        },
        "outputId": "b587b901-56da-4d9a-8dee-3a1e67b987f4"
      },
      "source": [
        "\n",
        "%%time\n",
        "market_price = 62.049226774184774\n",
        "\n",
        "def g(params):\n",
        "    C,G,M,Y,r = params\n",
        "    market_price = 91\n",
        "    CGMY = CGMY2(3638.35,M,Y,C,G,r)\n",
        "    ftc1 = FTCall(CGMY)\n",
        "    ans = ftc1.price_cm(3600, 1/12, alpha = 1.5)\n",
        "    return abs(market_price - ans)\n",
        "\n",
        "guess_g=[1,5,2,0.1,0.01]\n",
        "\n",
        "minimum2= optimize.fmin(g,guess_g,maxfun=400000000000,maxiter=400000000000,ftol=1e-50,xtol=1e-12)\n",
        "\n",
        "minimum2"
      ],
      "execution_count": 105,
      "outputs": [
        {
          "output_type": "stream",
          "text": [
            "/usr/local/lib/python3.6/dist-packages/ipykernel_launcher.py:17: IntegrationWarning: The maximum number of subdivisions (50) has been achieved.\n",
            "  If increasing the limit yields no improvement it is advised to analyze \n",
            "  the integrand in order to determine the difficulties.  If the position of a \n",
            "  local difficulty can be determined (singularity, discontinuity) one will \n",
            "  probably gain from splitting up the interval and calling the integrator \n",
            "  on the subranges.  Perhaps a special-purpose integrator should be used.\n"
          ],
          "name": "stderr"
        },
        {
          "output_type": "stream",
          "text": [
            "Optimization terminated successfully.\n",
            "         Current function value: 0.000000\n",
            "         Iterations: 268\n",
            "         Function evaluations: 568\n",
            "CPU times: user 18.8 s, sys: 3 ms, total: 18.8 s\n",
            "Wall time: 18.8 s\n"
          ],
          "name": "stdout"
        }
      ]
    },
    {
      "cell_type": "code",
      "metadata": {
        "id": "if4pW8D13PDp",
        "colab": {
          "base_uri": "https://localhost:8080/"
        },
        "outputId": "23593408-7e63-4c44-9bb7-bf61cff31a03"
      },
      "source": [
        "CGMY = CGMY2(3638.35,2.73358554,0.10443549,0.48593288,5.66897703,0.01035572)\n",
        "ftc1 = FTCall(CGMY)\n",
        "ans = ftc1.price_cm(3600, 1/12, alpha = 1.5)\n",
        "ans"
      ],
      "execution_count": 106,
      "outputs": [
        {
          "output_type": "stream",
          "text": [
            "/usr/local/lib/python3.6/dist-packages/ipykernel_launcher.py:17: IntegrationWarning: The maximum number of subdivisions (50) has been achieved.\n",
            "  If increasing the limit yields no improvement it is advised to analyze \n",
            "  the integrand in order to determine the difficulties.  If the position of a \n",
            "  local difficulty can be determined (singularity, discontinuity) one will \n",
            "  probably gain from splitting up the interval and calling the integrator \n",
            "  on the subranges.  Perhaps a special-purpose integrator should be used.\n"
          ],
          "name": "stderr"
        },
        {
          "output_type": "execute_result",
          "data": {
            "text/plain": [
              "90.99999961269833"
            ]
          },
          "metadata": {
            "tags": []
          },
          "execution_count": 106
        }
      ]
    },
    {
      "cell_type": "code",
      "metadata": {
        "id": "iE28qaZXuUro",
        "colab": {
          "base_uri": "https://localhost:8080/"
        },
        "outputId": "97e28e34-d45f-4d22-fce3-5c01e5d51aa2"
      },
      "source": [
        "%cd~\n",
        "\n",
        "!git clone https://github.com/hhk54250/IS20.git \n",
        "pass"
      ],
      "execution_count": 107,
      "outputs": [
        {
          "output_type": "stream",
          "text": [
            "/root\n",
            "fatal: destination path 'IS20' already exists and is not an empty directory.\n"
          ],
          "name": "stdout"
        }
      ]
    },
    {
      "cell_type": "code",
      "metadata": {
        "id": "TQaTcR9kuYMt",
        "colab": {
          "base_uri": "https://localhost:8080/"
        },
        "outputId": "82f4cf32-abed-438e-d1f1-bbda5ca2e75c"
      },
      "source": [
        "%cd IS20\n",
        "%ls"
      ],
      "execution_count": 108,
      "outputs": [
        {
          "output_type": "stream",
          "text": [
            "/root/IS20\n",
            "'analytical solution of Heston model.ipynb'\n",
            "'CGMY and implied CGMYr.ipynb'\n",
            "'data(1).csv'\n",
            " Fourier_Transform_Heston_BSM.ipynb\n",
            " Heston-FFT2.ipynb\n",
            " Heston-FFT.ipynb\n",
            " option.csv\n",
            "'Option value using fast fourier transform.ipynb'\n",
            "'Option value using fast fourier transform(last version).ipynb'\n",
            " README.md\n",
            " Untitled13.ipynb\n"
          ],
          "name": "stdout"
        }
      ]
    },
    {
      "cell_type": "code",
      "metadata": {
        "id": "zzWdeqgJtJVD",
        "colab": {
          "base_uri": "https://localhost:8080/"
        },
        "outputId": "1cb8192d-ff0b-4c71-a3d8-d3673211dbec"
      },
      "source": [
        "market = pd.read_csv(\"option.csv\")\n",
        "market_strike = market['1.00']\n",
        "market_price = market['2']\n",
        "market_strike"
      ],
      "execution_count": 109,
      "outputs": [
        {
          "output_type": "execute_result",
          "data": {
            "text/plain": [
              "0     3,600.00\n",
              "1     3,605.00\n",
              "2     3,610.00\n",
              "3     3,615.00\n",
              "4     3,620.00\n",
              "5     3,625.00\n",
              "6     3,630.00\n",
              "7     3,635.00\n",
              "8     3,640.00\n",
              "9     3,645.00\n",
              "10    3,650.00\n",
              "11    3,655.00\n",
              "12    3,660.00\n",
              "13    3,665.00\n",
              "14    3,670.00\n",
              "15    3,675.00\n",
              "16    3,680.00\n",
              "17    3,685.00\n",
              "18    3,690.00\n",
              "19    3,695.00\n",
              "20    3,700.00\n",
              "21         NaN\n",
              "22         NaN\n",
              "23         NaN\n",
              "24         NaN\n",
              "25         NaN\n",
              "26         NaN\n",
              "27         NaN\n",
              "28         NaN\n",
              "29         NaN\n",
              "30         NaN\n",
              "31         NaN\n",
              "Name: 1.00, dtype: object"
            ]
          },
          "metadata": {
            "tags": []
          },
          "execution_count": 109
        }
      ]
    },
    {
      "cell_type": "code",
      "metadata": {
        "id": "Y-8JDIMs8F9Z",
        "outputId": "21f2a33e-4867-4eb8-c795-009bce73a8f1",
        "colab": {
          "base_uri": "https://localhost:8080/"
        }
      },
      "source": [
        "market_strike"
      ],
      "execution_count": 110,
      "outputs": [
        {
          "output_type": "execute_result",
          "data": {
            "text/plain": [
              "0     3,600.00\n",
              "1     3,605.00\n",
              "2     3,610.00\n",
              "3     3,615.00\n",
              "4     3,620.00\n",
              "5     3,625.00\n",
              "6     3,630.00\n",
              "7     3,635.00\n",
              "8     3,640.00\n",
              "9     3,645.00\n",
              "10    3,650.00\n",
              "11    3,655.00\n",
              "12    3,660.00\n",
              "13    3,665.00\n",
              "14    3,670.00\n",
              "15    3,675.00\n",
              "16    3,680.00\n",
              "17    3,685.00\n",
              "18    3,690.00\n",
              "19    3,695.00\n",
              "20    3,700.00\n",
              "21         NaN\n",
              "22         NaN\n",
              "23         NaN\n",
              "24         NaN\n",
              "25         NaN\n",
              "26         NaN\n",
              "27         NaN\n",
              "28         NaN\n",
              "29         NaN\n",
              "30         NaN\n",
              "31         NaN\n",
              "Name: 1.00, dtype: object"
            ]
          },
          "metadata": {
            "tags": []
          },
          "execution_count": 110
        }
      ]
    },
    {
      "cell_type": "code",
      "metadata": {
        "id": "cSWM7xMhAwoa"
      },
      "source": [
        "class FTCall1:\n",
        "    def __init__(self, model):\n",
        "        self.md = model\n",
        "        \n",
        "    #$\\psi$ function for carr-madan method\n",
        "    def psi(self, w, T, shit):\n",
        "        o1 = np.exp(-self.md.r*T)\n",
        "        o1 = o1*self.md.charfun(T, w - (shit+1)*1j)\n",
        "        o2 = shit**2+shit-w**2+1j*(2*shit+1.)*w\n",
        "        return o1/o2\n",
        "    \n",
        "    #carr-madan method with damping\n",
        "    def price_cm(self, K, T, shit = 1.5):\n",
        "        k = np.log(K)\n",
        "        integrand = lambda w: (np.exp(-1j*w*k)*self.psi(w, T, shit)).real\n",
        "        integral = quad(integrand, 0, np.inf)[0]\n",
        "        return np.exp(-shit*k)/np.pi*integral"
      ],
      "execution_count": 111,
      "outputs": []
    },
    {
      "cell_type": "code",
      "metadata": {
        "id": "zW_H2UxHvJu8",
        "outputId": "c614ab9a-5af7-4879-8c4c-5e5b3d55799c",
        "colab": {
          "base_uri": "https://localhost:8080/",
          "height": 818
        }
      },
      "source": [
        "def g1(params):\n",
        "    C,G,M,Y,r = params\n",
        "    market_price = 91\n",
        "    CGMY = CGMY2(3638.35,M,Y,C,G,r)\n",
        "    ftc1 = FTCall(CGMY)\n",
        "    ans = ftc1.price_cm(3600, 1/12, alpha = 1.5)\n",
        "    return abs(market_price - ans)\n",
        "\n",
        "guess_g=[1,5,2,0.1,0.01]\n",
        "minimum2=[]\n",
        "minimum2.append(optimize.fmin(g1,guess_g,maxfun=400000000000,maxiter=400000000000,ftol=1e-50,xtol=1e-12))\n",
        "\n",
        "def g2(params):\n",
        "    C,G,M,Y,r = params\n",
        "    market_price = 87.5\n",
        "    CGMY = CGMY2(3638.35,M,Y,C,G,r)\n",
        "    ftc1 = FTCall(CGMY)\n",
        "    ans = ftc1.price_cm(3605.00, 1/12, alpha = 1.5)\n",
        "    return abs(market_price - ans)\n",
        "\n",
        "guess_g=[1,5,2,0.1,0.01]\n",
        "minimum2.append(optimize.fmin(g2,guess_g,maxfun=400000000000,maxiter=400000000000,ftol=1e-50,xtol=1e-12))\n",
        "\n",
        "def g3(params):\n",
        "    C,G,M,Y,r = params\n",
        "    market_price = 84.1\n",
        "    CGMY = CGMY2(3638.35,M,Y,C,G,r)\n",
        "    ftc1 = FTCall(CGMY)\n",
        "    ans = ftc1.price_cm(3610.00, 1/12, alpha = 1.5)\n",
        "    return abs(market_price - ans)\n",
        "\n",
        "guess_g=[1,5,2,0.1,0.01]\n",
        "minimum2.append(optimize.fmin(g3,guess_g,maxfun=400000000000,maxiter=400000000000,ftol=1e-50,xtol=1e-12))\n",
        "\n",
        "def g4(params):\n",
        "    C,G,M,Y,r = params\n",
        "    market_price = 80.0\n",
        "    CGMY = CGMY2(3638.35,M,Y,C,G,r)\n",
        "    ftc1 = FTCall(CGMY)\n",
        "    ans = ftc1.price_cm(3615.00, 1/12, alpha = 1.5)\n",
        "    return abs(market_price - ans)\n",
        "\n",
        "guess_g=[1,5,2,0.1,0.01]\n",
        "minimum2.append(optimize.fmin(g4,guess_g,maxfun=400000000000,maxiter=400000000000,ftol=1e-50,xtol=1e-12))\n",
        "\n",
        "def g5(params):\n",
        "    C,G,M,Y,r = params\n",
        "    market_price = 77.6\n",
        "    CGMY = CGMY2(3638.35,M,Y,C,G,r)\n",
        "    ftc1 = FTCall(CGMY)\n",
        "    ans = ftc1.price_cm(3620.00, 1/12, alpha = 1.5)\n",
        "    return abs(market_price - ans)\n",
        "\n",
        "guess_g=[1,5,2,0.1,0.01]\n",
        "minimum2.append(optimize.fmin(g5,guess_g,maxfun=400000000000,maxiter=400000000000,ftol=1e-50,xtol=1e-12))\n",
        "\n",
        "def g6(params):\n",
        "    C,G,M,Y,r = params\n",
        "    market_price = 74.1\n",
        "    CGMY = CGMY2(3638.35,M,Y,C,G,r)\n",
        "    ftc1 = FTCall(CGMY)\n",
        "    ans = ftc1.price_cm(3625.00, 1/12, alpha = 1.5)\n",
        "    return abs(market_price - ans)\n",
        "\n",
        "guess_g=[1,5,2,0.1,0.01]\n",
        "minimum2.append(optimize.fmin(g6,guess_g,maxfun=400000000000,maxiter=400000000000,ftol=1e-50,xtol=1e-12))\n",
        "\n",
        "def g7(params):\n",
        "    C,G,M,Y,r = params\n",
        "    market_price = 71.4\n",
        "    CGMY = CGMY2(3638.35,M,Y,C,G,r)\n",
        "    ftc1 = FTCall(CGMY)\n",
        "    ans = ftc1.price_cm(3630.00, 1/12, alpha = 1.5)\n",
        "    return abs(market_price - ans)\n",
        "\n",
        "guess_g=[1,5,2,0.1,0.01]\n",
        "minimum2.append(optimize.fmin(g7,guess_g,maxfun=400000000000,maxiter=400000000000,ftol=1e-50,xtol=1e-12))\n",
        "\n",
        "def g8(params):\n",
        "    C,G,M,Y,r = params\n",
        "    market_price = 68.4\n",
        "    CGMY = CGMY2(3638.35,M,Y,C,G,r)\n",
        "    ftc1 = FTCall(CGMY)\n",
        "    ans = ftc1.price_cm(3635.00, 1/12, alpha = 1.5)\n",
        "    return abs(market_price - ans)\n",
        "\n",
        "guess_g=[1,5,2,0.1,0.01]\n",
        "minimum2.append(optimize.fmin(g8,guess_g,maxfun=400000000000,maxiter=400000000000,ftol=1e-50,xtol=1e-12))\n",
        "\n",
        "def g9(params):\n",
        "    C,G,M,Y,r = params\n",
        "    market_price = 65.4\n",
        "    CGMY = CGMY2(3638.35,M,Y,C,G,r)\n",
        "    ftc1 = FTCall(CGMY)\n",
        "    ans = ftc1.price_cm(3640.00, 1/12, alpha = 1.5)\n",
        "    return abs(market_price - ans)\n",
        "\n",
        "guess_g=[1,5,2,0.1,0.01]\n",
        "minimum2.append(optimize.fmin(g9,guess_g,maxfun=400000000000,maxiter=400000000000,ftol=1e-50,xtol=1e-12))\n",
        "\n",
        "def g10(params):\n",
        "    C,G,M,Y,r = params\n",
        "    market_price = 62.5\n",
        "    CGMY = CGMY2(3638.35,M,Y,C,G,r)\n",
        "    ftc1 = FTCall(CGMY)\n",
        "    ans = ftc1.price_cm(3645.00, 1/12, alpha = 1.5)\n",
        "    return abs(market_price - ans)\n",
        "\n",
        "guess_g=[1,5,2,0.1,0.01]\n",
        "minimum2.append(optimize.fmin(g10,guess_g,maxfun=400000000000,maxiter=400000000000,ftol=1e-50,xtol=1e-12))\n",
        "\n",
        "def g11(params):\n",
        "    C,G,M,Y,r = params\n",
        "    market_price = 59.7\n",
        "    CGMY = CGMY2(3638.35,M,Y,C,G,r)\n",
        "    ftc1 = FTCall(CGMY)\n",
        "    ans = ftc1.price_cm(3650.00, 1/12, alpha = 1.5)\n",
        "    return abs(market_price - ans)\n",
        "\n",
        "guess_g=[1,5,2,0.1,0.01]\n",
        "minimum2.append(optimize.fmin(g11,guess_g,maxfun=400000000000,maxiter=400000000000,ftol=1e-50,xtol=1e-12))\n",
        "\n",
        "def g12(params):\n",
        "    C,G,M,Y,r = params\n",
        "    market_price = 57.0\n",
        "    CGMY = CGMY2(3638.35,M,Y,C,G,r)\n",
        "    ftc1 = FTCall(CGMY)\n",
        "    ans = ftc1.price_cm(3655.00, 1/12, alpha = 1.5)\n",
        "    return abs(market_price - ans)\n",
        "\n",
        "guess_g=[1,5,2,0.1,0.01]\n",
        "minimum2.append(optimize.fmin(g12,guess_g,maxfun=400000000000,maxiter=400000000000,ftol=1e-50,xtol=1e-12))\n",
        "\n",
        "def g13(params):\n",
        "    C,G,M,Y,r = params\n",
        "    market_price = 54.3\n",
        "    CGMY = CGMY2(3638.35,M,Y,C,G,r)\n",
        "    ftc1 = FTCall(CGMY)\n",
        "    ans = ftc1.price_cm(3660.00, 1/12, alpha = 1.5)\n",
        "    return abs(market_price - ans)\n",
        "\n",
        "guess_g=[1,5,2,0.1,0.01]\n",
        "minimum2.append(optimize.fmin(g13,guess_g,maxfun=400000000000,maxiter=400000000000,ftol=1e-50,xtol=1e-12))\n",
        "\n",
        "def g14(params):\n",
        "    C,G,M,Y,r = params\n",
        "    market_price = 51.4\n",
        "    CGMY = CGMY2(3638.35,M,Y,C,G,r)\n",
        "    ftc1 = FTCall(CGMY)\n",
        "    ans = ftc1.price_cm(3665.00, 1/12, alpha = 1.5)\n",
        "    return abs(market_price - ans)\n",
        "\n",
        "guess_g=[1,5,2,0.1,0.01]\n",
        "minimum2.append(optimize.fmin(g14,guess_g,maxfun=400000000000,maxiter=400000000000,ftol=1e-50,xtol=1e-12))\n",
        "\n",
        "def g15(params):\n",
        "    C,G,M,Y,r = params\n",
        "    market_price = 49.2\n",
        "    CGMY = CGMY2(3638.35,M,Y,C,G,r)\n",
        "    ftc1 = FTCall(CGMY)\n",
        "    ans = ftc1.price_cm(3670.00, 1/12, alpha = 1.5)\n",
        "    return abs(market_price - ans)\n",
        "\n",
        "guess_g=[1,5,2,0.1,0.01]\n",
        "minimum2.append(optimize.fmin(g15,guess_g,maxfun=400000000000,maxiter=400000000000,ftol=1e-50,xtol=1e-12))\n",
        "\n",
        "def g16(params):\n",
        "    C,G,M,Y,r = params\n",
        "    market_price = 46.9\n",
        "    CGMY = CGMY2(3638.35,M,Y,C,G,r)\n",
        "    ftc1 = FTCall(CGMY)\n",
        "    ans = ftc1.price_cm(3675.00, 1/12, alpha = 1.5)\n",
        "    return abs(market_price - ans)\n",
        "\n",
        "guess_g=[1,5,2,0.1,0.01]\n",
        "minimum2.append(optimize.fmin(g16,guess_g,maxfun=400000000000,maxiter=400000000000,ftol=1e-50,xtol=1e-12))\n",
        "\n",
        "def g17(params):\n",
        "    C,G,M,Y,r = params\n",
        "    market_price = 44.4\n",
        "    CGMY = CGMY2(3638.35,M,Y,C,G,r)\n",
        "    ftc1 = FTCall(CGMY)\n",
        "    ans = ftc1.price_cm(3680.00, 1/12, alpha = 1.5)\n",
        "    return abs(market_price - ans)\n",
        "\n",
        "guess_g=[1,5,2,0.1,0.01]\n",
        "minimum2.append(optimize.fmin(g17,guess_g,maxfun=400000000000,maxiter=400000000000,ftol=1e-50,xtol=1e-12))\n",
        "\n",
        "def g18(params):\n",
        "    C,G,M,Y,r = params\n",
        "    market_price = 42.2\n",
        "    CGMY = CGMY2(3638.35,M,Y,C,G,r)\n",
        "    ftc1 = FTCall(CGMY)\n",
        "    ans = ftc1.price_cm(3685.00, 1/12, alpha = 1.5)\n",
        "    return abs(market_price - ans)\n",
        "\n",
        "guess_g=[1,5,2,0.1,0.01]\n",
        "minimum2.append(optimize.fmin(g18,guess_g,maxfun=400000000000,maxiter=400000000000,ftol=1e-50,xtol=1e-12))\n",
        "\n",
        "def g19(params):\n",
        "    C,G,M,Y,r = params\n",
        "    market_price = 40.0\n",
        "    CGMY = CGMY2(3638.35,M,Y,C,G,r)\n",
        "    ftc1 = FTCall(CGMY)\n",
        "    ans = ftc1.price_cm(3690.00, 1/12, alpha = 1.5)\n",
        "    return abs(market_price - ans)\n",
        "\n",
        "guess_g=[1,5,2,0.1,0.01]\n",
        "minimum2.append(optimize.fmin(g19,guess_g,maxfun=400000000000,maxiter=400000000000,ftol=1e-50,xtol=1e-12))\n",
        "\n",
        "def g20(params):\n",
        "    C,G,M,Y,r = params\n",
        "    market_price = 37.8\n",
        "    CGMY = CGMY2(3638.35,M,Y,C,G,r)\n",
        "    ftc1 = FTCall(CGMY)\n",
        "    ans = ftc1.price_cm(3695.00, 1/12, alpha = 1.5)\n",
        "    return abs(market_price - ans)\n",
        "\n",
        "guess_g=[1,5,2,0.1,0.01]\n",
        "minimum2.append(optimize.fmin(g20,guess_g,maxfun=400000000000,maxiter=400000000000,ftol=1e-50,xtol=1e-12))\n",
        "\n",
        "def g21(params):\n",
        "    C,G,M,Y,r = params\n",
        "    market_price = 35.7\n",
        "    CGMY = CGMY2(3638.35,M,Y,C,G,r)\n",
        "    ftc1 = FTCall(CGMY)\n",
        "    ans = ftc1.price_cm(3700.00, 1/12, alpha = 1.5)\n",
        "    return abs(market_price - ans)\n",
        "\n",
        "guess_g=[1,5,2,0.1,0.01]\n",
        "minimum2.append(optimize.fmin(g21,guess_g,maxfun=400000000000,maxiter=400000000000,ftol=1e-50,xtol=1e-12))\n",
        "\n",
        "minimum2"
      ],
      "execution_count": 87,
      "outputs": [
        {
          "output_type": "stream",
          "text": [
            "/usr/local/lib/python3.6/dist-packages/ipykernel_launcher.py:17: IntegrationWarning: The maximum number of subdivisions (50) has been achieved.\n",
            "  If increasing the limit yields no improvement it is advised to analyze \n",
            "  the integrand in order to determine the difficulties.  If the position of a \n",
            "  local difficulty can be determined (singularity, discontinuity) one will \n",
            "  probably gain from splitting up the interval and calling the integrator \n",
            "  on the subranges.  Perhaps a special-purpose integrator should be used.\n"
          ],
          "name": "stderr"
        },
        {
          "output_type": "stream",
          "text": [
            "Optimization terminated successfully.\n",
            "         Current function value: 0.000000\n",
            "         Iterations: 268\n",
            "         Function evaluations: 568\n",
            "Optimization terminated successfully.\n",
            "         Current function value: 0.000000\n",
            "         Iterations: 260\n",
            "         Function evaluations: 533\n",
            "Optimization terminated successfully.\n",
            "         Current function value: 0.000000\n",
            "         Iterations: 262\n",
            "         Function evaluations: 537\n",
            "Optimization terminated successfully.\n",
            "         Current function value: 0.000000\n",
            "         Iterations: 264\n",
            "         Function evaluations: 539\n",
            "Optimization terminated successfully.\n",
            "         Current function value: 0.000000\n",
            "         Iterations: 259\n",
            "         Function evaluations: 528\n"
          ],
          "name": "stdout"
        },
        {
          "output_type": "error",
          "ename": "KeyboardInterrupt",
          "evalue": "ignored",
          "traceback": [
            "\u001b[0;31m---------------------------------------------------------------------------\u001b[0m",
            "\u001b[0;31mKeyboardInterrupt\u001b[0m                         Traceback (most recent call last)",
            "\u001b[0;32m<ipython-input-87-97ea2f11ca9f>\u001b[0m in \u001b[0;36m<module>\u001b[0;34m()\u001b[0m\n\u001b[1;32m     64\u001b[0m \u001b[0;34m\u001b[0m\u001b[0m\n\u001b[1;32m     65\u001b[0m \u001b[0mguess_g\u001b[0m\u001b[0;34m=\u001b[0m\u001b[0;34m[\u001b[0m\u001b[0;36m1\u001b[0m\u001b[0;34m,\u001b[0m\u001b[0;36m5\u001b[0m\u001b[0;34m,\u001b[0m\u001b[0;36m2\u001b[0m\u001b[0;34m,\u001b[0m\u001b[0;36m0.1\u001b[0m\u001b[0;34m,\u001b[0m\u001b[0;36m0.01\u001b[0m\u001b[0;34m]\u001b[0m\u001b[0;34m\u001b[0m\u001b[0;34m\u001b[0m\u001b[0m\n\u001b[0;32m---> 66\u001b[0;31m \u001b[0mminimum2\u001b[0m\u001b[0;34m.\u001b[0m\u001b[0mappend\u001b[0m\u001b[0;34m(\u001b[0m\u001b[0moptimize\u001b[0m\u001b[0;34m.\u001b[0m\u001b[0mfmin\u001b[0m\u001b[0;34m(\u001b[0m\u001b[0mg6\u001b[0m\u001b[0;34m,\u001b[0m\u001b[0mguess_g\u001b[0m\u001b[0;34m,\u001b[0m\u001b[0mmaxfun\u001b[0m\u001b[0;34m=\u001b[0m\u001b[0;36m400000000000\u001b[0m\u001b[0;34m,\u001b[0m\u001b[0mmaxiter\u001b[0m\u001b[0;34m=\u001b[0m\u001b[0;36m400000000000\u001b[0m\u001b[0;34m,\u001b[0m\u001b[0mftol\u001b[0m\u001b[0;34m=\u001b[0m\u001b[0;36m1e-50\u001b[0m\u001b[0;34m,\u001b[0m\u001b[0mxtol\u001b[0m\u001b[0;34m=\u001b[0m\u001b[0;36m1e-12\u001b[0m\u001b[0;34m)\u001b[0m\u001b[0;34m)\u001b[0m\u001b[0;34m\u001b[0m\u001b[0;34m\u001b[0m\u001b[0m\n\u001b[0m\u001b[1;32m     67\u001b[0m \u001b[0;34m\u001b[0m\u001b[0m\n\u001b[1;32m     68\u001b[0m \u001b[0;32mdef\u001b[0m \u001b[0mg7\u001b[0m\u001b[0;34m(\u001b[0m\u001b[0mparams\u001b[0m\u001b[0;34m)\u001b[0m\u001b[0;34m:\u001b[0m\u001b[0;34m\u001b[0m\u001b[0;34m\u001b[0m\u001b[0m\n",
            "\u001b[0;32m/usr/local/lib/python3.6/dist-packages/scipy/optimize/optimize.py\u001b[0m in \u001b[0;36mfmin\u001b[0;34m(func, x0, args, xtol, ftol, maxiter, maxfun, full_output, disp, retall, callback, initial_simplex)\u001b[0m\n\u001b[1;32m    441\u001b[0m             'initial_simplex': initial_simplex}\n\u001b[1;32m    442\u001b[0m \u001b[0;34m\u001b[0m\u001b[0m\n\u001b[0;32m--> 443\u001b[0;31m     \u001b[0mres\u001b[0m \u001b[0;34m=\u001b[0m \u001b[0m_minimize_neldermead\u001b[0m\u001b[0;34m(\u001b[0m\u001b[0mfunc\u001b[0m\u001b[0;34m,\u001b[0m \u001b[0mx0\u001b[0m\u001b[0;34m,\u001b[0m \u001b[0margs\u001b[0m\u001b[0;34m,\u001b[0m \u001b[0mcallback\u001b[0m\u001b[0;34m=\u001b[0m\u001b[0mcallback\u001b[0m\u001b[0;34m,\u001b[0m \u001b[0;34m**\u001b[0m\u001b[0mopts\u001b[0m\u001b[0;34m)\u001b[0m\u001b[0;34m\u001b[0m\u001b[0;34m\u001b[0m\u001b[0m\n\u001b[0m\u001b[1;32m    444\u001b[0m     \u001b[0;32mif\u001b[0m \u001b[0mfull_output\u001b[0m\u001b[0;34m:\u001b[0m\u001b[0;34m\u001b[0m\u001b[0;34m\u001b[0m\u001b[0m\n\u001b[1;32m    445\u001b[0m         \u001b[0mretlist\u001b[0m \u001b[0;34m=\u001b[0m \u001b[0mres\u001b[0m\u001b[0;34m[\u001b[0m\u001b[0;34m'x'\u001b[0m\u001b[0;34m]\u001b[0m\u001b[0;34m,\u001b[0m \u001b[0mres\u001b[0m\u001b[0;34m[\u001b[0m\u001b[0;34m'fun'\u001b[0m\u001b[0;34m]\u001b[0m\u001b[0;34m,\u001b[0m \u001b[0mres\u001b[0m\u001b[0;34m[\u001b[0m\u001b[0;34m'nit'\u001b[0m\u001b[0;34m]\u001b[0m\u001b[0;34m,\u001b[0m \u001b[0mres\u001b[0m\u001b[0;34m[\u001b[0m\u001b[0;34m'nfev'\u001b[0m\u001b[0;34m]\u001b[0m\u001b[0;34m,\u001b[0m \u001b[0mres\u001b[0m\u001b[0;34m[\u001b[0m\u001b[0;34m'status'\u001b[0m\u001b[0;34m]\u001b[0m\u001b[0;34m\u001b[0m\u001b[0;34m\u001b[0m\u001b[0m\n",
            "\u001b[0;32m/usr/local/lib/python3.6/dist-packages/scipy/optimize/optimize.py\u001b[0m in \u001b[0;36m_minimize_neldermead\u001b[0;34m(func, x0, args, callback, maxiter, maxfev, disp, return_all, initial_simplex, xatol, fatol, adaptive, **unknown_options)\u001b[0m\n\u001b[1;32m    642\u001b[0m                     \u001b[0;32mfor\u001b[0m \u001b[0mj\u001b[0m \u001b[0;32min\u001b[0m \u001b[0mone2np1\u001b[0m\u001b[0;34m:\u001b[0m\u001b[0;34m\u001b[0m\u001b[0;34m\u001b[0m\u001b[0m\n\u001b[1;32m    643\u001b[0m                         \u001b[0msim\u001b[0m\u001b[0;34m[\u001b[0m\u001b[0mj\u001b[0m\u001b[0;34m]\u001b[0m \u001b[0;34m=\u001b[0m \u001b[0msim\u001b[0m\u001b[0;34m[\u001b[0m\u001b[0;36m0\u001b[0m\u001b[0;34m]\u001b[0m \u001b[0;34m+\u001b[0m \u001b[0msigma\u001b[0m \u001b[0;34m*\u001b[0m \u001b[0;34m(\u001b[0m\u001b[0msim\u001b[0m\u001b[0;34m[\u001b[0m\u001b[0mj\u001b[0m\u001b[0;34m]\u001b[0m \u001b[0;34m-\u001b[0m \u001b[0msim\u001b[0m\u001b[0;34m[\u001b[0m\u001b[0;36m0\u001b[0m\u001b[0;34m]\u001b[0m\u001b[0;34m)\u001b[0m\u001b[0;34m\u001b[0m\u001b[0;34m\u001b[0m\u001b[0m\n\u001b[0;32m--> 644\u001b[0;31m                         \u001b[0mfsim\u001b[0m\u001b[0;34m[\u001b[0m\u001b[0mj\u001b[0m\u001b[0;34m]\u001b[0m \u001b[0;34m=\u001b[0m \u001b[0mfunc\u001b[0m\u001b[0;34m(\u001b[0m\u001b[0msim\u001b[0m\u001b[0;34m[\u001b[0m\u001b[0mj\u001b[0m\u001b[0;34m]\u001b[0m\u001b[0;34m)\u001b[0m\u001b[0;34m\u001b[0m\u001b[0;34m\u001b[0m\u001b[0m\n\u001b[0m\u001b[1;32m    645\u001b[0m \u001b[0;34m\u001b[0m\u001b[0m\n\u001b[1;32m    646\u001b[0m         \u001b[0mind\u001b[0m \u001b[0;34m=\u001b[0m \u001b[0mnumpy\u001b[0m\u001b[0;34m.\u001b[0m\u001b[0margsort\u001b[0m\u001b[0;34m(\u001b[0m\u001b[0mfsim\u001b[0m\u001b[0;34m)\u001b[0m\u001b[0;34m\u001b[0m\u001b[0;34m\u001b[0m\u001b[0m\n",
            "\u001b[0;32m/usr/local/lib/python3.6/dist-packages/scipy/optimize/optimize.py\u001b[0m in \u001b[0;36mfunction_wrapper\u001b[0;34m(*wrapper_args)\u001b[0m\n\u001b[1;32m    325\u001b[0m     \u001b[0;32mdef\u001b[0m \u001b[0mfunction_wrapper\u001b[0m\u001b[0;34m(\u001b[0m\u001b[0;34m*\u001b[0m\u001b[0mwrapper_args\u001b[0m\u001b[0;34m)\u001b[0m\u001b[0;34m:\u001b[0m\u001b[0;34m\u001b[0m\u001b[0;34m\u001b[0m\u001b[0m\n\u001b[1;32m    326\u001b[0m         \u001b[0mncalls\u001b[0m\u001b[0;34m[\u001b[0m\u001b[0;36m0\u001b[0m\u001b[0;34m]\u001b[0m \u001b[0;34m+=\u001b[0m \u001b[0;36m1\u001b[0m\u001b[0;34m\u001b[0m\u001b[0;34m\u001b[0m\u001b[0m\n\u001b[0;32m--> 327\u001b[0;31m         \u001b[0;32mreturn\u001b[0m \u001b[0mfunction\u001b[0m\u001b[0;34m(\u001b[0m\u001b[0;34m*\u001b[0m\u001b[0;34m(\u001b[0m\u001b[0mwrapper_args\u001b[0m \u001b[0;34m+\u001b[0m \u001b[0margs\u001b[0m\u001b[0;34m)\u001b[0m\u001b[0;34m)\u001b[0m\u001b[0;34m\u001b[0m\u001b[0;34m\u001b[0m\u001b[0m\n\u001b[0m\u001b[1;32m    328\u001b[0m \u001b[0;34m\u001b[0m\u001b[0m\n\u001b[1;32m    329\u001b[0m     \u001b[0;32mreturn\u001b[0m \u001b[0mncalls\u001b[0m\u001b[0;34m,\u001b[0m \u001b[0mfunction_wrapper\u001b[0m\u001b[0;34m\u001b[0m\u001b[0;34m\u001b[0m\u001b[0m\n",
            "\u001b[0;32m<ipython-input-87-97ea2f11ca9f>\u001b[0m in \u001b[0;36mg6\u001b[0;34m(params)\u001b[0m\n\u001b[1;32m     60\u001b[0m     \u001b[0mCGMY\u001b[0m \u001b[0;34m=\u001b[0m \u001b[0mCGMY2\u001b[0m\u001b[0;34m(\u001b[0m\u001b[0;36m3638.35\u001b[0m\u001b[0;34m,\u001b[0m\u001b[0mM\u001b[0m\u001b[0;34m,\u001b[0m\u001b[0mY\u001b[0m\u001b[0;34m,\u001b[0m\u001b[0mC\u001b[0m\u001b[0;34m,\u001b[0m\u001b[0mG\u001b[0m\u001b[0;34m,\u001b[0m\u001b[0mr\u001b[0m\u001b[0;34m)\u001b[0m\u001b[0;34m\u001b[0m\u001b[0;34m\u001b[0m\u001b[0m\n\u001b[1;32m     61\u001b[0m     \u001b[0mftc1\u001b[0m \u001b[0;34m=\u001b[0m \u001b[0mFTCall\u001b[0m\u001b[0;34m(\u001b[0m\u001b[0mCGMY\u001b[0m\u001b[0;34m)\u001b[0m\u001b[0;34m\u001b[0m\u001b[0;34m\u001b[0m\u001b[0m\n\u001b[0;32m---> 62\u001b[0;31m     \u001b[0mans\u001b[0m \u001b[0;34m=\u001b[0m \u001b[0mftc1\u001b[0m\u001b[0;34m.\u001b[0m\u001b[0mprice_cm\u001b[0m\u001b[0;34m(\u001b[0m\u001b[0;36m3625.00\u001b[0m\u001b[0;34m,\u001b[0m \u001b[0;36m1\u001b[0m\u001b[0;34m/\u001b[0m\u001b[0;36m12\u001b[0m\u001b[0;34m,\u001b[0m \u001b[0malpha\u001b[0m \u001b[0;34m=\u001b[0m \u001b[0;36m1.5\u001b[0m\u001b[0;34m)\u001b[0m\u001b[0;34m\u001b[0m\u001b[0;34m\u001b[0m\u001b[0m\n\u001b[0m\u001b[1;32m     63\u001b[0m     \u001b[0;32mreturn\u001b[0m \u001b[0mabs\u001b[0m\u001b[0;34m(\u001b[0m\u001b[0mmarket_price\u001b[0m \u001b[0;34m-\u001b[0m \u001b[0mans\u001b[0m\u001b[0;34m)\u001b[0m\u001b[0;34m\u001b[0m\u001b[0;34m\u001b[0m\u001b[0m\n\u001b[1;32m     64\u001b[0m \u001b[0;34m\u001b[0m\u001b[0m\n",
            "\u001b[0;32m<ipython-input-2-b40a9c0e21ac>\u001b[0m in \u001b[0;36mprice_cm\u001b[0;34m(self, K, T, alpha)\u001b[0m\n\u001b[1;32m     15\u001b[0m         \u001b[0mk\u001b[0m \u001b[0;34m=\u001b[0m \u001b[0mnp\u001b[0m\u001b[0;34m.\u001b[0m\u001b[0mlog\u001b[0m\u001b[0;34m(\u001b[0m\u001b[0mK\u001b[0m\u001b[0;34m)\u001b[0m\u001b[0;34m\u001b[0m\u001b[0;34m\u001b[0m\u001b[0m\n\u001b[1;32m     16\u001b[0m         \u001b[0mintegrand\u001b[0m \u001b[0;34m=\u001b[0m \u001b[0;32mlambda\u001b[0m \u001b[0mw\u001b[0m\u001b[0;34m:\u001b[0m \u001b[0;34m(\u001b[0m\u001b[0mnp\u001b[0m\u001b[0;34m.\u001b[0m\u001b[0mexp\u001b[0m\u001b[0;34m(\u001b[0m\u001b[0;34m-\u001b[0m\u001b[0;36m1j\u001b[0m\u001b[0;34m*\u001b[0m\u001b[0mw\u001b[0m\u001b[0;34m*\u001b[0m\u001b[0mk\u001b[0m\u001b[0;34m)\u001b[0m\u001b[0;34m*\u001b[0m\u001b[0mself\u001b[0m\u001b[0;34m.\u001b[0m\u001b[0mpsi\u001b[0m\u001b[0;34m(\u001b[0m\u001b[0mw\u001b[0m\u001b[0;34m,\u001b[0m \u001b[0mT\u001b[0m\u001b[0;34m,\u001b[0m \u001b[0malpha\u001b[0m\u001b[0;34m)\u001b[0m\u001b[0;34m)\u001b[0m\u001b[0;34m.\u001b[0m\u001b[0mreal\u001b[0m\u001b[0;34m\u001b[0m\u001b[0;34m\u001b[0m\u001b[0m\n\u001b[0;32m---> 17\u001b[0;31m         \u001b[0mintegral\u001b[0m \u001b[0;34m=\u001b[0m \u001b[0mquad\u001b[0m\u001b[0;34m(\u001b[0m\u001b[0mintegrand\u001b[0m\u001b[0;34m,\u001b[0m \u001b[0;36m0\u001b[0m\u001b[0;34m,\u001b[0m \u001b[0mnp\u001b[0m\u001b[0;34m.\u001b[0m\u001b[0minf\u001b[0m\u001b[0;34m)\u001b[0m\u001b[0;34m[\u001b[0m\u001b[0;36m0\u001b[0m\u001b[0;34m]\u001b[0m\u001b[0;34m\u001b[0m\u001b[0;34m\u001b[0m\u001b[0m\n\u001b[0m\u001b[1;32m     18\u001b[0m         \u001b[0;32mreturn\u001b[0m \u001b[0mnp\u001b[0m\u001b[0;34m.\u001b[0m\u001b[0mexp\u001b[0m\u001b[0;34m(\u001b[0m\u001b[0;34m-\u001b[0m\u001b[0malpha\u001b[0m\u001b[0;34m*\u001b[0m\u001b[0mk\u001b[0m\u001b[0;34m)\u001b[0m\u001b[0;34m/\u001b[0m\u001b[0mnp\u001b[0m\u001b[0;34m.\u001b[0m\u001b[0mpi\u001b[0m\u001b[0;34m*\u001b[0m\u001b[0mintegral\u001b[0m\u001b[0;34m\u001b[0m\u001b[0;34m\u001b[0m\u001b[0m\n",
            "\u001b[0;32m/usr/local/lib/python3.6/dist-packages/scipy/integrate/quadpack.py\u001b[0m in \u001b[0;36mquad\u001b[0;34m(func, a, b, args, full_output, epsabs, epsrel, limit, points, weight, wvar, wopts, maxp1, limlst)\u001b[0m\n\u001b[1;32m    340\u001b[0m     \u001b[0;32mif\u001b[0m \u001b[0mweight\u001b[0m \u001b[0;32mis\u001b[0m \u001b[0;32mNone\u001b[0m\u001b[0;34m:\u001b[0m\u001b[0;34m\u001b[0m\u001b[0;34m\u001b[0m\u001b[0m\n\u001b[1;32m    341\u001b[0m         retval = _quad(func, a, b, args, full_output, epsabs, epsrel, limit,\n\u001b[0;32m--> 342\u001b[0;31m                        points)\n\u001b[0m\u001b[1;32m    343\u001b[0m     \u001b[0;32melse\u001b[0m\u001b[0;34m:\u001b[0m\u001b[0;34m\u001b[0m\u001b[0;34m\u001b[0m\u001b[0m\n\u001b[1;32m    344\u001b[0m         \u001b[0;32mif\u001b[0m \u001b[0mpoints\u001b[0m \u001b[0;32mis\u001b[0m \u001b[0;32mnot\u001b[0m \u001b[0;32mNone\u001b[0m\u001b[0;34m:\u001b[0m\u001b[0;34m\u001b[0m\u001b[0;34m\u001b[0m\u001b[0m\n",
            "\u001b[0;32m/usr/local/lib/python3.6/dist-packages/scipy/integrate/quadpack.py\u001b[0m in \u001b[0;36m_quad\u001b[0;34m(func, a, b, args, full_output, epsabs, epsrel, limit, points)\u001b[0m\n\u001b[1;32m    453\u001b[0m             \u001b[0;32mreturn\u001b[0m \u001b[0m_quadpack\u001b[0m\u001b[0;34m.\u001b[0m\u001b[0m_qagse\u001b[0m\u001b[0;34m(\u001b[0m\u001b[0mfunc\u001b[0m\u001b[0;34m,\u001b[0m\u001b[0ma\u001b[0m\u001b[0;34m,\u001b[0m\u001b[0mb\u001b[0m\u001b[0;34m,\u001b[0m\u001b[0margs\u001b[0m\u001b[0;34m,\u001b[0m\u001b[0mfull_output\u001b[0m\u001b[0;34m,\u001b[0m\u001b[0mepsabs\u001b[0m\u001b[0;34m,\u001b[0m\u001b[0mepsrel\u001b[0m\u001b[0;34m,\u001b[0m\u001b[0mlimit\u001b[0m\u001b[0;34m)\u001b[0m\u001b[0;34m\u001b[0m\u001b[0;34m\u001b[0m\u001b[0m\n\u001b[1;32m    454\u001b[0m         \u001b[0;32melse\u001b[0m\u001b[0;34m:\u001b[0m\u001b[0;34m\u001b[0m\u001b[0;34m\u001b[0m\u001b[0m\n\u001b[0;32m--> 455\u001b[0;31m             \u001b[0;32mreturn\u001b[0m \u001b[0m_quadpack\u001b[0m\u001b[0;34m.\u001b[0m\u001b[0m_qagie\u001b[0m\u001b[0;34m(\u001b[0m\u001b[0mfunc\u001b[0m\u001b[0;34m,\u001b[0m\u001b[0mbound\u001b[0m\u001b[0;34m,\u001b[0m\u001b[0minfbounds\u001b[0m\u001b[0;34m,\u001b[0m\u001b[0margs\u001b[0m\u001b[0;34m,\u001b[0m\u001b[0mfull_output\u001b[0m\u001b[0;34m,\u001b[0m\u001b[0mepsabs\u001b[0m\u001b[0;34m,\u001b[0m\u001b[0mepsrel\u001b[0m\u001b[0;34m,\u001b[0m\u001b[0mlimit\u001b[0m\u001b[0;34m)\u001b[0m\u001b[0;34m\u001b[0m\u001b[0;34m\u001b[0m\u001b[0m\n\u001b[0m\u001b[1;32m    456\u001b[0m     \u001b[0;32melse\u001b[0m\u001b[0;34m:\u001b[0m\u001b[0;34m\u001b[0m\u001b[0;34m\u001b[0m\u001b[0m\n\u001b[1;32m    457\u001b[0m         \u001b[0;32mif\u001b[0m \u001b[0minfbounds\u001b[0m \u001b[0;34m!=\u001b[0m \u001b[0;36m0\u001b[0m\u001b[0;34m:\u001b[0m\u001b[0;34m\u001b[0m\u001b[0;34m\u001b[0m\u001b[0m\n",
            "\u001b[0;32m<ipython-input-2-b40a9c0e21ac>\u001b[0m in \u001b[0;36m<lambda>\u001b[0;34m(w)\u001b[0m\n\u001b[1;32m     14\u001b[0m     \u001b[0;32mdef\u001b[0m \u001b[0mprice_cm\u001b[0m\u001b[0;34m(\u001b[0m\u001b[0mself\u001b[0m\u001b[0;34m,\u001b[0m \u001b[0mK\u001b[0m\u001b[0;34m,\u001b[0m \u001b[0mT\u001b[0m\u001b[0;34m,\u001b[0m \u001b[0malpha\u001b[0m \u001b[0;34m=\u001b[0m \u001b[0;36m1.5\u001b[0m\u001b[0;34m)\u001b[0m\u001b[0;34m:\u001b[0m\u001b[0;34m\u001b[0m\u001b[0;34m\u001b[0m\u001b[0m\n\u001b[1;32m     15\u001b[0m         \u001b[0mk\u001b[0m \u001b[0;34m=\u001b[0m \u001b[0mnp\u001b[0m\u001b[0;34m.\u001b[0m\u001b[0mlog\u001b[0m\u001b[0;34m(\u001b[0m\u001b[0mK\u001b[0m\u001b[0;34m)\u001b[0m\u001b[0;34m\u001b[0m\u001b[0;34m\u001b[0m\u001b[0m\n\u001b[0;32m---> 16\u001b[0;31m         \u001b[0mintegrand\u001b[0m \u001b[0;34m=\u001b[0m \u001b[0;32mlambda\u001b[0m \u001b[0mw\u001b[0m\u001b[0;34m:\u001b[0m \u001b[0;34m(\u001b[0m\u001b[0mnp\u001b[0m\u001b[0;34m.\u001b[0m\u001b[0mexp\u001b[0m\u001b[0;34m(\u001b[0m\u001b[0;34m-\u001b[0m\u001b[0;36m1j\u001b[0m\u001b[0;34m*\u001b[0m\u001b[0mw\u001b[0m\u001b[0;34m*\u001b[0m\u001b[0mk\u001b[0m\u001b[0;34m)\u001b[0m\u001b[0;34m*\u001b[0m\u001b[0mself\u001b[0m\u001b[0;34m.\u001b[0m\u001b[0mpsi\u001b[0m\u001b[0;34m(\u001b[0m\u001b[0mw\u001b[0m\u001b[0;34m,\u001b[0m \u001b[0mT\u001b[0m\u001b[0;34m,\u001b[0m \u001b[0malpha\u001b[0m\u001b[0;34m)\u001b[0m\u001b[0;34m)\u001b[0m\u001b[0;34m.\u001b[0m\u001b[0mreal\u001b[0m\u001b[0;34m\u001b[0m\u001b[0;34m\u001b[0m\u001b[0m\n\u001b[0m\u001b[1;32m     17\u001b[0m         \u001b[0mintegral\u001b[0m \u001b[0;34m=\u001b[0m \u001b[0mquad\u001b[0m\u001b[0;34m(\u001b[0m\u001b[0mintegrand\u001b[0m\u001b[0;34m,\u001b[0m \u001b[0;36m0\u001b[0m\u001b[0;34m,\u001b[0m \u001b[0mnp\u001b[0m\u001b[0;34m.\u001b[0m\u001b[0minf\u001b[0m\u001b[0;34m)\u001b[0m\u001b[0;34m[\u001b[0m\u001b[0;36m0\u001b[0m\u001b[0;34m]\u001b[0m\u001b[0;34m\u001b[0m\u001b[0;34m\u001b[0m\u001b[0m\n\u001b[1;32m     18\u001b[0m         \u001b[0;32mreturn\u001b[0m \u001b[0mnp\u001b[0m\u001b[0;34m.\u001b[0m\u001b[0mexp\u001b[0m\u001b[0;34m(\u001b[0m\u001b[0;34m-\u001b[0m\u001b[0malpha\u001b[0m\u001b[0;34m*\u001b[0m\u001b[0mk\u001b[0m\u001b[0;34m)\u001b[0m\u001b[0;34m/\u001b[0m\u001b[0mnp\u001b[0m\u001b[0;34m.\u001b[0m\u001b[0mpi\u001b[0m\u001b[0;34m*\u001b[0m\u001b[0mintegral\u001b[0m\u001b[0;34m\u001b[0m\u001b[0;34m\u001b[0m\u001b[0m\n",
            "\u001b[0;32m<ipython-input-2-b40a9c0e21ac>\u001b[0m in \u001b[0;36mpsi\u001b[0;34m(self, w, T, alpha)\u001b[0m\n\u001b[1;32m      7\u001b[0m     \u001b[0;32mdef\u001b[0m \u001b[0mpsi\u001b[0m\u001b[0;34m(\u001b[0m\u001b[0mself\u001b[0m\u001b[0;34m,\u001b[0m \u001b[0mw\u001b[0m\u001b[0;34m,\u001b[0m \u001b[0mT\u001b[0m\u001b[0;34m,\u001b[0m \u001b[0malpha\u001b[0m\u001b[0;34m)\u001b[0m\u001b[0;34m:\u001b[0m\u001b[0;34m\u001b[0m\u001b[0;34m\u001b[0m\u001b[0m\n\u001b[1;32m      8\u001b[0m         \u001b[0mo1\u001b[0m \u001b[0;34m=\u001b[0m \u001b[0mnp\u001b[0m\u001b[0;34m.\u001b[0m\u001b[0mexp\u001b[0m\u001b[0;34m(\u001b[0m\u001b[0;34m-\u001b[0m\u001b[0mself\u001b[0m\u001b[0;34m.\u001b[0m\u001b[0mmd\u001b[0m\u001b[0;34m.\u001b[0m\u001b[0mr\u001b[0m\u001b[0;34m*\u001b[0m\u001b[0mT\u001b[0m\u001b[0;34m)\u001b[0m\u001b[0;34m\u001b[0m\u001b[0;34m\u001b[0m\u001b[0m\n\u001b[0;32m----> 9\u001b[0;31m         \u001b[0mo1\u001b[0m \u001b[0;34m=\u001b[0m \u001b[0mo1\u001b[0m\u001b[0;34m*\u001b[0m\u001b[0mself\u001b[0m\u001b[0;34m.\u001b[0m\u001b[0mmd\u001b[0m\u001b[0;34m.\u001b[0m\u001b[0mcharfun\u001b[0m\u001b[0;34m(\u001b[0m\u001b[0mT\u001b[0m\u001b[0;34m,\u001b[0m \u001b[0mw\u001b[0m \u001b[0;34m-\u001b[0m \u001b[0;34m(\u001b[0m\u001b[0malpha\u001b[0m\u001b[0;34m+\u001b[0m\u001b[0;36m1\u001b[0m\u001b[0;34m)\u001b[0m\u001b[0;34m*\u001b[0m\u001b[0;36m1j\u001b[0m\u001b[0;34m)\u001b[0m\u001b[0;34m\u001b[0m\u001b[0;34m\u001b[0m\u001b[0m\n\u001b[0m\u001b[1;32m     10\u001b[0m         \u001b[0mo2\u001b[0m \u001b[0;34m=\u001b[0m \u001b[0malpha\u001b[0m\u001b[0;34m**\u001b[0m\u001b[0;36m2\u001b[0m\u001b[0;34m+\u001b[0m\u001b[0malpha\u001b[0m\u001b[0;34m-\u001b[0m\u001b[0mw\u001b[0m\u001b[0;34m**\u001b[0m\u001b[0;36m2\u001b[0m\u001b[0;34m+\u001b[0m\u001b[0;36m1j\u001b[0m\u001b[0;34m*\u001b[0m\u001b[0;34m(\u001b[0m\u001b[0;36m2\u001b[0m\u001b[0;34m*\u001b[0m\u001b[0malpha\u001b[0m\u001b[0;34m+\u001b[0m\u001b[0;36m1.\u001b[0m\u001b[0;34m)\u001b[0m\u001b[0;34m*\u001b[0m\u001b[0mw\u001b[0m\u001b[0;34m\u001b[0m\u001b[0;34m\u001b[0m\u001b[0m\n\u001b[1;32m     11\u001b[0m         \u001b[0;32mreturn\u001b[0m \u001b[0mo1\u001b[0m\u001b[0;34m/\u001b[0m\u001b[0mo2\u001b[0m\u001b[0;34m\u001b[0m\u001b[0;34m\u001b[0m\u001b[0m\n",
            "\u001b[0;32m<ipython-input-13-394b1e728ceb>\u001b[0m in \u001b[0;36mcharfun\u001b[0;34m(self, T, u)\u001b[0m\n\u001b[1;32m      9\u001b[0m     \u001b[0;32mdef\u001b[0m \u001b[0mcharfun\u001b[0m\u001b[0;34m(\u001b[0m\u001b[0mself\u001b[0m\u001b[0;34m,\u001b[0m \u001b[0mT\u001b[0m\u001b[0;34m,\u001b[0m \u001b[0mu\u001b[0m\u001b[0;34m)\u001b[0m\u001b[0;34m:\u001b[0m\u001b[0;34m\u001b[0m\u001b[0;34m\u001b[0m\u001b[0m\n\u001b[1;32m     10\u001b[0m         \u001b[0mgamma\u001b[0m \u001b[0;34m=\u001b[0m \u001b[0mmath\u001b[0m\u001b[0;34m.\u001b[0m\u001b[0mgamma\u001b[0m\u001b[0;34m(\u001b[0m\u001b[0;34m-\u001b[0m\u001b[0;34m(\u001b[0m\u001b[0mself\u001b[0m\u001b[0;34m.\u001b[0m\u001b[0mY\u001b[0m\u001b[0;34m)\u001b[0m\u001b[0;34m)\u001b[0m\u001b[0;34m\u001b[0m\u001b[0;34m\u001b[0m\u001b[0m\n\u001b[0;32m---> 11\u001b[0;31m         \u001b[0mbeta\u001b[0m \u001b[0;34m=\u001b[0m \u001b[0mself\u001b[0m\u001b[0;34m.\u001b[0m\u001b[0mC\u001b[0m\u001b[0;34m*\u001b[0m\u001b[0;34m(\u001b[0m\u001b[0mself\u001b[0m\u001b[0;34m.\u001b[0m\u001b[0mG\u001b[0m\u001b[0;34m**\u001b[0m\u001b[0mself\u001b[0m\u001b[0;34m.\u001b[0m\u001b[0mY\u001b[0m\u001b[0;34m)\u001b[0m\u001b[0;34m*\u001b[0m\u001b[0mgamma\u001b[0m\u001b[0;34m*\u001b[0m\u001b[0;34m(\u001b[0m\u001b[0;34m(\u001b[0m\u001b[0;36m1\u001b[0m\u001b[0;34m+\u001b[0m\u001b[0;36m1\u001b[0m\u001b[0;34m/\u001b[0m\u001b[0mself\u001b[0m\u001b[0;34m.\u001b[0m\u001b[0mG\u001b[0m\u001b[0;34m)\u001b[0m\u001b[0;34m**\u001b[0m\u001b[0mself\u001b[0m\u001b[0;34m.\u001b[0m\u001b[0mY\u001b[0m\u001b[0;34m-\u001b[0m\u001b[0;36m1\u001b[0m\u001b[0;34m-\u001b[0m\u001b[0mself\u001b[0m\u001b[0;34m.\u001b[0m\u001b[0mY\u001b[0m\u001b[0;34m/\u001b[0m\u001b[0mself\u001b[0m\u001b[0;34m.\u001b[0m\u001b[0mG\u001b[0m\u001b[0;34m)\u001b[0m \u001b[0;34m+\u001b[0m \u001b[0mself\u001b[0m\u001b[0;34m.\u001b[0m\u001b[0mC\u001b[0m\u001b[0;34m*\u001b[0m\u001b[0;34m(\u001b[0m\u001b[0mself\u001b[0m\u001b[0;34m.\u001b[0m\u001b[0mM\u001b[0m\u001b[0;34m**\u001b[0m\u001b[0mself\u001b[0m\u001b[0;34m.\u001b[0m\u001b[0mY\u001b[0m\u001b[0;34m)\u001b[0m\u001b[0;34m*\u001b[0m\u001b[0mgamma\u001b[0m\u001b[0;34m*\u001b[0m\u001b[0;34m(\u001b[0m\u001b[0;34m(\u001b[0m\u001b[0;36m1\u001b[0m\u001b[0;34m-\u001b[0m\u001b[0;36m1\u001b[0m\u001b[0;34m/\u001b[0m\u001b[0mself\u001b[0m\u001b[0;34m.\u001b[0m\u001b[0mM\u001b[0m\u001b[0;34m)\u001b[0m\u001b[0;34m**\u001b[0m\u001b[0mself\u001b[0m\u001b[0;34m.\u001b[0m\u001b[0mY\u001b[0m\u001b[0;34m-\u001b[0m\u001b[0;36m1\u001b[0m\u001b[0;34m+\u001b[0m\u001b[0mself\u001b[0m\u001b[0;34m.\u001b[0m\u001b[0mY\u001b[0m\u001b[0;34m/\u001b[0m\u001b[0mself\u001b[0m\u001b[0;34m.\u001b[0m\u001b[0mM\u001b[0m\u001b[0;34m)\u001b[0m\u001b[0;34m\u001b[0m\u001b[0;34m\u001b[0m\u001b[0m\n\u001b[0m\u001b[1;32m     12\u001b[0m         \u001b[0mf1\u001b[0m \u001b[0;34m=\u001b[0m \u001b[0;34m(\u001b[0m\u001b[0mnp\u001b[0m\u001b[0;34m.\u001b[0m\u001b[0me\u001b[0m\u001b[0;34m)\u001b[0m\u001b[0;34m**\u001b[0m\u001b[0;34m(\u001b[0m\u001b[0;36m1j\u001b[0m\u001b[0;34m*\u001b[0m\u001b[0mu\u001b[0m\u001b[0;34m*\u001b[0m\u001b[0mnp\u001b[0m\u001b[0;34m.\u001b[0m\u001b[0mlog\u001b[0m\u001b[0;34m(\u001b[0m\u001b[0mself\u001b[0m\u001b[0;34m.\u001b[0m\u001b[0mS0\u001b[0m\u001b[0;34m)\u001b[0m\u001b[0;34m+\u001b[0m\u001b[0;34m(\u001b[0m\u001b[0mself\u001b[0m\u001b[0;34m.\u001b[0m\u001b[0mr\u001b[0m\u001b[0;34m-\u001b[0m\u001b[0mbeta\u001b[0m\u001b[0;34m)\u001b[0m\u001b[0;34m*\u001b[0m\u001b[0mT\u001b[0m\u001b[0;34m)\u001b[0m\u001b[0;34m\u001b[0m\u001b[0;34m\u001b[0m\u001b[0m\n\u001b[1;32m     13\u001b[0m         \u001b[0mf2\u001b[0m \u001b[0;34m=\u001b[0m \u001b[0;34m(\u001b[0m\u001b[0mnp\u001b[0m\u001b[0;34m.\u001b[0m\u001b[0me\u001b[0m\u001b[0;34m)\u001b[0m\u001b[0;34m**\u001b[0m\u001b[0;34m(\u001b[0m\u001b[0mself\u001b[0m\u001b[0;34m.\u001b[0m\u001b[0mC\u001b[0m\u001b[0;34m*\u001b[0m\u001b[0;34m(\u001b[0m\u001b[0mself\u001b[0m\u001b[0;34m.\u001b[0m\u001b[0mG\u001b[0m\u001b[0;34m**\u001b[0m\u001b[0mself\u001b[0m\u001b[0;34m.\u001b[0m\u001b[0mY\u001b[0m\u001b[0;34m)\u001b[0m\u001b[0;34m*\u001b[0m\u001b[0mT\u001b[0m\u001b[0;34m*\u001b[0m\u001b[0mgamma\u001b[0m\u001b[0;34m*\u001b[0m\u001b[0;34m(\u001b[0m\u001b[0;34m(\u001b[0m\u001b[0;36m1\u001b[0m\u001b[0;34m+\u001b[0m\u001b[0;36m1j\u001b[0m\u001b[0;34m*\u001b[0m\u001b[0mu\u001b[0m\u001b[0;34m/\u001b[0m\u001b[0mself\u001b[0m\u001b[0;34m.\u001b[0m\u001b[0mG\u001b[0m\u001b[0;34m)\u001b[0m\u001b[0;34m**\u001b[0m\u001b[0mself\u001b[0m\u001b[0;34m.\u001b[0m\u001b[0mY\u001b[0m\u001b[0;34m-\u001b[0m\u001b[0;36m1\u001b[0m\u001b[0;34m-\u001b[0m\u001b[0;36m1j\u001b[0m\u001b[0;34m*\u001b[0m\u001b[0mu\u001b[0m\u001b[0;34m*\u001b[0m\u001b[0mself\u001b[0m\u001b[0;34m.\u001b[0m\u001b[0mY\u001b[0m\u001b[0;34m/\u001b[0m\u001b[0mself\u001b[0m\u001b[0;34m.\u001b[0m\u001b[0mG\u001b[0m\u001b[0;34m)\u001b[0m \u001b[0;34m+\u001b[0m \u001b[0mself\u001b[0m\u001b[0;34m.\u001b[0m\u001b[0mC\u001b[0m\u001b[0;34m*\u001b[0m\u001b[0;34m(\u001b[0m\u001b[0mself\u001b[0m\u001b[0;34m.\u001b[0m\u001b[0mM\u001b[0m\u001b[0;34m**\u001b[0m\u001b[0mself\u001b[0m\u001b[0;34m.\u001b[0m\u001b[0mY\u001b[0m\u001b[0;34m)\u001b[0m\u001b[0;34m*\u001b[0m\u001b[0mT\u001b[0m\u001b[0;34m*\u001b[0m\u001b[0mgamma\u001b[0m\u001b[0;34m*\u001b[0m\u001b[0;34m(\u001b[0m\u001b[0;34m(\u001b[0m\u001b[0;36m1\u001b[0m\u001b[0;34m-\u001b[0m\u001b[0;36m1j\u001b[0m\u001b[0;34m*\u001b[0m\u001b[0mu\u001b[0m\u001b[0;34m/\u001b[0m\u001b[0mself\u001b[0m\u001b[0;34m.\u001b[0m\u001b[0mM\u001b[0m\u001b[0;34m)\u001b[0m\u001b[0;34m**\u001b[0m\u001b[0mself\u001b[0m\u001b[0;34m.\u001b[0m\u001b[0mY\u001b[0m\u001b[0;34m-\u001b[0m\u001b[0;36m1\u001b[0m\u001b[0;34m+\u001b[0m\u001b[0;36m1j\u001b[0m\u001b[0;34m*\u001b[0m\u001b[0mu\u001b[0m\u001b[0;34m*\u001b[0m\u001b[0mself\u001b[0m\u001b[0;34m.\u001b[0m\u001b[0mY\u001b[0m\u001b[0;34m/\u001b[0m\u001b[0mself\u001b[0m\u001b[0;34m.\u001b[0m\u001b[0mM\u001b[0m\u001b[0;34m)\u001b[0m\u001b[0;34m)\u001b[0m\u001b[0;34m\u001b[0m\u001b[0;34m\u001b[0m\u001b[0m\n",
            "\u001b[0;31mKeyboardInterrupt\u001b[0m: "
          ]
        }
      ]
    },
    {
      "cell_type": "code",
      "metadata": {
        "id": "ccYpjA6hSCeD",
        "outputId": "1873eae5-8f9b-4276-cb61-82571238e274",
        "colab": {
          "base_uri": "https://localhost:8080/"
        }
      },
      "source": [
        "market_strike"
      ],
      "execution_count": 119,
      "outputs": [
        {
          "output_type": "execute_result",
          "data": {
            "text/plain": [
              "0     3,600.00\n",
              "1     3,605.00\n",
              "2     3,610.00\n",
              "3     3,615.00\n",
              "4     3,620.00\n",
              "5     3,625.00\n",
              "6     3,630.00\n",
              "7     3,635.00\n",
              "8     3,640.00\n",
              "9     3,645.00\n",
              "10    3,650.00\n",
              "11    3,655.00\n",
              "12    3,660.00\n",
              "13    3,665.00\n",
              "14    3,670.00\n",
              "15    3,675.00\n",
              "16    3,680.00\n",
              "17    3,685.00\n",
              "18    3,690.00\n",
              "19    3,695.00\n",
              "20    3,700.00\n",
              "21         NaN\n",
              "22         NaN\n",
              "23         NaN\n",
              "24         NaN\n",
              "25         NaN\n",
              "26         NaN\n",
              "27         NaN\n",
              "28         NaN\n",
              "29         NaN\n",
              "30         NaN\n",
              "31         NaN\n",
              "Name: 1.00, dtype: object"
            ]
          },
          "metadata": {
            "tags": []
          },
          "execution_count": 119
        }
      ]
    },
    {
      "cell_type": "code",
      "metadata": {
        "id": "DIuPp74rR1b-",
        "outputId": "38918ea2-9745-4606-99ca-9945f7c82aa7",
        "colab": {
          "base_uri": "https://localhost:8080/"
        }
      },
      "source": [
        "market1=[]\n",
        "market2=[3600,3605,3610,3615,3620,3625,3630,3635,3640,3645,3650,3655,3660,3665,3670,3675,3680,3685,3690,3695,3700]\n",
        "for i in range(20):\n",
        "  market1.append(market_price[i])\n"
      ],
      "execution_count": 121,
      "outputs": [
        {
          "output_type": "execute_result",
          "data": {
            "text/plain": [
              "21"
            ]
          },
          "metadata": {
            "tags": []
          },
          "execution_count": 121
        }
      ]
    },
    {
      "cell_type": "code",
      "metadata": {
        "id": "62FFCqjBQRb5",
        "outputId": "cee33bb0-fab6-4e7b-dd67-0bcd3d82a317",
        "colab": {
          "base_uri": "https://localhost:8080/"
        }
      },
      "source": [
        "\n",
        "\n",
        "\n",
        "def g1(params,a,b):\n",
        "    C,G,M,Y,r = params\n",
        "    market_price = a\n",
        "    CGMY = CGMY2(3638.35,M,Y,C,G,r)\n",
        "    ftc1 = FTCall(CGMY)\n",
        "    ans = ftc1.price_cm(b, 1/12, alpha = 1.5)\n",
        "    return abs(market_price - ans)\n",
        "\n",
        "guess_g=[1,5,2,0.1,0.01]\n",
        "minimum2=[]\n",
        "for i in range(20):\n",
        "  minimum2.append(optimize.fmin(g1,guess_g,args=(market1[i],market2[i],),maxfun=400000000,maxiter=400000000,ftol=1e-6,xtol=1e-6))\n"
      ],
      "execution_count": 138,
      "outputs": [
        {
          "output_type": "stream",
          "text": [
            "/usr/local/lib/python3.6/dist-packages/ipykernel_launcher.py:17: IntegrationWarning: The maximum number of subdivisions (50) has been achieved.\n",
            "  If increasing the limit yields no improvement it is advised to analyze \n",
            "  the integrand in order to determine the difficulties.  If the position of a \n",
            "  local difficulty can be determined (singularity, discontinuity) one will \n",
            "  probably gain from splitting up the interval and calling the integrator \n",
            "  on the subranges.  Perhaps a special-purpose integrator should be used.\n"
          ],
          "name": "stderr"
        },
        {
          "output_type": "stream",
          "text": [
            "Optimization terminated successfully.\n",
            "         Current function value: 0.000000\n",
            "         Iterations: 141\n",
            "         Function evaluations: 279\n",
            "Optimization terminated successfully.\n",
            "         Current function value: 0.000000\n",
            "         Iterations: 130\n",
            "         Function evaluations: 251\n",
            "Optimization terminated successfully.\n",
            "         Current function value: 0.000001\n",
            "         Iterations: 126\n",
            "         Function evaluations: 246\n",
            "Optimization terminated successfully.\n",
            "         Current function value: 0.000000\n",
            "         Iterations: 127\n",
            "         Function evaluations: 246\n",
            "Optimization terminated successfully.\n",
            "         Current function value: 0.000001\n",
            "         Iterations: 124\n",
            "         Function evaluations: 243\n",
            "Optimization terminated successfully.\n",
            "         Current function value: 0.000000\n",
            "         Iterations: 170\n",
            "         Function evaluations: 322\n",
            "Optimization terminated successfully.\n",
            "         Current function value: 0.000000\n",
            "         Iterations: 132\n",
            "         Function evaluations: 283\n",
            "Optimization terminated successfully.\n",
            "         Current function value: 0.000001\n",
            "         Iterations: 127\n",
            "         Function evaluations: 248\n",
            "Optimization terminated successfully.\n",
            "         Current function value: 0.000001\n",
            "         Iterations: 127\n",
            "         Function evaluations: 252\n",
            "Optimization terminated successfully.\n",
            "         Current function value: 0.000000\n",
            "         Iterations: 136\n",
            "         Function evaluations: 261\n",
            "Optimization terminated successfully.\n",
            "         Current function value: 0.000001\n",
            "         Iterations: 116\n",
            "         Function evaluations: 235\n",
            "Optimization terminated successfully.\n",
            "         Current function value: 0.000001\n",
            "         Iterations: 124\n",
            "         Function evaluations: 245\n",
            "Optimization terminated successfully.\n",
            "         Current function value: 0.000000\n",
            "         Iterations: 141\n",
            "         Function evaluations: 273\n",
            "Optimization terminated successfully.\n",
            "         Current function value: 0.000001\n",
            "         Iterations: 126\n",
            "         Function evaluations: 246\n",
            "Optimization terminated successfully.\n",
            "         Current function value: 0.000001\n",
            "         Iterations: 122\n",
            "         Function evaluations: 242\n",
            "Optimization terminated successfully.\n",
            "         Current function value: 0.000001\n",
            "         Iterations: 124\n",
            "         Function evaluations: 244\n",
            "Optimization terminated successfully.\n",
            "         Current function value: 0.000001\n",
            "         Iterations: 121\n",
            "         Function evaluations: 239\n",
            "Optimization terminated successfully.\n",
            "         Current function value: 0.000001\n",
            "         Iterations: 118\n",
            "         Function evaluations: 229\n",
            "Optimization terminated successfully.\n",
            "         Current function value: 0.000001\n",
            "         Iterations: 118\n",
            "         Function evaluations: 230\n",
            "Optimization terminated successfully.\n",
            "         Current function value: 0.000001\n",
            "         Iterations: 119\n",
            "         Function evaluations: 235\n"
          ],
          "name": "stdout"
        }
      ]
    },
    {
      "cell_type": "code",
      "metadata": {
        "id": "RnuRJS9SV5Md",
        "outputId": "7815d546-9be6-4955-ec29-480f331ee860",
        "colab": {
          "base_uri": "https://localhost:8080/"
        }
      },
      "source": [
        "minimum2"
      ],
      "execution_count": 144,
      "outputs": [
        {
          "output_type": "execute_result",
          "data": {
            "text/plain": [
              "[array([0.48593288, 5.6689769 , 2.73358554, 0.10443549, 0.01035572]),\n",
              " array([0.49263644, 5.6935854 , 2.71582608, 0.10377684, 0.01036788]),\n",
              " array([0.49840296, 5.70008185, 2.69114759, 0.10321111, 0.0103736 ]),\n",
              " array([0.50085566, 5.72661028, 2.68673642, 0.10272919, 0.01036941]),\n",
              " array([0.51309106, 5.68872255, 2.65449082, 0.10278709, 0.01041174]),\n",
              " array([0.51942403, 5.70664279, 2.6461976 , 0.10284351, 0.01040041]),\n",
              " array([0.51894768, 5.5200997 , 2.58265967, 0.10353799, 0.01048721]),\n",
              " array([0.53644464, 5.59191668, 2.60549525, 0.10274278, 0.01037482]),\n",
              " array([0.54248744, 5.63885026, 2.57686202, 0.10312198, 0.01042552]),\n",
              " array([0.54832237, 5.539578  , 2.56359712, 0.10492417, 0.01043688]),\n",
              " array([0.56389035, 5.56878931, 2.57301693, 0.10322553, 0.01040257]),\n",
              " array([0.56682747, 5.48848725, 2.54251018, 0.10541287, 0.01034573]),\n",
              " array([0.57297879, 5.456392  , 2.51594403, 0.10480135, 0.01039161]),\n",
              " array([0.58584762, 5.45496583, 2.5343068 , 0.10462018, 0.01031621]),\n",
              " array([0.59452365, 5.49541476, 2.50031868, 0.10464717, 0.01039376]),\n",
              " array([0.60899869, 5.48205219, 2.50712934, 0.10397448, 0.01028538]),\n",
              " array([0.61687336, 5.57246566, 2.48572501, 0.10401049, 0.01032047]),\n",
              " array([0.62396809, 5.51124287, 2.48577882, 0.10354555, 0.01030939]),\n",
              " array([0.61323256, 5.47972896, 2.51234036, 0.10250628, 0.01036052]),\n",
              " array([0.59779132, 5.51562721, 2.5111241 , 0.10429835, 0.010395  ])]"
            ]
          },
          "metadata": {
            "tags": []
          },
          "execution_count": 144
        }
      ]
    },
    {
      "cell_type": "code",
      "metadata": {
        "id": "f_wqIzUfUQt3",
        "outputId": "bd6a1679-44af-4885-8154-ea3d57a419dd",
        "colab": {
          "base_uri": "https://localhost:8080/",
          "height": 461
        }
      },
      "source": [
        "def g22(params,a,c):\n",
        "  C,G,M,Y,r = params\n",
        "  CGMY = CGMY2(3638.35,M,Y,C,G,r)\n",
        "  ftc1 = FTCall(CGMY)\n",
        "  b = 0\n",
        "  for i in range(20):\n",
        "    market_price = a[i]\n",
        "    b = b + (market_price - ftc1.price_cm(c[i], 1/12, alpha = 1.5)**2)\n",
        "  d = np.sqrt(b)\n",
        "  return d\n",
        "\n",
        "minimum3 = []\n",
        "guess_g=[1,5,2,0.1,0.01]\n",
        "\n",
        "minimum3.append(optimize.fmin(g22,guess_g,args=(market1,market2,),maxfun=40000,maxiter=40000,ftol=1e-2,xtol=1e-2))"
      ],
      "execution_count": 152,
      "outputs": [
        {
          "output_type": "stream",
          "text": [
            "/usr/local/lib/python3.6/dist-packages/ipykernel_launcher.py:17: IntegrationWarning: The maximum number of subdivisions (50) has been achieved.\n",
            "  If increasing the limit yields no improvement it is advised to analyze \n",
            "  the integrand in order to determine the difficulties.  If the position of a \n",
            "  local difficulty can be determined (singularity, discontinuity) one will \n",
            "  probably gain from splitting up the interval and calling the integrator \n",
            "  on the subranges.  Perhaps a special-purpose integrator should be used.\n",
            "/usr/local/lib/python3.6/dist-packages/ipykernel_launcher.py:9: RuntimeWarning: invalid value encountered in sqrt\n",
            "  if __name__ == '__main__':\n"
          ],
          "name": "stderr"
        },
        {
          "output_type": "error",
          "ename": "KeyboardInterrupt",
          "evalue": "ignored",
          "traceback": [
            "\u001b[0;31m---------------------------------------------------------------------------\u001b[0m",
            "\u001b[0;31mKeyboardInterrupt\u001b[0m                         Traceback (most recent call last)",
            "\u001b[0;32m<ipython-input-152-63defe8fe45e>\u001b[0m in \u001b[0;36m<module>\u001b[0;34m()\u001b[0m\n\u001b[1;32m     13\u001b[0m \u001b[0mguess_g\u001b[0m\u001b[0;34m=\u001b[0m\u001b[0;34m[\u001b[0m\u001b[0;36m1\u001b[0m\u001b[0;34m,\u001b[0m\u001b[0;36m5\u001b[0m\u001b[0;34m,\u001b[0m\u001b[0;36m2\u001b[0m\u001b[0;34m,\u001b[0m\u001b[0;36m0.1\u001b[0m\u001b[0;34m,\u001b[0m\u001b[0;36m0.01\u001b[0m\u001b[0;34m]\u001b[0m\u001b[0;34m\u001b[0m\u001b[0;34m\u001b[0m\u001b[0m\n\u001b[1;32m     14\u001b[0m \u001b[0;34m\u001b[0m\u001b[0m\n\u001b[0;32m---> 15\u001b[0;31m \u001b[0mminimum3\u001b[0m\u001b[0;34m.\u001b[0m\u001b[0mappend\u001b[0m\u001b[0;34m(\u001b[0m\u001b[0moptimize\u001b[0m\u001b[0;34m.\u001b[0m\u001b[0mfmin\u001b[0m\u001b[0;34m(\u001b[0m\u001b[0mg22\u001b[0m\u001b[0;34m,\u001b[0m\u001b[0mguess_g\u001b[0m\u001b[0;34m,\u001b[0m\u001b[0margs\u001b[0m\u001b[0;34m=\u001b[0m\u001b[0;34m(\u001b[0m\u001b[0mmarket1\u001b[0m\u001b[0;34m,\u001b[0m\u001b[0mmarket2\u001b[0m\u001b[0;34m,\u001b[0m\u001b[0;34m)\u001b[0m\u001b[0;34m,\u001b[0m\u001b[0mmaxfun\u001b[0m\u001b[0;34m=\u001b[0m\u001b[0;36m40000\u001b[0m\u001b[0;34m,\u001b[0m\u001b[0mmaxiter\u001b[0m\u001b[0;34m=\u001b[0m\u001b[0;36m40000\u001b[0m\u001b[0;34m,\u001b[0m\u001b[0mftol\u001b[0m\u001b[0;34m=\u001b[0m\u001b[0;36m1e-2\u001b[0m\u001b[0;34m,\u001b[0m\u001b[0mxtol\u001b[0m\u001b[0;34m=\u001b[0m\u001b[0;36m1e-2\u001b[0m\u001b[0;34m)\u001b[0m\u001b[0;34m)\u001b[0m\u001b[0;34m\u001b[0m\u001b[0;34m\u001b[0m\u001b[0m\n\u001b[0m",
            "\u001b[0;32m/usr/local/lib/python3.6/dist-packages/scipy/optimize/optimize.py\u001b[0m in \u001b[0;36mfmin\u001b[0;34m(func, x0, args, xtol, ftol, maxiter, maxfun, full_output, disp, retall, callback, initial_simplex)\u001b[0m\n\u001b[1;32m    441\u001b[0m             'initial_simplex': initial_simplex}\n\u001b[1;32m    442\u001b[0m \u001b[0;34m\u001b[0m\u001b[0m\n\u001b[0;32m--> 443\u001b[0;31m     \u001b[0mres\u001b[0m \u001b[0;34m=\u001b[0m \u001b[0m_minimize_neldermead\u001b[0m\u001b[0;34m(\u001b[0m\u001b[0mfunc\u001b[0m\u001b[0;34m,\u001b[0m \u001b[0mx0\u001b[0m\u001b[0;34m,\u001b[0m \u001b[0margs\u001b[0m\u001b[0;34m,\u001b[0m \u001b[0mcallback\u001b[0m\u001b[0;34m=\u001b[0m\u001b[0mcallback\u001b[0m\u001b[0;34m,\u001b[0m \u001b[0;34m**\u001b[0m\u001b[0mopts\u001b[0m\u001b[0;34m)\u001b[0m\u001b[0;34m\u001b[0m\u001b[0;34m\u001b[0m\u001b[0m\n\u001b[0m\u001b[1;32m    444\u001b[0m     \u001b[0;32mif\u001b[0m \u001b[0mfull_output\u001b[0m\u001b[0;34m:\u001b[0m\u001b[0;34m\u001b[0m\u001b[0;34m\u001b[0m\u001b[0m\n\u001b[1;32m    445\u001b[0m         \u001b[0mretlist\u001b[0m \u001b[0;34m=\u001b[0m \u001b[0mres\u001b[0m\u001b[0;34m[\u001b[0m\u001b[0;34m'x'\u001b[0m\u001b[0;34m]\u001b[0m\u001b[0;34m,\u001b[0m \u001b[0mres\u001b[0m\u001b[0;34m[\u001b[0m\u001b[0;34m'fun'\u001b[0m\u001b[0;34m]\u001b[0m\u001b[0;34m,\u001b[0m \u001b[0mres\u001b[0m\u001b[0;34m[\u001b[0m\u001b[0;34m'nit'\u001b[0m\u001b[0;34m]\u001b[0m\u001b[0;34m,\u001b[0m \u001b[0mres\u001b[0m\u001b[0;34m[\u001b[0m\u001b[0;34m'nfev'\u001b[0m\u001b[0;34m]\u001b[0m\u001b[0;34m,\u001b[0m \u001b[0mres\u001b[0m\u001b[0;34m[\u001b[0m\u001b[0;34m'status'\u001b[0m\u001b[0;34m]\u001b[0m\u001b[0;34m\u001b[0m\u001b[0;34m\u001b[0m\u001b[0m\n",
            "\u001b[0;32m/usr/local/lib/python3.6/dist-packages/scipy/optimize/optimize.py\u001b[0m in \u001b[0;36m_minimize_neldermead\u001b[0;34m(func, x0, args, callback, maxiter, maxfev, disp, return_all, initial_simplex, xatol, fatol, adaptive, **unknown_options)\u001b[0m\n\u001b[1;32m    631\u001b[0m                     \u001b[0;31m# Perform an inside contraction\u001b[0m\u001b[0;34m\u001b[0m\u001b[0;34m\u001b[0m\u001b[0;34m\u001b[0m\u001b[0m\n\u001b[1;32m    632\u001b[0m                     \u001b[0mxcc\u001b[0m \u001b[0;34m=\u001b[0m \u001b[0;34m(\u001b[0m\u001b[0;36m1\u001b[0m \u001b[0;34m-\u001b[0m \u001b[0mpsi\u001b[0m\u001b[0;34m)\u001b[0m \u001b[0;34m*\u001b[0m \u001b[0mxbar\u001b[0m \u001b[0;34m+\u001b[0m \u001b[0mpsi\u001b[0m \u001b[0;34m*\u001b[0m \u001b[0msim\u001b[0m\u001b[0;34m[\u001b[0m\u001b[0;34m-\u001b[0m\u001b[0;36m1\u001b[0m\u001b[0;34m]\u001b[0m\u001b[0;34m\u001b[0m\u001b[0;34m\u001b[0m\u001b[0m\n\u001b[0;32m--> 633\u001b[0;31m                     \u001b[0mfxcc\u001b[0m \u001b[0;34m=\u001b[0m \u001b[0mfunc\u001b[0m\u001b[0;34m(\u001b[0m\u001b[0mxcc\u001b[0m\u001b[0;34m)\u001b[0m\u001b[0;34m\u001b[0m\u001b[0;34m\u001b[0m\u001b[0m\n\u001b[0m\u001b[1;32m    634\u001b[0m \u001b[0;34m\u001b[0m\u001b[0m\n\u001b[1;32m    635\u001b[0m                     \u001b[0;32mif\u001b[0m \u001b[0mfxcc\u001b[0m \u001b[0;34m<\u001b[0m \u001b[0mfsim\u001b[0m\u001b[0;34m[\u001b[0m\u001b[0;34m-\u001b[0m\u001b[0;36m1\u001b[0m\u001b[0;34m]\u001b[0m\u001b[0;34m:\u001b[0m\u001b[0;34m\u001b[0m\u001b[0;34m\u001b[0m\u001b[0m\n",
            "\u001b[0;32m/usr/local/lib/python3.6/dist-packages/scipy/optimize/optimize.py\u001b[0m in \u001b[0;36mfunction_wrapper\u001b[0;34m(*wrapper_args)\u001b[0m\n\u001b[1;32m    325\u001b[0m     \u001b[0;32mdef\u001b[0m \u001b[0mfunction_wrapper\u001b[0m\u001b[0;34m(\u001b[0m\u001b[0;34m*\u001b[0m\u001b[0mwrapper_args\u001b[0m\u001b[0;34m)\u001b[0m\u001b[0;34m:\u001b[0m\u001b[0;34m\u001b[0m\u001b[0;34m\u001b[0m\u001b[0m\n\u001b[1;32m    326\u001b[0m         \u001b[0mncalls\u001b[0m\u001b[0;34m[\u001b[0m\u001b[0;36m0\u001b[0m\u001b[0;34m]\u001b[0m \u001b[0;34m+=\u001b[0m \u001b[0;36m1\u001b[0m\u001b[0;34m\u001b[0m\u001b[0;34m\u001b[0m\u001b[0m\n\u001b[0;32m--> 327\u001b[0;31m         \u001b[0;32mreturn\u001b[0m \u001b[0mfunction\u001b[0m\u001b[0;34m(\u001b[0m\u001b[0;34m*\u001b[0m\u001b[0;34m(\u001b[0m\u001b[0mwrapper_args\u001b[0m \u001b[0;34m+\u001b[0m \u001b[0margs\u001b[0m\u001b[0;34m)\u001b[0m\u001b[0;34m)\u001b[0m\u001b[0;34m\u001b[0m\u001b[0;34m\u001b[0m\u001b[0m\n\u001b[0m\u001b[1;32m    328\u001b[0m \u001b[0;34m\u001b[0m\u001b[0m\n\u001b[1;32m    329\u001b[0m     \u001b[0;32mreturn\u001b[0m \u001b[0mncalls\u001b[0m\u001b[0;34m,\u001b[0m \u001b[0mfunction_wrapper\u001b[0m\u001b[0;34m\u001b[0m\u001b[0;34m\u001b[0m\u001b[0m\n",
            "\u001b[0;32m<ipython-input-152-63defe8fe45e>\u001b[0m in \u001b[0;36mg22\u001b[0;34m(params, a, c)\u001b[0m\n\u001b[1;32m      6\u001b[0m   \u001b[0;32mfor\u001b[0m \u001b[0mi\u001b[0m \u001b[0;32min\u001b[0m \u001b[0mrange\u001b[0m\u001b[0;34m(\u001b[0m\u001b[0;36m20\u001b[0m\u001b[0;34m)\u001b[0m\u001b[0;34m:\u001b[0m\u001b[0;34m\u001b[0m\u001b[0;34m\u001b[0m\u001b[0m\n\u001b[1;32m      7\u001b[0m     \u001b[0mmarket_price\u001b[0m \u001b[0;34m=\u001b[0m \u001b[0ma\u001b[0m\u001b[0;34m[\u001b[0m\u001b[0mi\u001b[0m\u001b[0;34m]\u001b[0m\u001b[0;34m\u001b[0m\u001b[0;34m\u001b[0m\u001b[0m\n\u001b[0;32m----> 8\u001b[0;31m     \u001b[0mb\u001b[0m \u001b[0;34m=\u001b[0m \u001b[0mb\u001b[0m \u001b[0;34m+\u001b[0m \u001b[0;34m(\u001b[0m\u001b[0mmarket_price\u001b[0m \u001b[0;34m-\u001b[0m \u001b[0mftc1\u001b[0m\u001b[0;34m.\u001b[0m\u001b[0mprice_cm\u001b[0m\u001b[0;34m(\u001b[0m\u001b[0mc\u001b[0m\u001b[0;34m[\u001b[0m\u001b[0mi\u001b[0m\u001b[0;34m]\u001b[0m\u001b[0;34m,\u001b[0m \u001b[0;36m1\u001b[0m\u001b[0;34m/\u001b[0m\u001b[0;36m12\u001b[0m\u001b[0;34m,\u001b[0m \u001b[0malpha\u001b[0m \u001b[0;34m=\u001b[0m \u001b[0;36m1.5\u001b[0m\u001b[0;34m)\u001b[0m\u001b[0;34m**\u001b[0m\u001b[0;36m2\u001b[0m\u001b[0;34m)\u001b[0m\u001b[0;34m\u001b[0m\u001b[0;34m\u001b[0m\u001b[0m\n\u001b[0m\u001b[1;32m      9\u001b[0m   \u001b[0md\u001b[0m \u001b[0;34m=\u001b[0m \u001b[0mnp\u001b[0m\u001b[0;34m.\u001b[0m\u001b[0msqrt\u001b[0m\u001b[0;34m(\u001b[0m\u001b[0mb\u001b[0m\u001b[0;34m)\u001b[0m\u001b[0;34m\u001b[0m\u001b[0;34m\u001b[0m\u001b[0m\n\u001b[1;32m     10\u001b[0m   \u001b[0;32mreturn\u001b[0m \u001b[0md\u001b[0m\u001b[0;34m\u001b[0m\u001b[0;34m\u001b[0m\u001b[0m\n",
            "\u001b[0;32m<ipython-input-90-b40a9c0e21ac>\u001b[0m in \u001b[0;36mprice_cm\u001b[0;34m(self, K, T, alpha)\u001b[0m\n\u001b[1;32m     15\u001b[0m         \u001b[0mk\u001b[0m \u001b[0;34m=\u001b[0m \u001b[0mnp\u001b[0m\u001b[0;34m.\u001b[0m\u001b[0mlog\u001b[0m\u001b[0;34m(\u001b[0m\u001b[0mK\u001b[0m\u001b[0;34m)\u001b[0m\u001b[0;34m\u001b[0m\u001b[0;34m\u001b[0m\u001b[0m\n\u001b[1;32m     16\u001b[0m         \u001b[0mintegrand\u001b[0m \u001b[0;34m=\u001b[0m \u001b[0;32mlambda\u001b[0m \u001b[0mw\u001b[0m\u001b[0;34m:\u001b[0m \u001b[0;34m(\u001b[0m\u001b[0mnp\u001b[0m\u001b[0;34m.\u001b[0m\u001b[0mexp\u001b[0m\u001b[0;34m(\u001b[0m\u001b[0;34m-\u001b[0m\u001b[0;36m1j\u001b[0m\u001b[0;34m*\u001b[0m\u001b[0mw\u001b[0m\u001b[0;34m*\u001b[0m\u001b[0mk\u001b[0m\u001b[0;34m)\u001b[0m\u001b[0;34m*\u001b[0m\u001b[0mself\u001b[0m\u001b[0;34m.\u001b[0m\u001b[0mpsi\u001b[0m\u001b[0;34m(\u001b[0m\u001b[0mw\u001b[0m\u001b[0;34m,\u001b[0m \u001b[0mT\u001b[0m\u001b[0;34m,\u001b[0m \u001b[0malpha\u001b[0m\u001b[0;34m)\u001b[0m\u001b[0;34m)\u001b[0m\u001b[0;34m.\u001b[0m\u001b[0mreal\u001b[0m\u001b[0;34m\u001b[0m\u001b[0;34m\u001b[0m\u001b[0m\n\u001b[0;32m---> 17\u001b[0;31m         \u001b[0mintegral\u001b[0m \u001b[0;34m=\u001b[0m \u001b[0mquad\u001b[0m\u001b[0;34m(\u001b[0m\u001b[0mintegrand\u001b[0m\u001b[0;34m,\u001b[0m \u001b[0;36m0\u001b[0m\u001b[0;34m,\u001b[0m \u001b[0mnp\u001b[0m\u001b[0;34m.\u001b[0m\u001b[0minf\u001b[0m\u001b[0;34m)\u001b[0m\u001b[0;34m[\u001b[0m\u001b[0;36m0\u001b[0m\u001b[0;34m]\u001b[0m\u001b[0;34m\u001b[0m\u001b[0;34m\u001b[0m\u001b[0m\n\u001b[0m\u001b[1;32m     18\u001b[0m         \u001b[0;32mreturn\u001b[0m \u001b[0mnp\u001b[0m\u001b[0;34m.\u001b[0m\u001b[0mexp\u001b[0m\u001b[0;34m(\u001b[0m\u001b[0;34m-\u001b[0m\u001b[0malpha\u001b[0m\u001b[0;34m*\u001b[0m\u001b[0mk\u001b[0m\u001b[0;34m)\u001b[0m\u001b[0;34m/\u001b[0m\u001b[0mnp\u001b[0m\u001b[0;34m.\u001b[0m\u001b[0mpi\u001b[0m\u001b[0;34m*\u001b[0m\u001b[0mintegral\u001b[0m\u001b[0;34m\u001b[0m\u001b[0;34m\u001b[0m\u001b[0m\n",
            "\u001b[0;32m/usr/local/lib/python3.6/dist-packages/scipy/integrate/quadpack.py\u001b[0m in \u001b[0;36mquad\u001b[0;34m(func, a, b, args, full_output, epsabs, epsrel, limit, points, weight, wvar, wopts, maxp1, limlst)\u001b[0m\n\u001b[1;32m    340\u001b[0m     \u001b[0;32mif\u001b[0m \u001b[0mweight\u001b[0m \u001b[0;32mis\u001b[0m \u001b[0;32mNone\u001b[0m\u001b[0;34m:\u001b[0m\u001b[0;34m\u001b[0m\u001b[0;34m\u001b[0m\u001b[0m\n\u001b[1;32m    341\u001b[0m         retval = _quad(func, a, b, args, full_output, epsabs, epsrel, limit,\n\u001b[0;32m--> 342\u001b[0;31m                        points)\n\u001b[0m\u001b[1;32m    343\u001b[0m     \u001b[0;32melse\u001b[0m\u001b[0;34m:\u001b[0m\u001b[0;34m\u001b[0m\u001b[0;34m\u001b[0m\u001b[0m\n\u001b[1;32m    344\u001b[0m         \u001b[0;32mif\u001b[0m \u001b[0mpoints\u001b[0m \u001b[0;32mis\u001b[0m \u001b[0;32mnot\u001b[0m \u001b[0;32mNone\u001b[0m\u001b[0;34m:\u001b[0m\u001b[0;34m\u001b[0m\u001b[0;34m\u001b[0m\u001b[0m\n",
            "\u001b[0;32m/usr/local/lib/python3.6/dist-packages/scipy/integrate/quadpack.py\u001b[0m in \u001b[0;36m_quad\u001b[0;34m(func, a, b, args, full_output, epsabs, epsrel, limit, points)\u001b[0m\n\u001b[1;32m    453\u001b[0m             \u001b[0;32mreturn\u001b[0m \u001b[0m_quadpack\u001b[0m\u001b[0;34m.\u001b[0m\u001b[0m_qagse\u001b[0m\u001b[0;34m(\u001b[0m\u001b[0mfunc\u001b[0m\u001b[0;34m,\u001b[0m\u001b[0ma\u001b[0m\u001b[0;34m,\u001b[0m\u001b[0mb\u001b[0m\u001b[0;34m,\u001b[0m\u001b[0margs\u001b[0m\u001b[0;34m,\u001b[0m\u001b[0mfull_output\u001b[0m\u001b[0;34m,\u001b[0m\u001b[0mepsabs\u001b[0m\u001b[0;34m,\u001b[0m\u001b[0mepsrel\u001b[0m\u001b[0;34m,\u001b[0m\u001b[0mlimit\u001b[0m\u001b[0;34m)\u001b[0m\u001b[0;34m\u001b[0m\u001b[0;34m\u001b[0m\u001b[0m\n\u001b[1;32m    454\u001b[0m         \u001b[0;32melse\u001b[0m\u001b[0;34m:\u001b[0m\u001b[0;34m\u001b[0m\u001b[0;34m\u001b[0m\u001b[0m\n\u001b[0;32m--> 455\u001b[0;31m             \u001b[0;32mreturn\u001b[0m \u001b[0m_quadpack\u001b[0m\u001b[0;34m.\u001b[0m\u001b[0m_qagie\u001b[0m\u001b[0;34m(\u001b[0m\u001b[0mfunc\u001b[0m\u001b[0;34m,\u001b[0m\u001b[0mbound\u001b[0m\u001b[0;34m,\u001b[0m\u001b[0minfbounds\u001b[0m\u001b[0;34m,\u001b[0m\u001b[0margs\u001b[0m\u001b[0;34m,\u001b[0m\u001b[0mfull_output\u001b[0m\u001b[0;34m,\u001b[0m\u001b[0mepsabs\u001b[0m\u001b[0;34m,\u001b[0m\u001b[0mepsrel\u001b[0m\u001b[0;34m,\u001b[0m\u001b[0mlimit\u001b[0m\u001b[0;34m)\u001b[0m\u001b[0;34m\u001b[0m\u001b[0;34m\u001b[0m\u001b[0m\n\u001b[0m\u001b[1;32m    456\u001b[0m     \u001b[0;32melse\u001b[0m\u001b[0;34m:\u001b[0m\u001b[0;34m\u001b[0m\u001b[0;34m\u001b[0m\u001b[0m\n\u001b[1;32m    457\u001b[0m         \u001b[0;32mif\u001b[0m \u001b[0minfbounds\u001b[0m \u001b[0;34m!=\u001b[0m \u001b[0;36m0\u001b[0m\u001b[0;34m:\u001b[0m\u001b[0;34m\u001b[0m\u001b[0;34m\u001b[0m\u001b[0m\n",
            "\u001b[0;32m<ipython-input-90-b40a9c0e21ac>\u001b[0m in \u001b[0;36m<lambda>\u001b[0;34m(w)\u001b[0m\n\u001b[1;32m     14\u001b[0m     \u001b[0;32mdef\u001b[0m \u001b[0mprice_cm\u001b[0m\u001b[0;34m(\u001b[0m\u001b[0mself\u001b[0m\u001b[0;34m,\u001b[0m \u001b[0mK\u001b[0m\u001b[0;34m,\u001b[0m \u001b[0mT\u001b[0m\u001b[0;34m,\u001b[0m \u001b[0malpha\u001b[0m \u001b[0;34m=\u001b[0m \u001b[0;36m1.5\u001b[0m\u001b[0;34m)\u001b[0m\u001b[0;34m:\u001b[0m\u001b[0;34m\u001b[0m\u001b[0;34m\u001b[0m\u001b[0m\n\u001b[1;32m     15\u001b[0m         \u001b[0mk\u001b[0m \u001b[0;34m=\u001b[0m \u001b[0mnp\u001b[0m\u001b[0;34m.\u001b[0m\u001b[0mlog\u001b[0m\u001b[0;34m(\u001b[0m\u001b[0mK\u001b[0m\u001b[0;34m)\u001b[0m\u001b[0;34m\u001b[0m\u001b[0;34m\u001b[0m\u001b[0m\n\u001b[0;32m---> 16\u001b[0;31m         \u001b[0mintegrand\u001b[0m \u001b[0;34m=\u001b[0m \u001b[0;32mlambda\u001b[0m \u001b[0mw\u001b[0m\u001b[0;34m:\u001b[0m \u001b[0;34m(\u001b[0m\u001b[0mnp\u001b[0m\u001b[0;34m.\u001b[0m\u001b[0mexp\u001b[0m\u001b[0;34m(\u001b[0m\u001b[0;34m-\u001b[0m\u001b[0;36m1j\u001b[0m\u001b[0;34m*\u001b[0m\u001b[0mw\u001b[0m\u001b[0;34m*\u001b[0m\u001b[0mk\u001b[0m\u001b[0;34m)\u001b[0m\u001b[0;34m*\u001b[0m\u001b[0mself\u001b[0m\u001b[0;34m.\u001b[0m\u001b[0mpsi\u001b[0m\u001b[0;34m(\u001b[0m\u001b[0mw\u001b[0m\u001b[0;34m,\u001b[0m \u001b[0mT\u001b[0m\u001b[0;34m,\u001b[0m \u001b[0malpha\u001b[0m\u001b[0;34m)\u001b[0m\u001b[0;34m)\u001b[0m\u001b[0;34m.\u001b[0m\u001b[0mreal\u001b[0m\u001b[0;34m\u001b[0m\u001b[0;34m\u001b[0m\u001b[0m\n\u001b[0m\u001b[1;32m     17\u001b[0m         \u001b[0mintegral\u001b[0m \u001b[0;34m=\u001b[0m \u001b[0mquad\u001b[0m\u001b[0;34m(\u001b[0m\u001b[0mintegrand\u001b[0m\u001b[0;34m,\u001b[0m \u001b[0;36m0\u001b[0m\u001b[0;34m,\u001b[0m \u001b[0mnp\u001b[0m\u001b[0;34m.\u001b[0m\u001b[0minf\u001b[0m\u001b[0;34m)\u001b[0m\u001b[0;34m[\u001b[0m\u001b[0;36m0\u001b[0m\u001b[0;34m]\u001b[0m\u001b[0;34m\u001b[0m\u001b[0;34m\u001b[0m\u001b[0m\n\u001b[1;32m     18\u001b[0m         \u001b[0;32mreturn\u001b[0m \u001b[0mnp\u001b[0m\u001b[0;34m.\u001b[0m\u001b[0mexp\u001b[0m\u001b[0;34m(\u001b[0m\u001b[0;34m-\u001b[0m\u001b[0malpha\u001b[0m\u001b[0;34m*\u001b[0m\u001b[0mk\u001b[0m\u001b[0;34m)\u001b[0m\u001b[0;34m/\u001b[0m\u001b[0mnp\u001b[0m\u001b[0;34m.\u001b[0m\u001b[0mpi\u001b[0m\u001b[0;34m*\u001b[0m\u001b[0mintegral\u001b[0m\u001b[0;34m\u001b[0m\u001b[0;34m\u001b[0m\u001b[0m\n",
            "\u001b[0;32m<ipython-input-90-b40a9c0e21ac>\u001b[0m in \u001b[0;36mpsi\u001b[0;34m(self, w, T, alpha)\u001b[0m\n\u001b[1;32m      7\u001b[0m     \u001b[0;32mdef\u001b[0m \u001b[0mpsi\u001b[0m\u001b[0;34m(\u001b[0m\u001b[0mself\u001b[0m\u001b[0;34m,\u001b[0m \u001b[0mw\u001b[0m\u001b[0;34m,\u001b[0m \u001b[0mT\u001b[0m\u001b[0;34m,\u001b[0m \u001b[0malpha\u001b[0m\u001b[0;34m)\u001b[0m\u001b[0;34m:\u001b[0m\u001b[0;34m\u001b[0m\u001b[0;34m\u001b[0m\u001b[0m\n\u001b[1;32m      8\u001b[0m         \u001b[0mo1\u001b[0m \u001b[0;34m=\u001b[0m \u001b[0mnp\u001b[0m\u001b[0;34m.\u001b[0m\u001b[0mexp\u001b[0m\u001b[0;34m(\u001b[0m\u001b[0;34m-\u001b[0m\u001b[0mself\u001b[0m\u001b[0;34m.\u001b[0m\u001b[0mmd\u001b[0m\u001b[0;34m.\u001b[0m\u001b[0mr\u001b[0m\u001b[0;34m*\u001b[0m\u001b[0mT\u001b[0m\u001b[0;34m)\u001b[0m\u001b[0;34m\u001b[0m\u001b[0;34m\u001b[0m\u001b[0m\n\u001b[0;32m----> 9\u001b[0;31m         \u001b[0mo1\u001b[0m \u001b[0;34m=\u001b[0m \u001b[0mo1\u001b[0m\u001b[0;34m*\u001b[0m\u001b[0mself\u001b[0m\u001b[0;34m.\u001b[0m\u001b[0mmd\u001b[0m\u001b[0;34m.\u001b[0m\u001b[0mcharfun\u001b[0m\u001b[0;34m(\u001b[0m\u001b[0mT\u001b[0m\u001b[0;34m,\u001b[0m \u001b[0mw\u001b[0m \u001b[0;34m-\u001b[0m \u001b[0;34m(\u001b[0m\u001b[0malpha\u001b[0m\u001b[0;34m+\u001b[0m\u001b[0;36m1\u001b[0m\u001b[0;34m)\u001b[0m\u001b[0;34m*\u001b[0m\u001b[0;36m1j\u001b[0m\u001b[0;34m)\u001b[0m\u001b[0;34m\u001b[0m\u001b[0;34m\u001b[0m\u001b[0m\n\u001b[0m\u001b[1;32m     10\u001b[0m         \u001b[0mo2\u001b[0m \u001b[0;34m=\u001b[0m \u001b[0malpha\u001b[0m\u001b[0;34m**\u001b[0m\u001b[0;36m2\u001b[0m\u001b[0;34m+\u001b[0m\u001b[0malpha\u001b[0m\u001b[0;34m-\u001b[0m\u001b[0mw\u001b[0m\u001b[0;34m**\u001b[0m\u001b[0;36m2\u001b[0m\u001b[0;34m+\u001b[0m\u001b[0;36m1j\u001b[0m\u001b[0;34m*\u001b[0m\u001b[0;34m(\u001b[0m\u001b[0;36m2\u001b[0m\u001b[0;34m*\u001b[0m\u001b[0malpha\u001b[0m\u001b[0;34m+\u001b[0m\u001b[0;36m1.\u001b[0m\u001b[0;34m)\u001b[0m\u001b[0;34m*\u001b[0m\u001b[0mw\u001b[0m\u001b[0;34m\u001b[0m\u001b[0;34m\u001b[0m\u001b[0m\n\u001b[1;32m     11\u001b[0m         \u001b[0;32mreturn\u001b[0m \u001b[0mo1\u001b[0m\u001b[0;34m/\u001b[0m\u001b[0mo2\u001b[0m\u001b[0;34m\u001b[0m\u001b[0;34m\u001b[0m\u001b[0m\n",
            "\u001b[0;32m<ipython-input-101-394b1e728ceb>\u001b[0m in \u001b[0;36mcharfun\u001b[0;34m(self, T, u)\u001b[0m\n\u001b[1;32m     11\u001b[0m         \u001b[0mbeta\u001b[0m \u001b[0;34m=\u001b[0m \u001b[0mself\u001b[0m\u001b[0;34m.\u001b[0m\u001b[0mC\u001b[0m\u001b[0;34m*\u001b[0m\u001b[0;34m(\u001b[0m\u001b[0mself\u001b[0m\u001b[0;34m.\u001b[0m\u001b[0mG\u001b[0m\u001b[0;34m**\u001b[0m\u001b[0mself\u001b[0m\u001b[0;34m.\u001b[0m\u001b[0mY\u001b[0m\u001b[0;34m)\u001b[0m\u001b[0;34m*\u001b[0m\u001b[0mgamma\u001b[0m\u001b[0;34m*\u001b[0m\u001b[0;34m(\u001b[0m\u001b[0;34m(\u001b[0m\u001b[0;36m1\u001b[0m\u001b[0;34m+\u001b[0m\u001b[0;36m1\u001b[0m\u001b[0;34m/\u001b[0m\u001b[0mself\u001b[0m\u001b[0;34m.\u001b[0m\u001b[0mG\u001b[0m\u001b[0;34m)\u001b[0m\u001b[0;34m**\u001b[0m\u001b[0mself\u001b[0m\u001b[0;34m.\u001b[0m\u001b[0mY\u001b[0m\u001b[0;34m-\u001b[0m\u001b[0;36m1\u001b[0m\u001b[0;34m-\u001b[0m\u001b[0mself\u001b[0m\u001b[0;34m.\u001b[0m\u001b[0mY\u001b[0m\u001b[0;34m/\u001b[0m\u001b[0mself\u001b[0m\u001b[0;34m.\u001b[0m\u001b[0mG\u001b[0m\u001b[0;34m)\u001b[0m \u001b[0;34m+\u001b[0m \u001b[0mself\u001b[0m\u001b[0;34m.\u001b[0m\u001b[0mC\u001b[0m\u001b[0;34m*\u001b[0m\u001b[0;34m(\u001b[0m\u001b[0mself\u001b[0m\u001b[0;34m.\u001b[0m\u001b[0mM\u001b[0m\u001b[0;34m**\u001b[0m\u001b[0mself\u001b[0m\u001b[0;34m.\u001b[0m\u001b[0mY\u001b[0m\u001b[0;34m)\u001b[0m\u001b[0;34m*\u001b[0m\u001b[0mgamma\u001b[0m\u001b[0;34m*\u001b[0m\u001b[0;34m(\u001b[0m\u001b[0;34m(\u001b[0m\u001b[0;36m1\u001b[0m\u001b[0;34m-\u001b[0m\u001b[0;36m1\u001b[0m\u001b[0;34m/\u001b[0m\u001b[0mself\u001b[0m\u001b[0;34m.\u001b[0m\u001b[0mM\u001b[0m\u001b[0;34m)\u001b[0m\u001b[0;34m**\u001b[0m\u001b[0mself\u001b[0m\u001b[0;34m.\u001b[0m\u001b[0mY\u001b[0m\u001b[0;34m-\u001b[0m\u001b[0;36m1\u001b[0m\u001b[0;34m+\u001b[0m\u001b[0mself\u001b[0m\u001b[0;34m.\u001b[0m\u001b[0mY\u001b[0m\u001b[0;34m/\u001b[0m\u001b[0mself\u001b[0m\u001b[0;34m.\u001b[0m\u001b[0mM\u001b[0m\u001b[0;34m)\u001b[0m\u001b[0;34m\u001b[0m\u001b[0;34m\u001b[0m\u001b[0m\n\u001b[1;32m     12\u001b[0m         \u001b[0mf1\u001b[0m \u001b[0;34m=\u001b[0m \u001b[0;34m(\u001b[0m\u001b[0mnp\u001b[0m\u001b[0;34m.\u001b[0m\u001b[0me\u001b[0m\u001b[0;34m)\u001b[0m\u001b[0;34m**\u001b[0m\u001b[0;34m(\u001b[0m\u001b[0;36m1j\u001b[0m\u001b[0;34m*\u001b[0m\u001b[0mu\u001b[0m\u001b[0;34m*\u001b[0m\u001b[0mnp\u001b[0m\u001b[0;34m.\u001b[0m\u001b[0mlog\u001b[0m\u001b[0;34m(\u001b[0m\u001b[0mself\u001b[0m\u001b[0;34m.\u001b[0m\u001b[0mS0\u001b[0m\u001b[0;34m)\u001b[0m\u001b[0;34m+\u001b[0m\u001b[0;34m(\u001b[0m\u001b[0mself\u001b[0m\u001b[0;34m.\u001b[0m\u001b[0mr\u001b[0m\u001b[0;34m-\u001b[0m\u001b[0mbeta\u001b[0m\u001b[0;34m)\u001b[0m\u001b[0;34m*\u001b[0m\u001b[0mT\u001b[0m\u001b[0;34m)\u001b[0m\u001b[0;34m\u001b[0m\u001b[0;34m\u001b[0m\u001b[0m\n\u001b[0;32m---> 13\u001b[0;31m         \u001b[0mf2\u001b[0m \u001b[0;34m=\u001b[0m \u001b[0;34m(\u001b[0m\u001b[0mnp\u001b[0m\u001b[0;34m.\u001b[0m\u001b[0me\u001b[0m\u001b[0;34m)\u001b[0m\u001b[0;34m**\u001b[0m\u001b[0;34m(\u001b[0m\u001b[0mself\u001b[0m\u001b[0;34m.\u001b[0m\u001b[0mC\u001b[0m\u001b[0;34m*\u001b[0m\u001b[0;34m(\u001b[0m\u001b[0mself\u001b[0m\u001b[0;34m.\u001b[0m\u001b[0mG\u001b[0m\u001b[0;34m**\u001b[0m\u001b[0mself\u001b[0m\u001b[0;34m.\u001b[0m\u001b[0mY\u001b[0m\u001b[0;34m)\u001b[0m\u001b[0;34m*\u001b[0m\u001b[0mT\u001b[0m\u001b[0;34m*\u001b[0m\u001b[0mgamma\u001b[0m\u001b[0;34m*\u001b[0m\u001b[0;34m(\u001b[0m\u001b[0;34m(\u001b[0m\u001b[0;36m1\u001b[0m\u001b[0;34m+\u001b[0m\u001b[0;36m1j\u001b[0m\u001b[0;34m*\u001b[0m\u001b[0mu\u001b[0m\u001b[0;34m/\u001b[0m\u001b[0mself\u001b[0m\u001b[0;34m.\u001b[0m\u001b[0mG\u001b[0m\u001b[0;34m)\u001b[0m\u001b[0;34m**\u001b[0m\u001b[0mself\u001b[0m\u001b[0;34m.\u001b[0m\u001b[0mY\u001b[0m\u001b[0;34m-\u001b[0m\u001b[0;36m1\u001b[0m\u001b[0;34m-\u001b[0m\u001b[0;36m1j\u001b[0m\u001b[0;34m*\u001b[0m\u001b[0mu\u001b[0m\u001b[0;34m*\u001b[0m\u001b[0mself\u001b[0m\u001b[0;34m.\u001b[0m\u001b[0mY\u001b[0m\u001b[0;34m/\u001b[0m\u001b[0mself\u001b[0m\u001b[0;34m.\u001b[0m\u001b[0mG\u001b[0m\u001b[0;34m)\u001b[0m \u001b[0;34m+\u001b[0m \u001b[0mself\u001b[0m\u001b[0;34m.\u001b[0m\u001b[0mC\u001b[0m\u001b[0;34m*\u001b[0m\u001b[0;34m(\u001b[0m\u001b[0mself\u001b[0m\u001b[0;34m.\u001b[0m\u001b[0mM\u001b[0m\u001b[0;34m**\u001b[0m\u001b[0mself\u001b[0m\u001b[0;34m.\u001b[0m\u001b[0mY\u001b[0m\u001b[0;34m)\u001b[0m\u001b[0;34m*\u001b[0m\u001b[0mT\u001b[0m\u001b[0;34m*\u001b[0m\u001b[0mgamma\u001b[0m\u001b[0;34m*\u001b[0m\u001b[0;34m(\u001b[0m\u001b[0;34m(\u001b[0m\u001b[0;36m1\u001b[0m\u001b[0;34m-\u001b[0m\u001b[0;36m1j\u001b[0m\u001b[0;34m*\u001b[0m\u001b[0mu\u001b[0m\u001b[0;34m/\u001b[0m\u001b[0mself\u001b[0m\u001b[0;34m.\u001b[0m\u001b[0mM\u001b[0m\u001b[0;34m)\u001b[0m\u001b[0;34m**\u001b[0m\u001b[0mself\u001b[0m\u001b[0;34m.\u001b[0m\u001b[0mY\u001b[0m\u001b[0;34m-\u001b[0m\u001b[0;36m1\u001b[0m\u001b[0;34m+\u001b[0m\u001b[0;36m1j\u001b[0m\u001b[0;34m*\u001b[0m\u001b[0mu\u001b[0m\u001b[0;34m*\u001b[0m\u001b[0mself\u001b[0m\u001b[0;34m.\u001b[0m\u001b[0mY\u001b[0m\u001b[0;34m/\u001b[0m\u001b[0mself\u001b[0m\u001b[0;34m.\u001b[0m\u001b[0mM\u001b[0m\u001b[0;34m)\u001b[0m\u001b[0;34m)\u001b[0m\u001b[0;34m\u001b[0m\u001b[0;34m\u001b[0m\u001b[0m\n\u001b[0m\u001b[1;32m     14\u001b[0m         \u001b[0;32mreturn\u001b[0m \u001b[0mf1\u001b[0m\u001b[0;34m*\u001b[0m\u001b[0mf2\u001b[0m\u001b[0;34m\u001b[0m\u001b[0;34m\u001b[0m\u001b[0m\n",
            "\u001b[0;31mKeyboardInterrupt\u001b[0m: "
          ]
        }
      ]
    },
    {
      "cell_type": "code",
      "metadata": {
        "id": "IwEYGL7pVAKF",
        "outputId": "58d9916e-94cd-4501-98a9-e4fa2d4c05ba",
        "colab": {
          "base_uri": "https://localhost:8080/"
        }
      },
      "source": [
        "CGMY = CGMY2(3638.35,2.56359712,0.10492417,0.54832237,5.539578,0.01043688)\n",
        "ftc1 = FTCall(CGMY)\n",
        "ans = []\n",
        "for i in range(20):\n",
        "  ans.append(ftc1.price_cm(market2[i], 1/12, alpha = 1.5))\n",
        "ans"
      ],
      "execution_count": 153,
      "outputs": [
        {
          "output_type": "stream",
          "text": [
            "/usr/local/lib/python3.6/dist-packages/ipykernel_launcher.py:17: IntegrationWarning: The maximum number of subdivisions (50) has been achieved.\n",
            "  If increasing the limit yields no improvement it is advised to analyze \n",
            "  the integrand in order to determine the difficulties.  If the position of a \n",
            "  local difficulty can be determined (singularity, discontinuity) one will \n",
            "  probably gain from splitting up the interval and calling the integrator \n",
            "  on the subranges.  Perhaps a special-purpose integrator should be used.\n"
          ],
          "name": "stderr"
        },
        {
          "output_type": "execute_result",
          "data": {
            "text/plain": [
              "[100.85662917940435,\n",
              " 96.5088111474378,\n",
              " 92.17704734543871,\n",
              " 87.86503732616377,\n",
              " 83.57433984426582,\n",
              " 79.30364817244612,\n",
              " 75.0589306804773,\n",
              " 70.84094400785874,\n",
              " 66.65354827309561,\n",
              " 62.50000002724352,\n",
              " 58.38635593023267,\n",
              " 54.31964382972905,\n",
              " 50.31071819859372,\n",
              " 46.37691699640679,\n",
              " 42.54902621497515,\n",
              " 38.9124805295851,\n",
              " 36.83417617927008,\n",
              " 35.75654841951859,\n",
              " 34.83295346388432,\n",
              " 34.00280857885506]"
            ]
          },
          "metadata": {
            "tags": []
          },
          "execution_count": 153
        }
      ]
    },
    {
      "cell_type": "code",
      "metadata": {
        "id": "8W4e5E3Trzpk",
        "outputId": "709735f9-bc5c-4994-f4df-3167cd420af1",
        "colab": {
          "base_uri": "https://localhost:8080/"
        }
      },
      "source": [
        "market1"
      ],
      "execution_count": 154,
      "outputs": [
        {
          "output_type": "execute_result",
          "data": {
            "text/plain": [
              "[91.0,\n",
              " 87.5,\n",
              " 84.1,\n",
              " 80.0,\n",
              " 77.6,\n",
              " 74.1,\n",
              " 71.4,\n",
              " 68.4,\n",
              " 65.4,\n",
              " 62.5,\n",
              " 59.7,\n",
              " 57.0,\n",
              " 54.3,\n",
              " 51.4,\n",
              " 49.2,\n",
              " 46.9,\n",
              " 44.4,\n",
              " 42.2,\n",
              " 40.0,\n",
              " 37.8]"
            ]
          },
          "metadata": {
            "tags": []
          },
          "execution_count": 154
        }
      ]
    }
  ]
}