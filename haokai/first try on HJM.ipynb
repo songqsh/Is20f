{
  "nbformat": 4,
  "nbformat_minor": 0,
  "metadata": {
    "colab": {
      "name": "Untitled19.ipynb",
      "provenance": [],
      "authorship_tag": "ABX9TyNgaNGiYbcgzTG9EQTtsccM",
      "include_colab_link": true
    },
    "kernelspec": {
      "name": "python3",
      "display_name": "Python 3"
    }
  },
  "cells": [
    {
      "cell_type": "markdown",
      "metadata": {
        "id": "view-in-github",
        "colab_type": "text"
      },
      "source": [
        "<a href=\"https://colab.research.google.com/github/hhk54250/Is20f/blob/master/haokai/first%20try%20on%20HJM.ipynb\" target=\"_parent\"><img src=\"https://colab.research.google.com/assets/colab-badge.svg\" alt=\"Open In Colab\"/></a>"
      ]
    },
    {
      "cell_type": "code",
      "metadata": {
        "id": "idNfp-ro3tn5"
      },
      "source": [
        "import pandas as pd\n",
        "import numpy as np\n",
        "import matplotlib.pyplot as plt\n",
        "import numpy.random as npr\n",
        "from scipy import linalg as la\n",
        "\n",
        "\n",
        "\n",
        "class PrincipalComponentFactors(object):\n",
        "    def __init__(self, dataframe):\n",
        "        self.tenors     = [float(x) for x in dataframe.columns]\n",
        "        hist_rates      = np.matrix(dataframe)\n",
        "        self.diff_rates = np.diff(hist_rates, axis=0)\n",
        "        \n",
        "        print(\"Data shape : \" + str(self.diff_rates.shape))\n",
        "        #Calculate covariance matrix\n",
        "\n",
        "        self.sigma = np.cov(self.diff_rates.transpose())\n",
        "        print(\"Variance Covariance shape : \" + str(self.sigma.shape))\n",
        "\n",
        "        # Calculate eigenvalues and eigenvectors\n",
        "        evals, evecs = la.eig(self.sigma)\n",
        "        self.evecs   = np.matrix(evecs)\n",
        "\n",
        "        # check the shapes\n",
        "        print(\"eigvalue  shape : \" + str(evals.shape))\n",
        "        print(\"eigvector shape : \" + str(evecs.shape))\n",
        "\n",
        "        # Determine the largest three principal components\n",
        "        factors = 3\n",
        "        index_evecs     = list(reversed(np.real(evals).argsort()))[0:factors]\n",
        "        self.princ_evals= np.array([evals[i] for i in index_evecs])\n",
        "        princ_comp      = np.hstack([self.evecs[:,i] for i in index_evecs])\n",
        "        self.princ_comp = np.real(princ_comp)\n",
        "        # check the shapes\n",
        "        print(\"PC shape : \" + str(self.princ_comp.shape))\n",
        "        \n",
        "    def VolatilityFactors(self):        \n",
        "        sqrt_evals         = np.matrix(self.princ_evals ** .5)\n",
        "        tmp_m              = np.vstack([sqrt_evals for i in range(self.princ_comp.shape[0])]) \n",
        "        self.daily_factors = np.multiply(np.real(tmp_m), self.princ_comp)\n",
        "        self.annual_factors= self.daily_factors * np.sqrt(256)\n",
        "        \n",
        "        v1                 = np.array(self.daily_factors[:,0].flatten())[0]\n",
        "        v2                 = np.array(self.daily_factors[:,1].flatten())[0]\n",
        "        v3                 = np.array(self.daily_factors[:,2].flatten())[0]\n",
        "        \n",
        "        # Take the square to calculate the daily volatility\n",
        "        self.daily_vols = np.sqrt(v1**2 + v2**2 + v3**2)\n",
        "        # Multiply by sqrt of 252 to calculate the annual volatility\n",
        "        self.ann_vols   = (self.daily_vols) *np.sqrt(256)\n",
        "        \n",
        "        \n",
        "        print('daily vols shape: ' + str(self.daily_vols.shape))   \n",
        "       \n",
        "    def PlotPC(self):\n",
        "        # Print Principal Components\n",
        "        plt.figure(figsize=(10,4))\n",
        "        plt.plot(self.tenors, self.princ_comp, marker='.'), plt.title('Principal components'), plt.xlabel(r'Tenor $\\tau$');\n",
        "        plt.grid(True)\n",
        "        plt.show()\n",
        "        \n",
        "    def PlotVF(self):\n",
        "        # Print Daily Volatility Factor. We prefer to print the daily factors as this preserves the factor's sign\n",
        "        plt.figure(figsize=(10,4))\n",
        "        plt.plot(self.tenors, self.daily_factors, marker='.'), \\\n",
        "        plt.title('Daily Volatility Factors'), \\\n",
        "        plt.xlabel(r'Tenor $\\tau$'), plt.ylabel(r'Daily Volatility $\\sigma$');\n",
        "        plt.grid(True)\n",
        "        plt.show()"
      ],
      "execution_count": null,
      "outputs": []
    }
  ]
}