{
  "nbformat": 4,
  "nbformat_minor": 0,
  "metadata": {
    "colab": {
      "name": "Untitled16.ipynb",
      "provenance": [],
      "authorship_tag": "ABX9TyNwtFWsn+sRsVE/sZowFaJe",
      "include_colab_link": true
    },
    "kernelspec": {
      "name": "python3",
      "display_name": "Python 3"
    },
    "accelerator": "GPU"
  },
  "cells": [
    {
      "cell_type": "markdown",
      "metadata": {
        "id": "view-in-github",
        "colab_type": "text"
      },
      "source": [
        "<a href=\"https://colab.research.google.com/github/hhk54250/Is20f/blob/master/haokai/CGMY-FFT%20and%20calibration2.ipynb\" target=\"_parent\"><img src=\"https://colab.research.google.com/assets/colab-badge.svg\" alt=\"Open In Colab\"/></a>"
      ]
    },
    {
      "cell_type": "code",
      "metadata": {
        "id": "dJflZNQ4bO5z"
      },
      "source": [
        "import numpy as np\n",
        "from scipy.integrate import quad\n",
        "import math\n",
        "from scipy import optimize\n",
        "\n",
        "import pandas as pd"
      ],
      "execution_count": 1,
      "outputs": []
    },
    {
      "cell_type": "code",
      "metadata": {
        "id": "OpEcvmIjc-s5"
      },
      "source": [
        "\n",
        "class FTCall:\n",
        "    def __init__(self, model):\n",
        "        self.md = model\n",
        "        \n",
        "    #$\\psi$ function for carr-madan method\n",
        "    def psi(self, w, T, alpha):\n",
        "        o1 = np.exp(-self.md.r*T)\n",
        "        o1 = o1*self.md.charfun(T, w - (alpha+1)*1j)\n",
        "        o2 = alpha**2+alpha-w**2+1j*(2*alpha+1.)*w\n",
        "        return o1/o2\n",
        "    \n",
        "    #carr-madan method with damping\n",
        "    def price_cm(self, K, T, alpha = 1.5):\n",
        "        k = np.log(K)\n",
        "        integrand = lambda w: (np.exp(-1j*w*k)*self.psi(w, T, alpha)).real\n",
        "        integral = quad(integrand, 0, np.inf)[0]\n",
        "        return np.exp(-alpha*k)/np.pi*integral"
      ],
      "execution_count": 2,
      "outputs": []
    },
    {
      "cell_type": "code",
      "metadata": {
        "id": "VfzQXt-gdAhN"
      },
      "source": [
        "class Heston:\n",
        "    def __init__(self, S0, v0, r, kappa, theta, xi, rho):\n",
        "        self.S0 = S0\n",
        "        self.v0 = v0\n",
        "        self.r = r\n",
        "        self.kappa = kappa\n",
        "        self.theta = theta\n",
        "        self.xi = xi\n",
        "        self.rho = rho\n",
        "        \n",
        "    #char func for ln(S_T) from Ng05\n",
        "    def charfun(self, T, u):\n",
        "        t1 = self.kappa - self.rho*self.xi*1j*u\n",
        "        D = np.sqrt(t1**2+(u**2+1j*u)*self.xi**2)\n",
        "        G = (t1-D)/(t1+D)\n",
        "        t2 = 1-G*np.exp(-D*T)\n",
        "        f1 = np.exp(1j*u*(np.log(self.S0+self.r*T)))\n",
        "        f2 = np.exp(self.v0*(1-np.exp(-D*T))*(t1-D)/self.xi**2/t2)\n",
        "        f3 = np.exp(self.kappa*self.theta*(\n",
        "            T*(t1-D)-2*np.log(t2/(1-G)))/self.xi**2)\n",
        "        return f1*f2*f3"
      ],
      "execution_count": 3,
      "outputs": []
    },
    {
      "cell_type": "code",
      "metadata": {
        "id": "MlewI5-GdCs8",
        "colab": {
          "base_uri": "https://localhost:8080/"
        },
        "outputId": "c1b038ee-8d9a-4cc6-ef87-e319468957f0"
      },
      "source": [
        "hes = Heston(100, 0.04, 0.03, 2, 0.04, 0.5, -0.7)\n",
        "ftc = FTCall(hes)\n",
        "ans = ftc.price_cm(100, 0.5, alpha = 1.5)\n",
        "print(\n",
        "      f'Heston FT price by carr-madan is \\n  >> {ans}'\n",
        "      )\n",
        "print('(ref. P61 of [Hirsa13])')"
      ],
      "execution_count": 4,
      "outputs": [
        {
          "output_type": "stream",
          "text": [
            "Heston FT price by carr-madan is \n",
            "  >> 5.112752678867938\n",
            "(ref. P61 of [Hirsa13])\n"
          ],
          "name": "stdout"
        }
      ]
    },
    {
      "cell_type": "code",
      "metadata": {
        "id": "640upV4hdEzM",
        "colab": {
          "base_uri": "https://localhost:8080/"
        },
        "outputId": "aaff3073-e856-47c9-c29a-3fdb8c213242"
      },
      "source": [
        "T = 10\n",
        "#risk free rate\n",
        "r = 0\n",
        "#long term volatility(equiribrium level)\n",
        "theta = 0.0398\n",
        "#Mean reversion speed of volatility\n",
        "kappa = 1.5768\n",
        "#sigma(volatility of Volatility)\n",
        "sigma = 0.5751\n",
        "#rho\n",
        "rho = -0.5751\n",
        "#Initial stock price\n",
        "S0 = 100\n",
        "#Initial volatility\n",
        "v0 = 0.0175\n",
        "def charfun(u):\n",
        "    T = 10\n",
        "    #risk free rate\n",
        "    r = 0\n",
        "    #long term volatility(equiribrium level)\n",
        "    theta = 0.0398\n",
        "    #Mean reversion speed of volatility\n",
        "    kappa = 1.5768\n",
        "    #sigma(volatility of Volatility)\n",
        "    xi = 0.5751\n",
        "    #rho\n",
        "    rho = -0.5751\n",
        "    #Initial stock price\n",
        "    S0 = 100\n",
        "    #Initial volatility\n",
        "    v0 = 0.0175\n",
        "    t1 = kappa - rho*xi*1j*u\n",
        "    D = np.sqrt(t1**2+(u**2+1j*u)*xi**2)\n",
        "    G = (t1-D)/(t1+D)\n",
        "    t2 = 1-G*np.exp(-D*T)\n",
        "    f1 = np.exp(1j*u*(np.log(S0+r*T)))\n",
        "    f2 = np.exp(v0*(1-np.exp(-D*T))*(t1-D)/xi**2/t2)\n",
        "    f3 = np.exp(kappa*theta*(\n",
        "        T*(t1-D)-2*np.log(t2/(1-G)))/xi**2)\n",
        "    return f1*f2*f3\n",
        "def SimpsonW(N,eta):\n",
        "    delt = np.zeros(N, dtype=np.float)\n",
        "    delt[0] = 1\n",
        "    j = np.arange(1, N + 1, 1)\n",
        "    SimpsonW = eta*(3 + (-1) ** j - delt) / 3\n",
        "    return SimpsonW\n",
        "    \n",
        "def psi(w, T, alpha, r):\n",
        "    o1 = np.exp(-r*T)\n",
        "    o1 = o1*charfun(w - (alpha+1)*1j)\n",
        "    o2 = alpha**2+alpha-w**2+1j*(2*alpha+1.)*w\n",
        "    return o1/o2\n",
        "\n",
        "def Heston_NumpyFFT(S0, K, T):\n",
        "    k = np.log(K)\n",
        "    x0 = np.log(S0)\n",
        "    N =2**10\n",
        "    alpha=1.5\n",
        "    \n",
        "    eta=0.15\n",
        "    lambda_ = 2 * np.pi / (N *eta)\n",
        "    beta=x0-lambda_*N/2\n",
        "    km=np.asarray([beta+i*lambda_ for i in range(N)])\n",
        "    W=SimpsonW(N,eta)\n",
        "    v=np.asarray([i*eta for i in range(N)])\n",
        "    Psi=np.asarray([psi(vj, T, alpha, 0)  for vj in v])\n",
        "    FFTFunc=Psi*np.exp(-1j*beta*v)*W\n",
        "    \n",
        "    \n",
        "    y=np.fft.fft(FFTFunc).real\n",
        "    \n",
        "    \n",
        "    cT=np.exp(-alpha*km)*y/np.pi\n",
        "    return cT\n",
        "Heston_NumpyFFT(100, 80, 10)[514]"
      ],
      "execution_count": 5,
      "outputs": [
        {
          "output_type": "execute_result",
          "data": {
            "text/plain": [
              "18.791154357043478"
            ]
          },
          "metadata": {
            "tags": []
          },
          "execution_count": 5
        }
      ]
    },
    {
      "cell_type": "code",
      "metadata": {
        "id": "00lMUeZnz8NW"
      },
      "source": [
        "S0 = 100.0  # index level\n",
        "N =2**10 \n",
        "eta=0.15\n",
        "lambda_ = 2 * np.pi / (N *eta)\n",
        "x0 = np.log(S0)\n",
        "beta=x0-lambda_*N/2\n",
        "k=np.asarray([np.e**(beta+lambda_*n) for n in range(N)])\n"
      ],
      "execution_count": 6,
      "outputs": []
    },
    {
      "cell_type": "code",
      "metadata": {
        "id": "-HbK9Cegx6G_",
        "colab": {
          "base_uri": "https://localhost:8080/",
          "height": 615
        },
        "outputId": "d5a30d5e-26f5-466c-eb48-9ffa6f574dfd"
      },
      "source": [
        "import matplotlib.pyplot as plt\n",
        "plt.plot(Heston_NumpyFFT(100, 80, 10)[300:600]) \n",
        "plt.show()  \n",
        "hes = Heston(100, 0.0175, 0., 1.5768, 0.0398, 0.5751, -0.5751)\n",
        "ftc = FTCall(hes)\n",
        "t=[]\n",
        "for i in range(300,600):\n",
        "  t.append(ftc.price_cm(k[i], 10, alpha = 1.5))\n",
        "plt.plot(t) \n",
        "plt.show() \n"
      ],
      "execution_count": 7,
      "outputs": [
        {
          "output_type": "display_data",
          "data": {
            "image/png": "[encoded data removed]",
            "text/plain": [
              "<Figure size 432x288 with 1 Axes>"
            ]
          },
          "metadata": {
            "tags": [],
            "needs_background": "light"
          }
        },
        {
          "output_type": "stream",
          "text": [
            "/usr/local/lib/python3.6/dist-packages/ipykernel_launcher.py:17: IntegrationWarning: The maximum number of subdivisions (50) has been achieved.\n",
            "  If increasing the limit yields no improvement it is advised to analyze \n",
            "  the integrand in order to determine the difficulties.  If the position of a \n",
            "  local difficulty can be determined (singularity, discontinuity) one will \n",
            "  probably gain from splitting up the interval and calling the integrator \n",
            "  on the subranges.  Perhaps a special-purpose integrator should be used.\n"
          ],
          "name": "stderr"
        },
        {
          "output_type": "display_data",
          "data": {
            "image/png": "[encoded data removed]",
            "text/plain": [
              "<Figure size 432x288 with 1 Axes>"
            ]
          },
          "metadata": {
            "tags": [],
            "needs_background": "light"
          }
        }
      ]
    },
    {
      "cell_type": "code",
      "metadata": {
        "id": "EAtzi_JGmzMU"
      },
      "source": [
        "class FFTCall:\n",
        "    def __init__(self, model):\n",
        "        self.md = model\n",
        "    def psi(self, w, T, alpha):\n",
        "        o1 = np.exp(-self.md.r*T)\n",
        "        o1 = o1*self.md.charfun(T, w - (alpha+1)*1j)\n",
        "        o2 = alpha**2+alpha-w**2+1j*(2*alpha+1.)*w\n",
        "        return o1/o2\n",
        "    def SimpsonW(self, N, eta):\n",
        "        delt = np.zeros(N, dtype=np.float)\n",
        "        delt[0] = 1\n",
        "        j = np.arange(1, N + 1, 1)\n",
        "        SimpsonW = eta*(3 + (-1) ** j - delt) / 3\n",
        "        return SimpsonW\n",
        "    def Heston_NumpyFFT(self, T, N, eta, alpha):\n",
        "        x0 = np.log(self.md.S0)\n",
        "        lambda_ = 2 * np.pi / (N *eta)\n",
        "        beta=x0-lambda_*N/2\n",
        "        km=np.asarray([beta+i*lambda_ for i in range(N)])\n",
        "        W=self.SimpsonW(N,eta)\n",
        "        v=np.asarray([i*eta for i in range(N)])\n",
        "        Psi=np.asarray([self.psi(vj, T, alpha)  for vj in v])\n",
        "        FFTFunc=Psi*np.exp(-1j*beta*v)*W\n",
        "        y=np.fft.fft(FFTFunc).real   \n",
        "        cT=np.exp(-alpha*km)*y/np.pi\n",
        "        return cT    "
      ],
      "execution_count": 8,
      "outputs": []
    },
    {
      "cell_type": "code",
      "metadata": {
        "id": "ANekvupDpzlo"
      },
      "source": [
        "class Heston1:\n",
        "    def __init__(self, S0, v0, r, kappa, theta, xi, rho):\n",
        "        self.S0 = S0\n",
        "        self.v0 = v0\n",
        "        self.r = r\n",
        "        self.kappa = kappa\n",
        "        self.theta = theta\n",
        "        self.xi = xi\n",
        "        self.rho = rho\n",
        "    #char func for ln(S_T) from Ng05\n",
        "    def charfun(self, T, u):\n",
        "        t1 = self.kappa - self.rho*self.xi*1j*u\n",
        "        D = np.sqrt(t1**2+(u**2+1j*u)*self.xi**2)\n",
        "        G = (t1-D)/(t1+D)\n",
        "        t2 = 1-G*np.exp(-D*T)\n",
        "        f1 = np.exp(1j*u*(np.log(self.S0+self.r*T)))\n",
        "        f2 = np.exp(self.v0*(1-np.exp(-D*T))*(t1-D)/self.xi**2/t2)\n",
        "        f3 = np.exp(self.kappa*self.theta*(\n",
        "            T*(t1-D)-2*np.log(t2/(1-G)))/self.xi**2)\n",
        "        return f1*f2*f3\n",
        "\n",
        "hes = Heston1(100, 0.0175, 0., 1.5768, 0.0398, 0.5751, -0.5751)\n",
        "fttc = FFTCall(hes)\n",
        "ans = fttc.Heston_NumpyFFT(10, 2**10, 0.15, alpha = 1.5)\n",
        "ans[514]\n",
        "hes = Heston(100, 0.0175, 0., 1.5768, 0.0398, 0.5751, -0.5751)\n",
        "ftc = FTCall(hes)\n",
        "t=[]"
      ],
      "execution_count": 9,
      "outputs": []
    },
    {
      "cell_type": "code",
      "metadata": {
        "id": "lcciSw-uv0mx",
        "colab": {
          "base_uri": "https://localhost:8080/"
        },
        "outputId": "fe5e2a4f-9668-4495-ef97-a68a6265353d"
      },
      "source": [
        "#speed test\n",
        "\n",
        "\n",
        "%%time\n",
        "for i in range(1023):\n",
        "  t.append(ftc.price_cm(k[i], 10, alpha = 1.5))\n",
        "t"
      ],
      "execution_count": 10,
      "outputs": [
        {
          "output_type": "stream",
          "text": [
            "/usr/local/lib/python3.6/dist-packages/ipykernel_launcher.py:17: IntegrationWarning: The maximum number of subdivisions (50) has been achieved.\n",
            "  If increasing the limit yields no improvement it is advised to analyze \n",
            "  the integrand in order to determine the difficulties.  If the position of a \n",
            "  local difficulty can be determined (singularity, discontinuity) one will \n",
            "  probably gain from splitting up the interval and calling the integrator \n",
            "  on the subranges.  Perhaps a special-purpose integrator should be used.\n"
          ],
          "name": "stderr"
        },
        {
          "output_type": "stream",
          "text": [
            "CPU times: user 29.1 s, sys: 7.11 ms, total: 29.1 s\n",
            "Wall time: 29.1 s\n"
          ],
          "name": "stdout"
        }
      ]
    },
    {
      "cell_type": "code",
      "metadata": {
        "id": "rvYQvVddzgKq",
        "colab": {
          "base_uri": "https://localhost:8080/"
        },
        "outputId": "8176b236-a84d-41e1-92e9-6a446cbea916"
      },
      "source": [
        "%%time\n",
        "fttc.Heston_NumpyFFT(10, 2**10, 0.15, alpha = 1.5)"
      ],
      "execution_count": 11,
      "outputs": [
        {
          "output_type": "stream",
          "text": [
            "CPU times: user 30.5 ms, sys: 5 µs, total: 30.5 ms\n",
            "Wall time: 31.7 ms\n"
          ],
          "name": "stdout"
        },
        {
          "output_type": "execute_result",
          "data": {
            "text/plain": [
              "array([-3.27450836e+14, -3.01260253e+14, -2.75800941e+14, ...,\n",
              "       -2.11086972e-13, -1.96805178e-13, -1.82721879e-13])"
            ]
          },
          "metadata": {
            "tags": []
          },
          "execution_count": 11
        }
      ]
    },
    {
      "cell_type": "code",
      "metadata": {
        "id": "8Uhr_hxsTYth",
        "colab": {
          "base_uri": "https://localhost:8080/",
          "height": 299
        },
        "outputId": "6921042d-0b86-4684-fce3-1b3e4f731a47"
      },
      "source": [
        "class CGMY:\n",
        "    def __init__(self, S0, G, Y, C, M, r):\n",
        "        self.S0 = S0\n",
        "        self.G = G\n",
        "        self.Y = Y\n",
        "        self.C = C\n",
        "        self.M = M\n",
        "        self.r = r\n",
        "    def charfun(self, T, u):\n",
        "        integrand = lambda w: w**(-(self.Y)-1)*(np.e)**(-w)\n",
        "        gamma = quad(integrand, 0, np.inf)[0]\n",
        "        f1 = (np.e)**(self.C*T*gamma*((self.M-1j*u)**self.Y-self.M**self.Y+(self.G+1j*u)**self.Y-self.G**self.Y))\n",
        "        return f1\n",
        "\n",
        "CGMY = CGMY(100,5,0.5,2,10,0.03)\n",
        "ftt2 = FFTCall(CGMY)\n",
        "ans2 = ftt2.Heston_NumpyFFT(0.5, 2**10, 0.15, alpha = 0.5)\n",
        "\n",
        "plt.plot(ans2[100:1024]) \n",
        "plt.show()  "
      ],
      "execution_count": 12,
      "outputs": [
        {
          "output_type": "stream",
          "text": [
            "/usr/local/lib/python3.6/dist-packages/ipykernel_launcher.py:11: IntegrationWarning: The integral is probably divergent, or slowly convergent.\n",
            "  # This is added back by InteractiveShellApp.init_path()\n"
          ],
          "name": "stderr"
        },
        {
          "output_type": "display_data",
          "data": {
            "image/png": "[encoded data removed]",
            "text/plain": [
              "<Figure size 432x288 with 1 Axes>"
            ]
          },
          "metadata": {
            "tags": [],
            "needs_background": "light"
          }
        }
      ]
    },
    {
      "cell_type": "code",
      "metadata": {
        "id": "DqsoLxaS55oA"
      },
      "source": [
        "class CGMY2:\n",
        "    def __init__(self, S0, G, Y, C, M, r):\n",
        "        self.S0 = S0\n",
        "        self.G = G\n",
        "        self.Y = Y\n",
        "        self.C = C\n",
        "        self.M = M\n",
        "        self.r = r\n",
        "    def charfun(self, T, u):\n",
        "        gamma = math.gamma(-(self.Y))\n",
        "        beta = self.C*(self.G**self.Y)*gamma*((1+1/self.G)**self.Y-1-self.Y/self.G) + self.C*(self.M**self.Y)*gamma*((1-1/self.M)**self.Y-1+self.Y/self.M)\n",
        "        f1 = (np.e)**(1j*u*np.log(self.S0)+(self.r-beta)*T)\n",
        "        f2 = (np.e)**(self.C*(self.G**self.Y)*T*gamma*((1+1j*u/self.G)**self.Y-1-1j*u*self.Y/self.G) + self.C*(self.M**self.Y)*T*gamma*((1-1j*u/self.M)**self.Y-1+1j*u*self.Y/self.M))\n",
        "        return f1*f2"
      ],
      "execution_count": 13,
      "outputs": []
    },
    {
      "cell_type": "code",
      "metadata": {
        "id": "mIPQsg7gA-h7"
      },
      "source": [
        "CGMY = CGMY2(100,5,0.5,2,10,0.03)\n",
        "ftt1 = FFTCall(CGMY)\n",
        "ans1 = ftt1.Heston_NumpyFFT(0.5, 2**10, 0.15, alpha = 0.5)"
      ],
      "execution_count": 14,
      "outputs": []
    },
    {
      "cell_type": "code",
      "metadata": {
        "id": "iODF8ia3kem7",
        "colab": {
          "base_uri": "https://localhost:8080/",
          "height": 282
        },
        "outputId": "ccbaeb22-ad5e-4d06-c804-2f57eaaeef94"
      },
      "source": [
        "plt.plot(ans1[300:900]) \n",
        "plt.show()  \n",
        "ans1[514]"
      ],
      "execution_count": 15,
      "outputs": [
        {
          "output_type": "display_data",
          "data": {
            "image/png": "[encoded data removed]",
            "text/plain": [
              "<Figure size 432x288 with 1 Axes>"
            ]
          },
          "metadata": {
            "tags": [],
            "needs_background": "light"
          }
        },
        {
          "output_type": "execute_result",
          "data": {
            "text/plain": [
              "10.725567345057915"
            ]
          },
          "metadata": {
            "tags": []
          },
          "execution_count": 15
        }
      ]
    },
    {
      "cell_type": "code",
      "metadata": {
        "id": "jlI9QjBAtM7l",
        "colab": {
          "base_uri": "https://localhost:8080/"
        },
        "outputId": "e1a4e94a-f6e0-4c60-f2c3-a23a54903e0d"
      },
      "source": [
        "ftc1 = FTCall(CGMY)\n",
        "ans = ftc1.price_cm(40, 0.5, alpha = 1.5)\n",
        "ans\n"
      ],
      "execution_count": 16,
      "outputs": [
        {
          "output_type": "execute_result",
          "data": {
            "text/plain": [
              "62.049226774184774"
            ]
          },
          "metadata": {
            "tags": []
          },
          "execution_count": 16
        }
      ]
    },
    {
      "cell_type": "code",
      "metadata": {
        "id": "mFZ8IF56q8Ys",
        "colab": {
          "base_uri": "https://localhost:8080/"
        },
        "outputId": "d3db0179-6fe4-4af2-9b36-064bcd5138cb"
      },
      "source": [
        "\n",
        "\n",
        "market_price = 62.049226774184774\n",
        "\n",
        "def g(params):\n",
        "    C,G,M,Y,r = params\n",
        "    market_price = 62.049226774184774\n",
        "    CGMY = CGMY2(100,M,Y,C,G,r)\n",
        "    ftc1 = FTCall(CGMY)\n",
        "    ans = ftc1.price_cm(40, 0.5, alpha = 1.5)\n",
        "    return abs(market_price - ans)\n",
        "\n",
        "guess_g=[1,5,2,0.1,0.01]\n",
        "\n",
        "minimum2= optimize.fmin(g,guess_g,maxfun=400000000000,maxiter=400000000000,ftol=1e-50,xtol=1e-12)\n",
        "\n",
        "minimum2"
      ],
      "execution_count": 17,
      "outputs": [
        {
          "output_type": "stream",
          "text": [
            "/usr/local/lib/python3.6/dist-packages/ipykernel_launcher.py:17: IntegrationWarning: The maximum number of subdivisions (50) has been achieved.\n",
            "  If increasing the limit yields no improvement it is advised to analyze \n",
            "  the integrand in order to determine the difficulties.  If the position of a \n",
            "  local difficulty can be determined (singularity, discontinuity) one will \n",
            "  probably gain from splitting up the interval and calling the integrator \n",
            "  on the subranges.  Perhaps a special-purpose integrator should be used.\n"
          ],
          "name": "stderr"
        },
        {
          "output_type": "stream",
          "text": [
            "Optimization terminated successfully.\n",
            "         Current function value: 0.000000\n",
            "         Iterations: 237\n",
            "         Function evaluations: 510\n"
          ],
          "name": "stdout"
        },
        {
          "output_type": "execute_result",
          "data": {
            "text/plain": [
              "array([0.85274671, 5.3672713 , 2.17504803, 0.10000157, 0.01026715])"
            ]
          },
          "metadata": {
            "tags": []
          },
          "execution_count": 17
        }
      ]
    },
    {
      "cell_type": "code",
      "metadata": {
        "id": "if4pW8D13PDp",
        "colab": {
          "base_uri": "https://localhost:8080/"
        },
        "outputId": "bbc14baf-cf03-4eb6-90b2-b67183383a9e"
      },
      "source": [
        "CGMY = CGMY2(100,2.17504803,0.10000157,0.85274671,5.3672713,0.01026715)\n",
        "ftc1 = FTCall(CGMY)\n",
        "ans = ftc1.price_cm(40, 0.5, alpha = 1.5)\n",
        "ans"
      ],
      "execution_count": 18,
      "outputs": [
        {
          "output_type": "stream",
          "text": [
            "/usr/local/lib/python3.6/dist-packages/ipykernel_launcher.py:17: IntegrationWarning: The maximum number of subdivisions (50) has been achieved.\n",
            "  If increasing the limit yields no improvement it is advised to analyze \n",
            "  the integrand in order to determine the difficulties.  If the position of a \n",
            "  local difficulty can be determined (singularity, discontinuity) one will \n",
            "  probably gain from splitting up the interval and calling the integrator \n",
            "  on the subranges.  Perhaps a special-purpose integrator should be used.\n"
          ],
          "name": "stderr"
        },
        {
          "output_type": "execute_result",
          "data": {
            "text/plain": [
              "62.04922676390341"
            ]
          },
          "metadata": {
            "tags": []
          },
          "execution_count": 18
        }
      ]
    },
    {
      "cell_type": "code",
      "metadata": {
        "id": "iE28qaZXuUro",
        "outputId": "87f7833d-0fe0-409d-b175-731590691df3",
        "colab": {
          "base_uri": "https://localhost:8080/"
        }
      },
      "source": [
        "%cd~\n",
        "\n",
        "!git clone https://github.com/hhk54250/IS20.git \n",
        "pass"
      ],
      "execution_count": 19,
      "outputs": [
        {
          "output_type": "stream",
          "text": [
            "/root\n",
            "fatal: destination path 'IS20' already exists and is not an empty directory.\n"
          ],
          "name": "stdout"
        }
      ]
    },
    {
      "cell_type": "code",
      "metadata": {
        "id": "TQaTcR9kuYMt",
        "outputId": "9d20a853-cefc-45db-8179-a787057ea292",
        "colab": {
          "base_uri": "https://localhost:8080/"
        }
      },
      "source": [
        "%cd IS20\n",
        "%ls"
      ],
      "execution_count": 20,
      "outputs": [
        {
          "output_type": "stream",
          "text": [
            "/root/IS20\n",
            "'analytical solution of Heston model.ipynb'\n",
            "'CGMY and implied CGMYr.ipynb'\n",
            "'data(1).csv'\n",
            " Fourier_Transform_Heston_BSM.ipynb\n",
            " Heston-FFT2.ipynb\n",
            " Heston-FFT.ipynb\n",
            "'Option value using fast fourier transform.ipynb'\n",
            "'Option value using fast fourier transform(last version).ipynb'\n",
            " README.md\n",
            " Untitled13.ipynb\n"
          ],
          "name": "stdout"
        }
      ]
    },
    {
      "cell_type": "code",
      "metadata": {
        "id": "zzWdeqgJtJVD",
        "outputId": "4a715618-4805-4f86-cabe-2a2fa2498282",
        "colab": {
          "base_uri": "https://localhost:8080/",
          "height": 393
        }
      },
      "source": [
        "market = pd.read_csv(\"option.csv\")\n",
        "market_strike = market['1']\n"
      ],
      "execution_count": 21,
      "outputs": [
        {
          "output_type": "error",
          "ename": "FileNotFoundError",
          "evalue": "ignored",
          "traceback": [
            "\u001b[0;31m---------------------------------------------------------------------------\u001b[0m",
            "\u001b[0;31mFileNotFoundError\u001b[0m                         Traceback (most recent call last)",
            "\u001b[0;32m<ipython-input-21-a395b437b0cc>\u001b[0m in \u001b[0;36m<module>\u001b[0;34m()\u001b[0m\n\u001b[0;32m----> 1\u001b[0;31m \u001b[0mmarket\u001b[0m \u001b[0;34m=\u001b[0m \u001b[0mpd\u001b[0m\u001b[0;34m.\u001b[0m\u001b[0mread_csv\u001b[0m\u001b[0;34m(\u001b[0m\u001b[0;34m\"option.csv\"\u001b[0m\u001b[0;34m)\u001b[0m\u001b[0;34m\u001b[0m\u001b[0;34m\u001b[0m\u001b[0m\n\u001b[0m\u001b[1;32m      2\u001b[0m \u001b[0mmarket_strike\u001b[0m \u001b[0;34m=\u001b[0m \u001b[0mmarket\u001b[0m\u001b[0;34m[\u001b[0m\u001b[0;34m'1'\u001b[0m\u001b[0;34m]\u001b[0m\u001b[0;34m\u001b[0m\u001b[0;34m\u001b[0m\u001b[0m\n",
            "\u001b[0;32m/usr/local/lib/python3.6/dist-packages/pandas/io/parsers.py\u001b[0m in \u001b[0;36mread_csv\u001b[0;34m(filepath_or_buffer, sep, delimiter, header, names, index_col, usecols, squeeze, prefix, mangle_dupe_cols, dtype, engine, converters, true_values, false_values, skipinitialspace, skiprows, skipfooter, nrows, na_values, keep_default_na, na_filter, verbose, skip_blank_lines, parse_dates, infer_datetime_format, keep_date_col, date_parser, dayfirst, cache_dates, iterator, chunksize, compression, thousands, decimal, lineterminator, quotechar, quoting, doublequote, escapechar, comment, encoding, dialect, error_bad_lines, warn_bad_lines, delim_whitespace, low_memory, memory_map, float_precision)\u001b[0m\n\u001b[1;32m    686\u001b[0m     )\n\u001b[1;32m    687\u001b[0m \u001b[0;34m\u001b[0m\u001b[0m\n\u001b[0;32m--> 688\u001b[0;31m     \u001b[0;32mreturn\u001b[0m \u001b[0m_read\u001b[0m\u001b[0;34m(\u001b[0m\u001b[0mfilepath_or_buffer\u001b[0m\u001b[0;34m,\u001b[0m \u001b[0mkwds\u001b[0m\u001b[0;34m)\u001b[0m\u001b[0;34m\u001b[0m\u001b[0;34m\u001b[0m\u001b[0m\n\u001b[0m\u001b[1;32m    689\u001b[0m \u001b[0;34m\u001b[0m\u001b[0m\n\u001b[1;32m    690\u001b[0m \u001b[0;34m\u001b[0m\u001b[0m\n",
            "\u001b[0;32m/usr/local/lib/python3.6/dist-packages/pandas/io/parsers.py\u001b[0m in \u001b[0;36m_read\u001b[0;34m(filepath_or_buffer, kwds)\u001b[0m\n\u001b[1;32m    452\u001b[0m \u001b[0;34m\u001b[0m\u001b[0m\n\u001b[1;32m    453\u001b[0m     \u001b[0;31m# Create the parser.\u001b[0m\u001b[0;34m\u001b[0m\u001b[0;34m\u001b[0m\u001b[0;34m\u001b[0m\u001b[0m\n\u001b[0;32m--> 454\u001b[0;31m     \u001b[0mparser\u001b[0m \u001b[0;34m=\u001b[0m \u001b[0mTextFileReader\u001b[0m\u001b[0;34m(\u001b[0m\u001b[0mfp_or_buf\u001b[0m\u001b[0;34m,\u001b[0m \u001b[0;34m**\u001b[0m\u001b[0mkwds\u001b[0m\u001b[0;34m)\u001b[0m\u001b[0;34m\u001b[0m\u001b[0;34m\u001b[0m\u001b[0m\n\u001b[0m\u001b[1;32m    455\u001b[0m \u001b[0;34m\u001b[0m\u001b[0m\n\u001b[1;32m    456\u001b[0m     \u001b[0;32mif\u001b[0m \u001b[0mchunksize\u001b[0m \u001b[0;32mor\u001b[0m \u001b[0miterator\u001b[0m\u001b[0;34m:\u001b[0m\u001b[0;34m\u001b[0m\u001b[0;34m\u001b[0m\u001b[0m\n",
            "\u001b[0;32m/usr/local/lib/python3.6/dist-packages/pandas/io/parsers.py\u001b[0m in \u001b[0;36m__init__\u001b[0;34m(self, f, engine, **kwds)\u001b[0m\n\u001b[1;32m    946\u001b[0m             \u001b[0mself\u001b[0m\u001b[0;34m.\u001b[0m\u001b[0moptions\u001b[0m\u001b[0;34m[\u001b[0m\u001b[0;34m\"has_index_names\"\u001b[0m\u001b[0;34m]\u001b[0m \u001b[0;34m=\u001b[0m \u001b[0mkwds\u001b[0m\u001b[0;34m[\u001b[0m\u001b[0;34m\"has_index_names\"\u001b[0m\u001b[0;34m]\u001b[0m\u001b[0;34m\u001b[0m\u001b[0;34m\u001b[0m\u001b[0m\n\u001b[1;32m    947\u001b[0m \u001b[0;34m\u001b[0m\u001b[0m\n\u001b[0;32m--> 948\u001b[0;31m         \u001b[0mself\u001b[0m\u001b[0;34m.\u001b[0m\u001b[0m_make_engine\u001b[0m\u001b[0;34m(\u001b[0m\u001b[0mself\u001b[0m\u001b[0;34m.\u001b[0m\u001b[0mengine\u001b[0m\u001b[0;34m)\u001b[0m\u001b[0;34m\u001b[0m\u001b[0;34m\u001b[0m\u001b[0m\n\u001b[0m\u001b[1;32m    949\u001b[0m \u001b[0;34m\u001b[0m\u001b[0m\n\u001b[1;32m    950\u001b[0m     \u001b[0;32mdef\u001b[0m \u001b[0mclose\u001b[0m\u001b[0;34m(\u001b[0m\u001b[0mself\u001b[0m\u001b[0;34m)\u001b[0m\u001b[0;34m:\u001b[0m\u001b[0;34m\u001b[0m\u001b[0;34m\u001b[0m\u001b[0m\n",
            "\u001b[0;32m/usr/local/lib/python3.6/dist-packages/pandas/io/parsers.py\u001b[0m in \u001b[0;36m_make_engine\u001b[0;34m(self, engine)\u001b[0m\n\u001b[1;32m   1178\u001b[0m     \u001b[0;32mdef\u001b[0m \u001b[0m_make_engine\u001b[0m\u001b[0;34m(\u001b[0m\u001b[0mself\u001b[0m\u001b[0;34m,\u001b[0m \u001b[0mengine\u001b[0m\u001b[0;34m=\u001b[0m\u001b[0;34m\"c\"\u001b[0m\u001b[0;34m)\u001b[0m\u001b[0;34m:\u001b[0m\u001b[0;34m\u001b[0m\u001b[0;34m\u001b[0m\u001b[0m\n\u001b[1;32m   1179\u001b[0m         \u001b[0;32mif\u001b[0m \u001b[0mengine\u001b[0m \u001b[0;34m==\u001b[0m \u001b[0;34m\"c\"\u001b[0m\u001b[0;34m:\u001b[0m\u001b[0;34m\u001b[0m\u001b[0;34m\u001b[0m\u001b[0m\n\u001b[0;32m-> 1180\u001b[0;31m             \u001b[0mself\u001b[0m\u001b[0;34m.\u001b[0m\u001b[0m_engine\u001b[0m \u001b[0;34m=\u001b[0m \u001b[0mCParserWrapper\u001b[0m\u001b[0;34m(\u001b[0m\u001b[0mself\u001b[0m\u001b[0;34m.\u001b[0m\u001b[0mf\u001b[0m\u001b[0;34m,\u001b[0m \u001b[0;34m**\u001b[0m\u001b[0mself\u001b[0m\u001b[0;34m.\u001b[0m\u001b[0moptions\u001b[0m\u001b[0;34m)\u001b[0m\u001b[0;34m\u001b[0m\u001b[0;34m\u001b[0m\u001b[0m\n\u001b[0m\u001b[1;32m   1181\u001b[0m         \u001b[0;32melse\u001b[0m\u001b[0;34m:\u001b[0m\u001b[0;34m\u001b[0m\u001b[0;34m\u001b[0m\u001b[0m\n\u001b[1;32m   1182\u001b[0m             \u001b[0;32mif\u001b[0m \u001b[0mengine\u001b[0m \u001b[0;34m==\u001b[0m \u001b[0;34m\"python\"\u001b[0m\u001b[0;34m:\u001b[0m\u001b[0;34m\u001b[0m\u001b[0;34m\u001b[0m\u001b[0m\n",
            "\u001b[0;32m/usr/local/lib/python3.6/dist-packages/pandas/io/parsers.py\u001b[0m in \u001b[0;36m__init__\u001b[0;34m(self, src, **kwds)\u001b[0m\n\u001b[1;32m   2008\u001b[0m         \u001b[0mkwds\u001b[0m\u001b[0;34m[\u001b[0m\u001b[0;34m\"usecols\"\u001b[0m\u001b[0;34m]\u001b[0m \u001b[0;34m=\u001b[0m \u001b[0mself\u001b[0m\u001b[0;34m.\u001b[0m\u001b[0musecols\u001b[0m\u001b[0;34m\u001b[0m\u001b[0;34m\u001b[0m\u001b[0m\n\u001b[1;32m   2009\u001b[0m \u001b[0;34m\u001b[0m\u001b[0m\n\u001b[0;32m-> 2010\u001b[0;31m         \u001b[0mself\u001b[0m\u001b[0;34m.\u001b[0m\u001b[0m_reader\u001b[0m \u001b[0;34m=\u001b[0m \u001b[0mparsers\u001b[0m\u001b[0;34m.\u001b[0m\u001b[0mTextReader\u001b[0m\u001b[0;34m(\u001b[0m\u001b[0msrc\u001b[0m\u001b[0;34m,\u001b[0m \u001b[0;34m**\u001b[0m\u001b[0mkwds\u001b[0m\u001b[0;34m)\u001b[0m\u001b[0;34m\u001b[0m\u001b[0;34m\u001b[0m\u001b[0m\n\u001b[0m\u001b[1;32m   2011\u001b[0m         \u001b[0mself\u001b[0m\u001b[0;34m.\u001b[0m\u001b[0munnamed_cols\u001b[0m \u001b[0;34m=\u001b[0m \u001b[0mself\u001b[0m\u001b[0;34m.\u001b[0m\u001b[0m_reader\u001b[0m\u001b[0;34m.\u001b[0m\u001b[0munnamed_cols\u001b[0m\u001b[0;34m\u001b[0m\u001b[0;34m\u001b[0m\u001b[0m\n\u001b[1;32m   2012\u001b[0m \u001b[0;34m\u001b[0m\u001b[0m\n",
            "\u001b[0;32mpandas/_libs/parsers.pyx\u001b[0m in \u001b[0;36mpandas._libs.parsers.TextReader.__cinit__\u001b[0;34m()\u001b[0m\n",
            "\u001b[0;32mpandas/_libs/parsers.pyx\u001b[0m in \u001b[0;36mpandas._libs.parsers.TextReader._setup_parser_source\u001b[0;34m()\u001b[0m\n",
            "\u001b[0;31mFileNotFoundError\u001b[0m: [Errno 2] No such file or directory: 'option.csv'"
          ]
        }
      ]
    },
    {
      "cell_type": "code",
      "metadata": {
        "id": "zW_H2UxHvJu8"
      },
      "source": [
        "market"
      ],
      "execution_count": null,
      "outputs": []
    }
  ]
}