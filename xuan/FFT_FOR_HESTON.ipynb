{
  "nbformat": 4,
  "nbformat_minor": 0,
  "metadata": {
    "colab": {
      "name": "Untitled44.ipynb",
      "provenance": [],
      "authorship_tag": "ABX9TyNK6POnAPYVKzxwIYrXNybq",
      "include_colab_link": true
    },
    "kernelspec": {
      "name": "python3",
      "display_name": "Python 3"
    }
  },
  "cells": [
    {
      "cell_type": "markdown",
      "metadata": {
        "id": "view-in-github",
        "colab_type": "text"
      },
      "source": [
        "<a href=\"https://colab.research.google.com/github/yimuzy/Is20f/blob/master/xuan/FFT_FOR_HESTON.ipynb\" target=\"_parent\"><img src=\"https://colab.research.google.com/assets/colab-badge.svg\" alt=\"Open In Colab\"/></a>"
      ]
    },
    {
      "cell_type": "code",
      "metadata": {
        "id": "IJS_6489ndqI"
      },
      "source": [
        "from scipy import *\n",
        "from scipy.integrate import quad\n",
        "import numpy as np\n",
        "import matplotlib.pyplot as plt\n",
        "import scipy.optimize as so"
      ],
      "execution_count": 1,
      "outputs": []
    },
    {
      "cell_type": "code",
      "metadata": {
        "id": "9n3wGjj3noC0"
      },
      "source": [
        "class Heston:\n",
        "\n",
        "    def __init__(self, S0, v0, r, kappa, theta, xi, rho):\n",
        "        self.S0 = S0\n",
        "        self.v0 = v0\n",
        "        self.r = r\n",
        "        self.kappa = kappa\n",
        "        self.theta = theta\n",
        "        self.xi = xi\n",
        "        self.rho = rho\n",
        "\n",
        "    def F_function(self, T , status, lambda_, phi):\n",
        "        kappa = self.kappa\n",
        "        theta = self.theta\n",
        "        xi = self.xi\n",
        "        rho = self.rho\n",
        "        v0 = self.v0\n",
        "        r = self.r\n",
        "        s0 = self.S0\n",
        "        if status == 1:\n",
        "            u = 0.5\n",
        "            b = kappa - rho * xi + lambda_\n",
        "        else:\n",
        "            u = -0.5\n",
        "            b = kappa + lambda_\n",
        "        a = kappa * theta\n",
        "        x = log(s0)\n",
        "        d = sqrt((rho * xi * phi * 1j - b)**2 - xi**2 * (2 * u * phi * 1j - phi**2))\n",
        "        g = (b - rho * xi * phi * 1j + d) / (b - rho * xi * phi * 1j - d)\n",
        "        C = r * phi * 1j * T + (a / xi**2)*((b - rho * xi * phi * 1j + d) * T - 2 * log((1 - g * exp(d * T))/(1 - g)))\n",
        "        D = (b - rho * xi * phi * 1j + d) / xi**2 * ((1 - exp(d * T)) / (1 - g * exp(d * T)))\n",
        "        return exp(C + D * v0 + 1j * phi * x)\n",
        "        \n",
        "\n",
        "    def P_function(self, T , status, lambda_, K):\n",
        "        kappa = self.kappa\n",
        "        theta = self.theta\n",
        "        xi = self.xi\n",
        "        rho = self.rho\n",
        "        v0 = self.v0\n",
        "        r = self.r\n",
        "        s0 = self.S0\n",
        "        integ = lambda phi: (exp(-1j * phi * log(K)) * self.F_function(T , status, lambda_, phi) / (1j * phi)).real\n",
        "        return (0.5 + (1 / pi) * quad(integ, 0, 150)[0])\n",
        "\n",
        "    def Call_price(self, T, K, lambda_):\n",
        "        kappa = self.kappa\n",
        "        theta = self.theta\n",
        "        xi = self.xi\n",
        "        rho = self.rho\n",
        "        v0 = self.v0\n",
        "        r = self.r\n",
        "        s0 = self.S0\n",
        "        p1 = self.P_function(T,1,lambda_,K)\n",
        "        p2 = self.P_function(T,2,lambda_,K)\n",
        "        return (s0 * p1 - K * exp(-r * T) * p2)\n",
        "\n",
        "    def SimpsonW(self, N,eta):\n",
        "        delt = np.zeros(N, dtype=np.float)\n",
        "        delt[0] = 1\n",
        "        j = np.arange(1, N + 1, 1)\n",
        "        SimpsonW = eta*(3 + (-1) ** j - delt) / 3\n",
        "        return SimpsonW\n",
        "\n",
        "    def error_function(self, alpha):\n",
        "        kappa = self.kappa\n",
        "        theta = self.theta\n",
        "        xi = self.xi\n",
        "        rho = self.rho\n",
        "        v0 = self.v0\n",
        "        r = self.r\n",
        "        T = 10\n",
        "        k = np.log(80)\n",
        "        lambda_ = 0\n",
        "        error = 0\n",
        "        N =2**10\n",
        "        eta = 150/N\n",
        "        v = np.asarray([i*eta for i in range(N)])\n",
        "        Psi = np.asarray([self.F_function(T , 2, lambda_, (vj-(alpha+1)*1j))  for vj in v])\n",
        "        ps =  (np.exp(1j*(-k)*v) * np.exp(-r*T) * Psi/(alpha + alpha**2 - v**2 + 1j*v*(2*alpha+1))).real\n",
        "        for i in range(len(ps)):\n",
        "          error += (np.log(ps[i]) - alpha*k)**2\n",
        "        return error\n",
        "\n",
        "    def Hestonfft(self, T,K,lambda_):\n",
        "        kappa = self.kappa\n",
        "        theta = self.theta\n",
        "        xi = self.xi\n",
        "        rho = self.rho\n",
        "        v0 = self.v0\n",
        "        r = self.r\n",
        "        s0 = self.S0\n",
        "        k = np.log(K)\n",
        "        x0 = np.log(s0)   \n",
        "        N =2**10\n",
        "        alpha = 1.5\n",
        "        eta = 150/N\n",
        "        lambda1 = 2 * np.pi / (N *eta)\n",
        "        beta= x0 - lambda1*N/2\n",
        "        b = 0.5 * N * lambda1\n",
        "        km = np.asarray([beta+i*lambda1 for i in range(N)])\n",
        "        W = self.SimpsonW(N,eta)\n",
        "        v = np.asarray([i*eta for i in range(N)])\n",
        "        Psi = np.asarray([self.F_function(T , 2, lambda_, (vj-(alpha+1)*1j))  for vj in v])\n",
        "        FFTFunc = W * np.exp(1j*(b-x0)*v) * np.exp(-r*T) * Psi/(alpha + alpha**2 - v**2 + 1j*v*(2*alpha+1))\n",
        "\n",
        "        y = np.fft.fft(FFTFunc).real\n",
        "        cT = eta * np.exp(-alpha * km) * y/np.pi\n",
        "\n",
        "        ymin = (xi - 2*k*rho - np.sqrt(xi**2+4*k**2-4*k*rho*xi))/(2*xi*(1-rho**2))\n",
        "        ymax = (xi - 2*k*rho - np.sqrt(xi**2+4*k**2-4*k*rho*xi))/(2*xi*(1-rho**2))\n",
        "        \n",
        "        #alpha1 = so.fmin(self.error_function, alpha, disp = 0)[0]\n",
        "\n",
        "        return np.exp(km),cT#,alpha1\n"
      ],
      "execution_count": null,
      "outputs": []
    },
    {
      "cell_type": "code",
      "metadata": {
        "id": "k8CbmU92D-8k",
        "outputId": "ebd77a03-ab0f-40aa-a587-7759b0ab25d3",
        "colab": {
          "base_uri": "https://localhost:8080/",
          "height": 309
        }
      },
      "source": [
        "H = Heston(100, 0.0175, 0., 1.5768, 0.0398, 0.5751, -0.5751)\n",
        "H.Call_price(10, 80, 1)"
      ],
      "execution_count": null,
      "outputs": [
        {
          "output_type": "stream",
          "text": [
            "/usr/local/lib/python3.6/dist-packages/ipykernel_launcher.py:43: DeprecationWarning: scipy.log is deprecated and will be removed in SciPy 2.0.0, use numpy.lib.scimath.log instead\n",
            "/usr/local/lib/python3.6/dist-packages/ipykernel_launcher.py:43: DeprecationWarning: scipy.exp is deprecated and will be removed in SciPy 2.0.0, use numpy.exp instead\n",
            "/usr/local/lib/python3.6/dist-packages/ipykernel_launcher.py:27: DeprecationWarning: scipy.log is deprecated and will be removed in SciPy 2.0.0, use numpy.lib.scimath.log instead\n",
            "/usr/local/lib/python3.6/dist-packages/ipykernel_launcher.py:28: DeprecationWarning: scipy.sqrt is deprecated and will be removed in SciPy 2.0.0, use numpy.lib.scimath.sqrt instead\n",
            "/usr/local/lib/python3.6/dist-packages/ipykernel_launcher.py:30: DeprecationWarning: scipy.exp is deprecated and will be removed in SciPy 2.0.0, use numpy.exp instead\n",
            "/usr/local/lib/python3.6/dist-packages/ipykernel_launcher.py:30: DeprecationWarning: scipy.log is deprecated and will be removed in SciPy 2.0.0, use numpy.lib.scimath.log instead\n",
            "/usr/local/lib/python3.6/dist-packages/ipykernel_launcher.py:31: DeprecationWarning: scipy.exp is deprecated and will be removed in SciPy 2.0.0, use numpy.exp instead\n",
            "/usr/local/lib/python3.6/dist-packages/ipykernel_launcher.py:32: DeprecationWarning: scipy.exp is deprecated and will be removed in SciPy 2.0.0, use numpy.exp instead\n",
            "/usr/local/lib/python3.6/dist-packages/ipykernel_launcher.py:44: IntegrationWarning: The maximum number of subdivisions (50) has been achieved.\n",
            "  If increasing the limit yields no improvement it is advised to analyze \n",
            "  the integrand in order to determine the difficulties.  If the position of a \n",
            "  local difficulty can be determined (singularity, discontinuity) one will \n",
            "  probably gain from splitting up the interval and calling the integrator \n",
            "  on the subranges.  Perhaps a special-purpose integrator should be used.\n",
            "/usr/local/lib/python3.6/dist-packages/ipykernel_launcher.py:56: DeprecationWarning: scipy.exp is deprecated and will be removed in SciPy 2.0.0, use numpy.exp instead\n"
          ],
          "name": "stderr"
        },
        {
          "output_type": "execute_result",
          "data": {
            "text/plain": [
              "10.817302243596643"
            ]
          },
          "metadata": {
            "tags": []
          },
          "execution_count": 147
        }
      ]
    },
    {
      "cell_type": "code",
      "metadata": {
        "id": "uORspNUjD_Hb",
        "outputId": "b5bcdada-d4d7-4799-cf9f-467e633cd5e1",
        "colab": {
          "base_uri": "https://localhost:8080/",
          "height": 139
        }
      },
      "source": [
        "Km,b=H.Hestonfft(10,80,0)"
      ],
      "execution_count": null,
      "outputs": [
        {
          "output_type": "stream",
          "text": [
            "/usr/local/lib/python3.6/dist-packages/ipykernel_launcher.py:27: DeprecationWarning: scipy.log is deprecated and will be removed in SciPy 2.0.0, use numpy.lib.scimath.log instead\n",
            "/usr/local/lib/python3.6/dist-packages/ipykernel_launcher.py:28: DeprecationWarning: scipy.sqrt is deprecated and will be removed in SciPy 2.0.0, use numpy.lib.scimath.sqrt instead\n",
            "/usr/local/lib/python3.6/dist-packages/ipykernel_launcher.py:30: DeprecationWarning: scipy.exp is deprecated and will be removed in SciPy 2.0.0, use numpy.exp instead\n",
            "/usr/local/lib/python3.6/dist-packages/ipykernel_launcher.py:30: DeprecationWarning: scipy.log is deprecated and will be removed in SciPy 2.0.0, use numpy.lib.scimath.log instead\n",
            "/usr/local/lib/python3.6/dist-packages/ipykernel_launcher.py:31: DeprecationWarning: scipy.exp is deprecated and will be removed in SciPy 2.0.0, use numpy.exp instead\n",
            "/usr/local/lib/python3.6/dist-packages/ipykernel_launcher.py:32: DeprecationWarning: scipy.exp is deprecated and will be removed in SciPy 2.0.0, use numpy.exp instead\n"
          ],
          "name": "stderr"
        }
      ]
    },
    {
      "cell_type": "code",
      "metadata": {
        "id": "qgoZgcCnD_Jt",
        "outputId": "c2c37973-6546-43c1-f2cd-fa89ee738f5c",
        "colab": {
          "base_uri": "https://localhost:8080/",
          "height": 282
        }
      },
      "source": [
        "\n",
        "plt.plot(b[480:520])"
      ],
      "execution_count": null,
      "outputs": [
        {
          "output_type": "execute_result",
          "data": {
            "text/plain": [
              "[<matplotlib.lines.Line2D at 0x7fe1a50b8940>]"
            ]
          },
          "metadata": {
            "tags": []
          },
          "execution_count": 143
        },
        {
          "output_type": "display_data",
          "data": {
            "image/png": "[encoded data removed]",
            "text/plain": [
              "<Figure size 432x288 with 1 Axes>"
            ]
          },
          "metadata": {
            "tags": [],
            "needs_background": "light"
          }
        }
      ]
    },
    {
      "cell_type": "code",
      "metadata": {
        "id": "Uk6e57x3D_MK",
        "outputId": "93673383-b35c-4635-d753-1224233edfae",
        "colab": {
          "base_uri": "https://localhost:8080/",
          "height": 292
        }
      },
      "source": [
        "AS = np.array([H.Call_price(10, K, 0) for K in Km[480:520]])"
      ],
      "execution_count": null,
      "outputs": [
        {
          "output_type": "stream",
          "text": [
            "/usr/local/lib/python3.6/dist-packages/ipykernel_launcher.py:43: DeprecationWarning: scipy.log is deprecated and will be removed in SciPy 2.0.0, use numpy.lib.scimath.log instead\n",
            "/usr/local/lib/python3.6/dist-packages/ipykernel_launcher.py:43: DeprecationWarning: scipy.exp is deprecated and will be removed in SciPy 2.0.0, use numpy.exp instead\n",
            "/usr/local/lib/python3.6/dist-packages/ipykernel_launcher.py:27: DeprecationWarning: scipy.log is deprecated and will be removed in SciPy 2.0.0, use numpy.lib.scimath.log instead\n",
            "/usr/local/lib/python3.6/dist-packages/ipykernel_launcher.py:28: DeprecationWarning: scipy.sqrt is deprecated and will be removed in SciPy 2.0.0, use numpy.lib.scimath.sqrt instead\n",
            "/usr/local/lib/python3.6/dist-packages/ipykernel_launcher.py:30: DeprecationWarning: scipy.exp is deprecated and will be removed in SciPy 2.0.0, use numpy.exp instead\n",
            "/usr/local/lib/python3.6/dist-packages/ipykernel_launcher.py:30: DeprecationWarning: scipy.log is deprecated and will be removed in SciPy 2.0.0, use numpy.lib.scimath.log instead\n",
            "/usr/local/lib/python3.6/dist-packages/ipykernel_launcher.py:31: DeprecationWarning: scipy.exp is deprecated and will be removed in SciPy 2.0.0, use numpy.exp instead\n",
            "/usr/local/lib/python3.6/dist-packages/ipykernel_launcher.py:32: DeprecationWarning: scipy.exp is deprecated and will be removed in SciPy 2.0.0, use numpy.exp instead\n",
            "/usr/local/lib/python3.6/dist-packages/ipykernel_launcher.py:44: IntegrationWarning: The maximum number of subdivisions (50) has been achieved.\n",
            "  If increasing the limit yields no improvement it is advised to analyze \n",
            "  the integrand in order to determine the difficulties.  If the position of a \n",
            "  local difficulty can be determined (singularity, discontinuity) one will \n",
            "  probably gain from splitting up the interval and calling the integrator \n",
            "  on the subranges.  Perhaps a special-purpose integrator should be used.\n",
            "/usr/local/lib/python3.6/dist-packages/ipykernel_launcher.py:56: DeprecationWarning: scipy.exp is deprecated and will be removed in SciPy 2.0.0, use numpy.exp instead\n"
          ],
          "name": "stderr"
        }
      ]
    },
    {
      "cell_type": "code",
      "metadata": {
        "id": "EUrnxWhiMGvt",
        "outputId": "901b4cf6-5926-4ddc-9c11-72b5c9689983",
        "colab": {
          "base_uri": "https://localhost:8080/",
          "height": 284
        }
      },
      "source": [
        "plt.plot(AS)"
      ],
      "execution_count": null,
      "outputs": [
        {
          "output_type": "execute_result",
          "data": {
            "text/plain": [
              "[<matplotlib.lines.Line2D at 0x7fe1a55b8cc0>]"
            ]
          },
          "metadata": {
            "tags": []
          },
          "execution_count": 145
        },
        {
          "output_type": "display_data",
          "data": {
            "image/png": "[encoded data removed]",
            "text/plain": [
              "<Figure size 432x288 with 1 Axes>"
            ]
          },
          "metadata": {
            "tags": [],
            "needs_background": "light"
          }
        }
      ]
    },
    {
      "cell_type": "code",
      "metadata": {
        "id": "yCXtr9TLMYmh"
      },
      "source": [
        "class Heston:\n",
        "    def __init__(self, S0, v0, r, kappa, theta, xi, rho):\n",
        "        self.S0 = S0\n",
        "        self.v0 = v0\n",
        "        self.r = r\n",
        "        self.kappa = kappa\n",
        "        self.theta = theta\n",
        "        self.xi = xi\n",
        "        self.rho = rho\n",
        "        \n",
        "    #char func for ln(S_T) from Ng05\n",
        "    def charfun(self, T, u):\n",
        "        t1 = self.kappa - self.rho*self.xi*1j*u\n",
        "        D = np.sqrt(t1**2+(u**2+1j*u)*self.xi**2)\n",
        "        G = (t1-D)/(t1+D)\n",
        "        t2 = 1-G*np.exp(-D*T)\n",
        "        f1 = np.exp(1j*u*(np.log(self.S0+self.r*T)))\n",
        "        f2 = np.exp(self.v0*(1-np.exp(-D*T))*(t1-D)/self.xi**2/t2)\n",
        "        f3 = np.exp(self.kappa*self.theta*(\n",
        "            T*(t1-D)-2*np.log(t2/(1-G)))/self.xi**2)\n",
        "        return f1*f2*f3\n",
        "\n",
        "    def psi(self, w, T, alpha):\n",
        "        r = self.r\n",
        "        o1 = np.exp(-r*T)\n",
        "        o1 = o1*self.charfun(T, w - (alpha+1)*1j)\n",
        "        o2 = alpha**2+alpha-w**2+1j*(2*alpha+1.)*w\n",
        "        return o1/o2\n",
        "    \n",
        "    #carr-madan method with damping\n",
        "    def price_cm(self, K, T, alpha = 1.5):\n",
        "        k = np.log(K)\n",
        "        integrand = lambda w: (np.exp(-1j*w*k)*self.psi(w, T, alpha)).real\n",
        "        integral = quad(integrand, 0, np.inf)[0]\n",
        "        return np.exp(-alpha*k)/np.pi*integral\n",
        "\n",
        "    def SimpsonW(self, N,eta):\n",
        "        delt = np.zeros(N, dtype=np.float)\n",
        "        delt[0] = 1\n",
        "        j = np.arange(1, N + 1, 1)\n",
        "        SimpsonW = eta*(3 + (-1) ** j - delt) / 3\n",
        "        return SimpsonW\n",
        "\n",
        "    def Hestonfft(self, T,K):\n",
        "        kappa = self.kappa\n",
        "        theta = self.theta\n",
        "        xi = self.xi\n",
        "        rho = self.rho\n",
        "        v0 = self.v0\n",
        "        r = self.r\n",
        "        s0 = self.S0\n",
        "        k = np.log(K)\n",
        "        x0 = np.log(s0)   \n",
        "        N =2**10\n",
        "        alpha = 1.5\n",
        "        eta = 0.15\n",
        "        lambda1 = 2 * np.pi / (N *eta)\n",
        "        beta= x0 - lambda1*N/2\n",
        "        km = np.asarray([beta+i*lambda1 for i in range(N)])\n",
        "        W = self.SimpsonW(N,eta)\n",
        "        v = np.asarray([i*eta for i in range(N)])\n",
        "        Psi = np.asarray([self.psi(vj, T, alpha)  for vj in v])\n",
        "        FFTFunc = Psi*np.exp(-1j*beta*v)*W\n",
        "\n",
        "        y=np.fft.fft(FFTFunc).real\n",
        "        cT=np.exp(-alpha*km)*y/np.pi\n",
        "\n",
        "        return np.exp(km),cT"
      ],
      "execution_count": 10,
      "outputs": []
    },
    {
      "cell_type": "code",
      "metadata": {
        "id": "IdTwLuNMB7nb",
        "outputId": "b5ea2f64-bce4-4ceb-80af-fed5b7c211b3",
        "colab": {
          "base_uri": "https://localhost:8080/",
          "height": 34
        }
      },
      "source": [
        "H = Heston(100, 0.0175, 0., 1.5768, 0.0398, 0.5751, -0.5751)\n",
        "H.price_cm(80, 10, alpha = 1.5)"
      ],
      "execution_count": 11,
      "outputs": [
        {
          "output_type": "execute_result",
          "data": {
            "text/plain": [
              "32.57957785990925"
            ]
          },
          "metadata": {
            "tags": []
          },
          "execution_count": 11
        }
      ]
    },
    {
      "cell_type": "code",
      "metadata": {
        "id": "n3PQSXvaGMSu",
        "outputId": "212ad440-a22f-43cb-dd93-fb4d03450ae4",
        "colab": {
          "base_uri": "https://localhost:8080/",
          "height": 34
        }
      },
      "source": [
        "k,c= H.Hestonfft(10,80)\n",
        "print(np.interp(80,k,c))"
      ],
      "execution_count": 12,
      "outputs": [
        {
          "output_type": "stream",
          "text": [
            "32.58952680972135\n"
          ],
          "name": "stdout"
        }
      ]
    },
    {
      "cell_type": "code",
      "metadata": {
        "id": "MhsL7ekTG75R",
        "outputId": "6efd31c2-7457-4e2f-a84a-486dff565281",
        "colab": {
          "base_uri": "https://localhost:8080/",
          "height": 282
        }
      },
      "source": [
        "plt.plot(c[475:525])"
      ],
      "execution_count": 18,
      "outputs": [
        {
          "output_type": "execute_result",
          "data": {
            "text/plain": [
              "[<matplotlib.lines.Line2D at 0x7f344348bb00>]"
            ]
          },
          "metadata": {
            "tags": []
          },
          "execution_count": 18
        },
        {
          "output_type": "display_data",
          "data": {
            "image/png": "[encoded data removed]",
            "text/plain": [
              "<Figure size 432x288 with 1 Axes>"
            ]
          },
          "metadata": {
            "tags": [],
            "needs_background": "light"
          }
        }
      ]
    },
    {
      "cell_type": "code",
      "metadata": {
        "id": "6SFEag62HXEw",
        "outputId": "57d6c894-76da-429b-e643-7de860d16a0f",
        "colab": {
          "base_uri": "https://localhost:8080/",
          "height": 282
        }
      },
      "source": [
        "AS = np.array([H.price_cm(K,10, alpha = 1.5) for K in k[475:525]])\n",
        "plt.plot(AS)"
      ],
      "execution_count": 19,
      "outputs": [
        {
          "output_type": "execute_result",
          "data": {
            "text/plain": [
              "[<matplotlib.lines.Line2D at 0x7f3443474cc0>]"
            ]
          },
          "metadata": {
            "tags": []
          },
          "execution_count": 19
        },
        {
          "output_type": "display_data",
          "data": {
            "image/png": "[encoded data removed]",
            "text/plain": [
              "<Figure size 432x288 with 1 Axes>"
            ]
          },
          "metadata": {
            "tags": [],
            "needs_background": "light"
          }
        }
      ]
    },
    {
      "cell_type": "code",
      "metadata": {
        "id": "nioUQGu9H20B",
        "outputId": "3dea782d-2bdf-476c-9478-ac551b845245",
        "colab": {
          "base_uri": "https://localhost:8080/",
          "height": 282
        }
      },
      "source": [
        "plt.plot(k[475:525],AS,'o',label='FFT Price')\n",
        "plt.plot(k[475:525],c[475:525],label='Calculated Price')\n",
        "plt.legend()"
      ],
      "execution_count": 25,
      "outputs": [
        {
          "output_type": "execute_result",
          "data": {
            "text/plain": [
              "<matplotlib.legend.Legend at 0x7f34431f0518>"
            ]
          },
          "metadata": {
            "tags": []
          },
          "execution_count": 25
        },
        {
          "output_type": "display_data",
          "data": {
            "image/png": "[encoded data removed]",
            "text/plain": [
              "<Figure size 432x288 with 1 Axes>"
            ]
          },
          "metadata": {
            "tags": [],
            "needs_background": "light"
          }
        }
      ]
    },
    {
      "cell_type": "code",
      "metadata": {
        "id": "fxLEp_-JImYz"
      },
      "source": [
        ""
      ],
      "execution_count": null,
      "outputs": []
    }
  ]
}