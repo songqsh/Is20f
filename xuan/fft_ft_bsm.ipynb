{
  "nbformat": 4,
  "nbformat_minor": 0,
  "metadata": {
    "colab": {
      "name": "“Untitled8.ipynb”的副本",
      "provenance": [],
      "include_colab_link": true
    },
    "kernelspec": {
      "name": "python3",
      "display_name": "Python 3"
    }
  },
  "cells": [
    {
      "cell_type": "markdown",
      "metadata": {
        "id": "view-in-github",
        "colab_type": "text"
      },
      "source": [
        "<a href=\"https://colab.research.google.com/github/yimuzy/Is20f/blob/master/xuan/fft_ft_bsm.ipynb\" target=\"_parent\"><img src=\"https://colab.research.google.com/assets/colab-badge.svg\" alt=\"Open In Colab\"/></a>"
      ]
    },
    {
      "cell_type": "code",
      "metadata": {
        "id": "5RqYQQdXP653",
        "colab_type": "code",
        "colab": {}
      },
      "source": [
        "import numpy as np\n",
        "\n",
        "def BSM_characteristic_function(v, x0, T, r, sigma):\n",
        "    cf_value = np.exp(((x0 / T + r - 0.5 * sigma ** 2) * 1j * v\n",
        "                - 0.5 * sigma ** 2 * v ** 2) * T)\n",
        "    return cf_value\n",
        "def BSM_call_characteristic_function(v,alpha, x0, T, r, sigma):\n",
        "    res=np.exp(-r*T)/((alpha+1j*v)*(alpha+1j*v+1))\\\n",
        "        *BSM_characteristic_function((v-(alpha+1)*1j), x0, T, r, sigma)\n",
        "    return res\n",
        "    \n",
        "def SimpsonW(N,eta):\n",
        "    delt = np.zeros(N, dtype=np.float)\n",
        "    delt[0] = 1\n",
        "    j = np.arange(1, N + 1, 1)\n",
        "    SimpsonW = eta*(3 + (-1) ** j - delt) / 3\n",
        "    return SimpsonW\n",
        "    \n",
        "\n",
        "def Simposon_numerical_integrate(S0, K, T, r, sigma):\n",
        "    k = np.log(K)\n",
        "    x0 = np.log(S0)\n",
        "    N=1024\n",
        "    B=153.6\n",
        "    eta=B/N\n",
        "    W=SimpsonW(N,eta)\n",
        "    \n",
        "    alpha=1.5\n",
        "    sumx=0\n",
        "    for j in range(N):\n",
        "        v_j=j*eta\n",
        "        temp=np.exp(-1j*v_j*k)*\\\n",
        "            BSM_call_characteristic_function(v_j,alpha, x0, T, r, sigma)*\\\n",
        "            W[j]            \n",
        "        sumx+=temp.real\n",
        "\n",
        "        \n",
        "    return sumx*np.exp(-alpha*k)/np.pi"
      ],
      "execution_count": null,
      "outputs": []
    },
    {
      "cell_type": "code",
      "metadata": {
        "id": "o6flkUKoQBhP",
        "colab_type": "code",
        "colab": {
          "base_uri": "https://localhost:8080/",
          "height": 34
        },
        "outputId": "844edb7c-720b-4b69-c3a0-4b0547291d77"
      },
      "source": [
        "S0 = 100.0  # index level\n",
        "K = 108.52520983216910821762196480844  # option strike\n",
        "T = 1.0  # maturity date\n",
        "r = 0.0475  # risk-less short rate\n",
        "sigma = 0.2  # volatility\n",
        "\n",
        "print ('>>>>>>>>>>FT call value is ' + str(Simposon_numerical_integrate(S0, K, T, r, sigma)))"
      ],
      "execution_count": null,
      "outputs": [
        {
          "output_type": "stream",
          "text": [
            ">>>>>>>>>>FT call value is 6.477779672276538\n"
          ],
          "name": "stdout"
        }
      ]
    },
    {
      "cell_type": "code",
      "metadata": {
        "id": "OjH6ZsKjaGIy",
        "colab_type": "code",
        "colab": {
          "base_uri": "https://localhost:8080/",
          "height": 51
        },
        "outputId": "bd05448d-0cc5-4c22-a17a-1deb0996e4da"
      },
      "source": [
        "%cd~\n",
        "\n",
        "!git clone https://github.com/hhk54250/20MA573-HHK.git \n",
        "pass\n"
      ],
      "execution_count": null,
      "outputs": [
        {
          "output_type": "stream",
          "text": [
            "/root\n",
            "fatal: destination path '20MA573-HHK' already exists and is not an empty directory.\n"
          ],
          "name": "stdout"
        }
      ]
    },
    {
      "cell_type": "code",
      "metadata": {
        "id": "ISQhrM8EaHx-",
        "colab_type": "code",
        "colab": {
          "base_uri": "https://localhost:8080/",
          "height": 51
        },
        "outputId": "688867a0-1328-417c-eac4-367123a83cd3"
      },
      "source": [
        "\n",
        "%cd 20MA573-HHK/src/\n",
        "%ls"
      ],
      "execution_count": null,
      "outputs": [
        {
          "output_type": "stream",
          "text": [
            "/root/20MA573-HHK/src\n",
            "bsm.py  optiondata.dat  prj01.ipynb  prj02.ipynb  \u001b[0m\u001b[01;34m__pycache__\u001b[0m/\n"
          ],
          "name": "stdout"
        }
      ]
    },
    {
      "cell_type": "code",
      "metadata": {
        "id": "nm8aSkBdaLDB",
        "colab_type": "code",
        "colab": {
          "base_uri": "https://localhost:8080/",
          "height": 34
        },
        "outputId": "d74b2a92-51ba-444c-ad82-4d4ba5d695a6"
      },
      "source": [
        "from bsm import *\n",
        "\n",
        "\n",
        "'''===============\n",
        "Test bsm_price\n",
        "================='''\n",
        "gbm1 = Gbm(\n",
        "    init_state = 100., \n",
        "    drift_ratio = .0475,\n",
        "    vol_ratio = .2)\n",
        "option1 = VanillaOption(\n",
        "    otype = 1,\n",
        "    strike = 108.52520983216910821762196480844,                \n",
        "    maturity = 1.\n",
        ")    \n",
        "\n",
        "print('>>>>>>>>>>BSM call value is ' + str(gbm1.bsm_price(option1)))"
      ],
      "execution_count": null,
      "outputs": [
        {
          "output_type": "stream",
          "text": [
            ">>>>>>>>>>BSM call value is 6.477779672277251\n"
          ],
          "name": "stdout"
        }
      ]
    },
    {
      "cell_type": "code",
      "metadata": {
        "id": "wZPFM4f5GLyQ",
        "colab_type": "code",
        "colab": {}
      },
      "source": [
        "def fft(FFTFunc):\n",
        "    N=2**10\n",
        "    eta=0.15\n",
        "    lambda_ = 2 * np.pi / (N *eta)   \n",
        "    t=np.arange(0, N, 1)\n",
        "    sumy=np.asarray([np.sum(np.exp(-1j*lambda_*eta*t*m)*FFTFunc) for m in range(N)])\n",
        "\n",
        "        \n",
        "    return sumy\n",
        "\n",
        "def BSM_call_value_FFT(S0, K, T, r, sigma):\n",
        "    k = np.log(K)\n",
        "    x0 = np.log(S0)\n",
        "    N =2**10\n",
        "    alpha=1.5\n",
        "    \n",
        "    eta=0.15\n",
        "    lambda_ = 2 * np.pi / (N *eta)\n",
        "    beta=x0-lambda_*N/2\n",
        "    km=np.asarray([beta+i*lambda_ for i in range(N)])\n",
        "    W=SimpsonW(N,eta)\n",
        "    v=np.asarray([i*eta for i in range(N)])\n",
        "    Psi=np.asarray([BSM_call_characteristic_function(vj,alpha, x0, T, r, sigma)  for vj in v])\n",
        "    FFTFunc=Psi*np.exp(-1j*beta*v)*W\n",
        "    \n",
        "    \n",
        "    y=fft(FFTFunc).real\n",
        "    \n",
        "    \n",
        "    cT=np.exp(-alpha*km)*y/np.pi\n",
        "    \n",
        "    return cT"
      ],
      "execution_count": null,
      "outputs": []
    },
    {
      "cell_type": "code",
      "metadata": {
        "id": "qw3IRxSxGNPp",
        "colab_type": "code",
        "colab": {
          "base_uri": "https://localhost:8080/",
          "height": 34
        },
        "outputId": "baffd364-3eda-4695-d2fd-5b6eadcecf01"
      },
      "source": [
        "\n",
        "S0 = 100.0  # index level\n",
        "K = 110.0  # option strike\n",
        "T = 1.0  # maturity date\n",
        "r = 0.0475  # risk-less short rate\n",
        "sigma = 0.2  # volatility\n",
        "print('>>>>>>>>>>FFT call value is ' + str(BSM_call_value_FFT(S0, K, T, r, sigma)[514]))"
      ],
      "execution_count": null,
      "outputs": [
        {
          "output_type": "stream",
          "text": [
            ">>>>>>>>>>FFT call value is 6.4777796722766245\n"
          ],
          "name": "stdout"
        }
      ]
    },
    {
      "cell_type": "code",
      "metadata": {
        "id": "IeohOYvGpsHG",
        "colab_type": "code",
        "colab": {
          "base_uri": "https://localhost:8080/",
          "height": 85
        },
        "outputId": "ccda2fa6-e352-48fc-ae53-c41957ba37a1"
      },
      "source": [
        "\"FFT time test\"\n",
        "S0 = 100.0  # index level\n",
        "K = 110.0  # option strike\n",
        "T = 1.0  # maturity date\n",
        "r = 0.0475  # risk-less short rate\n",
        "sigma = 0.2  # volatility\n",
        "%time BSM_call_value_FFT(S0, K, T, r, sigma)"
      ],
      "execution_count": null,
      "outputs": [
        {
          "output_type": "stream",
          "text": [
            "CPU times: user 112 ms, sys: 1 ms, total: 113 ms\n",
            "Wall time: 118 ms\n"
          ],
          "name": "stdout"
        },
        {
          "output_type": "execute_result",
          "data": {
            "text/plain": [
              "array([-1.51437903e+14, -1.21413940e+14, -9.50754645e+13, ...,\n",
              "       -1.33706636e-13, -1.13945211e-13, -9.53065405e-14])"
            ]
          },
          "metadata": {
            "tags": []
          },
          "execution_count": 196
        }
      ]
    },
    {
      "cell_type": "code",
      "metadata": {
        "id": "4o_h-Et_sHrc",
        "colab_type": "code",
        "colab": {
          "base_uri": "https://localhost:8080/",
          "height": 85
        },
        "outputId": "5958d474-3a8d-499f-a403-223faa91aae8"
      },
      "source": [
        "\"FT time test\"\n",
        "S0 = 100.0  # index level\n",
        "T = 1.0  # maturity date\n",
        "r = 0.0475  # risk-less short rate\n",
        "sigma = 0.2  # volatility\n",
        "N =2**10 \n",
        "eta=0.15\n",
        "lambda_ = 2 * np.pi / (N *eta)\n",
        "x0 = np.log(S0)\n",
        "beta=x0-lambda_*N/2\n",
        "k=np.asarray([np.e**(beta+lambda_*n) for n in range(N)])\n",
        "%time np.asarray([Simposon_numerical_integrate(S0, k[n], T, r, sigma) for n in range(N)])\n"
      ],
      "execution_count": null,
      "outputs": [
        {
          "output_type": "stream",
          "text": [
            "CPU times: user 14.4 s, sys: 991 µs, total: 14.4 s\n",
            "Wall time: 14.4 s\n"
          ],
          "name": "stdout"
        },
        {
          "output_type": "execute_result",
          "data": {
            "text/plain": [
              "array([-1.51437903e+14, -1.21413940e+14, -9.50754645e+13, ...,\n",
              "       -1.33706636e-13, -1.13945211e-13, -9.53065405e-14])"
            ]
          },
          "metadata": {
            "tags": []
          },
          "execution_count": 197
        }
      ]
    },
    {
      "cell_type": "code",
      "metadata": {
        "id": "xHob98mH4FXo",
        "colab_type": "code",
        "colab": {
          "base_uri": "https://localhost:8080/",
          "height": 85
        },
        "outputId": "26a0d8cf-3de8-43f2-9721-daa887f2e078"
      },
      "source": [
        "\"BSM time test\"\n",
        "gbm1 = Gbm(\n",
        "    init_state = 100., \n",
        "    drift_ratio = .0475,\n",
        "    vol_ratio = .2)\n",
        "option1 = VanillaOption(\n",
        "    otype = 1,\n",
        "    strike = k,                \n",
        "    maturity = 1.\n",
        ")    \n",
        "\n",
        "%time gbm1.bsm_price(option1)"
      ],
      "execution_count": null,
      "outputs": [
        {
          "output_type": "stream",
          "text": [
            "CPU times: user 2.16 ms, sys: 1e+03 ns, total: 2.16 ms\n",
            "Wall time: 1.75 ms\n"
          ],
          "name": "stdout"
        },
        {
          "output_type": "execute_result",
          "data": {
            "text/plain": [
              "array([99.99999992, 99.99999992, 99.99999992, ...,  0.        ,\n",
              "        0.        ,  0.        ])"
            ]
          },
          "metadata": {
            "tags": []
          },
          "execution_count": 198
        }
      ]
    }
  ]
}