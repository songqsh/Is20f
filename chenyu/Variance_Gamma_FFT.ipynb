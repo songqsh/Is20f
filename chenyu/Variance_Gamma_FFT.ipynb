{
  "nbformat": 4,
  "nbformat_minor": 0,
  "metadata": {
    "colab": {
      "name": "Variance Gamma FFT.ipynb",
      "provenance": [],
      "collapsed_sections": [],
      "authorship_tag": "ABX9TyPqjniGPlgPuIGXhQMmI8Ss",
      "include_colab_link": true
    },
    "kernelspec": {
      "name": "python3",
      "display_name": "Python 3"
    }
  },
  "cells": [
    {
      "cell_type": "markdown",
      "metadata": {
        "id": "view-in-github",
        "colab_type": "text"
      },
      "source": [
        "<a href=\"https://colab.research.google.com/github/wuchenyu38/Is20f/blob/master/chenyu/Variance_Gamma_FFT.ipynb\" target=\"_parent\"><img src=\"https://colab.research.google.com/assets/colab-badge.svg\" alt=\"Open In Colab\"/></a>"
      ]
    },
    {
      "cell_type": "code",
      "metadata": {
        "id": "cAmPjxkk1SFw"
      },
      "source": [
        "import numpy as np\n",
        "from scipy.integrate import quad"
      ],
      "execution_count": 4,
      "outputs": []
    },
    {
      "cell_type": "markdown",
      "metadata": {
        "id": "ibg1chqq2wXx"
      },
      "source": [
        "$$\n",
        "\\phi_T(u)=e^{[ln^{S_0}+(r+\\omega)T]}(1-i\\theta vu+\\frac{1}{2}\\sigma^2 u^2v)^{-\\frac{T}{v}}\n",
        "$$"
      ]
    },
    {
      "cell_type": "code",
      "metadata": {
        "id": "f9O_BuHPIANl"
      },
      "source": [
        "def charfun(S0, T, r, v, theta, sigma, u):\n",
        "     omega = (1/v)*np.log(1-theta*v-1/2*sigma**2*v)\n",
        "     phi = np.exp(np.log(S0)+(r+omega)*T)*(1-1j*theta*v*u+1/2*sigma**2*u**2*v)^(-T/v)\n",
        "     return Phi"
      ],
      "execution_count": null,
      "outputs": []
    },
    {
      "cell_type": "markdown",
      "metadata": {
        "id": "k7pTZyyBJ4dp"
      },
      "source": [
        "$$\n",
        "\\psi_T(v)=\\frac{e^{-rT}\\Phi_T(v-(\\alpha+1)i)}{\\alpha^2+\\alpha-v^2+i(2\\alpha+1)v}\n",
        "$$"
      ]
    },
    {
      "cell_type": "code",
      "metadata": {
        "id": "21yASDpUIAFl"
      },
      "source": [
        "o1 = np.exp(-r*T)*charfun(S0, T, r, v, theta, sigma, w - (alpha+1)*1j)\n",
        "o2 = alpha**2+alpha-w**2+1j*(2*alpha+1.)*w\n",
        "psi = o1/o2"
      ],
      "execution_count": null,
      "outputs": []
    },
    {
      "cell_type": "markdown",
      "metadata": {
        "id": "SE0dRuhPKdWo"
      },
      "source": [
        "$$\n",
        "C_T(k)=\\frac{e^{-\\alpha k}}{\\pi}\\int_0^\\infty e^{-ivk}\\psi(v)dv\n",
        "$$"
      ]
    },
    {
      "cell_type": "code",
      "metadata": {
        "id": "6Z8OsNPE1Y62"
      },
      "source": [
        "k = np.log(K)\n",
        "integrand = lambda w: (np.exp(-1j*w*k)*psi.real\n",
        "integral = quad(integrand, 0, np.inf)[0]\n",
        "return np.exp(-alpha*k)/np.pi*integral"
      ],
      "execution_count": 58,
      "outputs": []
    }
  ]
}