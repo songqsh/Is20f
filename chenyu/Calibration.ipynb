{
  "nbformat": 4,
  "nbformat_minor": 0,
  "metadata": {
    "colab": {
      "name": "Calibration.ipynb",
      "provenance": [],
      "collapsed_sections": [],
      "authorship_tag": "ABX9TyOvC8TOPzOi08yUuxO1IVIF",
      "include_colab_link": true
    },
    "kernelspec": {
      "name": "python3",
      "display_name": "Python 3"
    }
  },
  "cells": [
    {
      "cell_type": "markdown",
      "metadata": {
        "id": "view-in-github",
        "colab_type": "text"
      },
      "source": [
        "<a href=\"https://colab.research.google.com/github/wuchenyu38/Is20f/blob/master/chenyu/Calibration.ipynb\" target=\"_parent\"><img src=\"https://colab.research.google.com/assets/colab-badge.svg\" alt=\"Open In Colab\"/></a>"
      ]
    },
    {
      "cell_type": "code",
      "metadata": {
        "id": "cAmPjxkk1SFw"
      },
      "source": [
        "import numpy as np\n",
        "from scipy.integrate import quad"
      ],
      "execution_count": 57,
      "outputs": []
    },
    {
      "cell_type": "markdown",
      "metadata": {
        "id": "SE0dRuhPKdWo"
      },
      "source": [
        "$$\n",
        "C_T(k)=\\frac{e^{-\\alpha k}}{\\pi}\\int_0^\\infty e^{-ivk}\\psi(v)dv\n",
        "$$"
      ]
    },
    {
      "cell_type": "code",
      "metadata": {
        "id": "ixTJsmTczQCt"
      },
      "source": [
        "class FTCall:\n",
        "    def __init__(self, model):\n",
        "        self.md = model\n",
        "        \n",
        "    #$\\psi$ function for carr-madan method\n",
        "    def psi(self, w, T, alpha):\n",
        "        o1 = np.exp(-self.md.r*T)\n",
        "        o1 = o1*self.md.charfun(T, w - (alpha+1)*1j)\n",
        "        o2 = alpha**2+alpha-w**2+1j*(2*alpha+1.)*w\n",
        "        return o1/o2\n",
        "    \n",
        "    #carr-madan method with damping\n",
        "    def price_cm(self, K, T, alpha = 1.5):\n",
        "        k = np.log(K)\n",
        "        integrand = lambda w: (np.exp(-1j*w*k)*self.psi(w, T, alpha)).real\n",
        "        integral = quad(integrand, 0, np.inf)[0]\n",
        "        return np.exp(-alpha*k)/np.pi*integral"
      ],
      "execution_count": 58,
      "outputs": []
    },
    {
      "cell_type": "markdown",
      "metadata": {
        "id": "k7pTZyyBJ4dp"
      },
      "source": [
        "$$\n",
        "\\psi_T(v)=\\frac{e^{-rT}\\Phi_T(v-(\\alpha+1)i)}{\\alpha^2+\\alpha-v^2+i(2\\alpha+1)v}\n",
        "$$"
      ]
    },
    {
      "cell_type": "markdown",
      "metadata": {
        "id": "ibg1chqq2wXx"
      },
      "source": [
        "$$\n",
        "\\phi_T(u)=[S_0e^{(r+\\omega)T]}]^{iu}(1-i\\theta vu+\\frac{1}{2}\\sigma^2 u^2v)^{-\\frac{T}{v}}\n",
        "$$"
      ]
    },
    {
      "cell_type": "code",
      "metadata": {
        "id": "XOvWKVofzZHO"
      },
      "source": [
        "class VG:\n",
        "    def __init__(self, S0, r, sigma, theta, v):\n",
        "        self.S0 = S0\n",
        "        self.r = r\n",
        "        self.sigma = sigma\n",
        "        self.theta = theta\n",
        "        self.v = v\n",
        "        \n",
        "    #characteristic function for $ln S_T$\n",
        "    def charfun(self, T, u):\n",
        "        omega = (1/self.v)*np.log(1-self.theta*self.v-0.5*self.sigma**2*self.v)\n",
        "        phi = (self.S0*np.exp((self.r+omega)*T))**(1j*u)*(1-1j*self.theta*self.v*u+1/2*self.sigma**2*u**2*self.v)**(-T/self.v)\n",
        "        return phi"
      ],
      "execution_count": 59,
      "outputs": []
    },
    {
      "cell_type": "code",
      "metadata": {
        "id": "vQMCjsvs0lP8",
        "colab": {
          "base_uri": "https://localhost:8080/"
        },
        "outputId": "cf0d0fb1-01a7-4e15-d2d9-21a6627531ae"
      },
      "source": [
        "%%time\n",
        "vg = VG(100, 0.0475, 0.2, 3, 0.061)\n",
        "ftc = FTCall(vg)\n",
        "ans = ftc.price_cm(110, 1, alpha = 1.5)\n",
        "print(\n",
        "      f'VG FT price by carr-madan is \\n >> {ans}'\n",
        "      )"
      ],
      "execution_count": 60,
      "outputs": [
        {
          "output_type": "stream",
          "text": [
            "VG FT price by carr-madan is \n",
            " >> 31.328700593999912\n",
            "CPU times: user 6 ms, sys: 0 ns, total: 6 ms\n",
            "Wall time: 6.65 ms\n"
          ],
          "name": "stdout"
        }
      ]
    },
    {
      "cell_type": "code",
      "metadata": {
        "id": "_z2k9Pre4TH2"
      },
      "source": [
        "def charfun(u):\n",
        "    T = 1\n",
        "    r = 0.0475\n",
        "    theta = 3\n",
        "    S0 = 100\n",
        "    sigma = 0.2\n",
        "    v = 0.061\n",
        "    omega = (1/v)*np.log(1-theta*v-0.5*sigma**2*v)\n",
        "    phi = (S0*np.exp((r+omega)*T))**(1j*u)*(1-1j*theta*v*u+1/2*sigma**2*u**2*v)**(-T/v)\n",
        "    return phi"
      ],
      "execution_count": 61,
      "outputs": []
    },
    {
      "cell_type": "code",
      "metadata": {
        "id": "l7-YJo5h39B4"
      },
      "source": [
        "def SimpsonW(N,eta):\n",
        "    delt = np.zeros(N, dtype=np.float)\n",
        "    delt[0] = 1\n",
        "    j = np.arange(1, N + 1, 1)\n",
        "    SimpsonW = eta*(3 + (-1) ** j - delt) / 3\n",
        "    return SimpsonW"
      ],
      "execution_count": 62,
      "outputs": []
    },
    {
      "cell_type": "code",
      "metadata": {
        "id": "xYVul_dS4K9P"
      },
      "source": [
        "def psi(w, T, alpha, r):\n",
        "    o1 = np.exp(-r*T)\n",
        "    o1 = o1*charfun(w - (alpha+1)*1j)\n",
        "    o2 = alpha**2+alpha-w**2+1j*(2*alpha+1.)*w\n",
        "    return o1/o2"
      ],
      "execution_count": 63,
      "outputs": []
    },
    {
      "cell_type": "code",
      "metadata": {
        "id": "tAaEpfoE3_xE"
      },
      "source": [
        "def VG_NumpyFFT(S0, K, T):\n",
        "    k = np.log(K)\n",
        "    x0 = np.log(S0)\n",
        "    N =2**10\n",
        "    alpha=1.5\n",
        "    \n",
        "    eta=0.15\n",
        "    lambda_ = 2 * np.pi / (N *eta)\n",
        "    beta=x0-lambda_*N/2\n",
        "    km=np.asarray([beta+i*lambda_ for i in range(N)])\n",
        "    W=SimpsonW(N,eta)\n",
        "    v=np.asarray([i*eta for i in range(N)])\n",
        "    Psi=np.asarray([psi(vj, T, alpha, 0)  for vj in v])\n",
        "    FFTFunc=Psi*np.exp(-1j*beta*v)*W\n",
        "    \n",
        "    \n",
        "    y=np.fft.fft(FFTFunc).real\n",
        "    \n",
        "    \n",
        "    cT=np.exp(-alpha*km)*y/np.pi\n",
        "    return cT"
      ],
      "execution_count": 64,
      "outputs": []
    },
    {
      "cell_type": "code",
      "metadata": {
        "id": "eAt6lVD5LyM1",
        "colab": {
          "base_uri": "https://localhost:8080/"
        },
        "outputId": "90d7f933-f8e0-4d50-9b91-974180360b55"
      },
      "source": [
        "%%time\n",
        "print(\n",
        "      f'VG FFT price by carr-madan is \\n >> {VG_NumpyFFT(100, 110, 1)}'\n",
        "      )"
      ],
      "execution_count": 65,
      "outputs": [
        {
          "output_type": "stream",
          "text": [
            "VG FFT price by carr-madan is \n",
            " >> [-5.27077358e+14 -5.07605143e+14 -4.88438670e+14 ... -3.02819985e-13\n",
            " -2.92374902e-13 -2.82051039e-13]\n",
            "CPU times: user 37 ms, sys: 12 µs, total: 37 ms\n",
            "Wall time: 40.7 ms\n"
          ],
          "name": "stdout"
        }
      ]
    },
    {
      "cell_type": "code",
      "metadata": {
        "id": "4HQt--UA5Zmc"
      },
      "source": [
        "S0 = 100.0  # index level\n",
        "N =2**10 \n",
        "eta=0.15\n",
        "lambda_ = 2 * np.pi / (N *eta)\n",
        "x0 = np.log(S0)\n",
        "beta=x0-lambda_*N/2\n",
        "k=np.asarray([np.e**(beta+lambda_*n) for n in range(N)])"
      ],
      "execution_count": 66,
      "outputs": []
    },
    {
      "cell_type": "code",
      "metadata": {
        "id": "S4RchaRu5F1N",
        "colab": {
          "base_uri": "https://localhost:8080/",
          "height": 268
        },
        "outputId": "ef3d2e8c-97c6-443e-bc59-6b1e7f607d67"
      },
      "source": [
        "import matplotlib.pyplot as plt\n",
        "plt.plot(VG_NumpyFFT(100, 110, 1)[400:600]) \n",
        "plt.show()"
      ],
      "execution_count": 67,
      "outputs": [
        {
          "output_type": "display_data",
          "data": {
            "image/png": "[encoded data removed]",
            "text/plain": [
              "<Figure size 432x288 with 1 Axes>"
            ]
          },
          "metadata": {
            "tags": []
          }
        }
      ]
    },
    {
      "cell_type": "code",
      "metadata": {
        "colab": {
          "base_uri": "https://localhost:8080/"
        },
        "id": "gicwPdJ1iddj",
        "outputId": "13b30382-0889-4471-96f9-3c4dd40b9010"
      },
      "source": [
        "#Verification based on the book (Analytical Method)\n",
        "Verify_VG = VG(100, 0.1, 0.12, -0.14, 0.2)\n",
        "Verify_Call = FTCall(Verify_VG)\n",
        "Kv = 10\n",
        "call_option_price = [] \n",
        "for i in range (10):\n",
        "  call_option_price.append(Verify_Call.price_cm(Kv, 1/12, alpha = 1.5)) \n",
        "  Kv = Kv + 10\n",
        "\n",
        "call_option_price"
      ],
      "execution_count": 68,
      "outputs": [
        {
          "output_type": "stream",
          "text": [
            "/usr/local/lib/python3.6/dist-packages/ipykernel_launcher.py:16: IntegrationWarning: The maximum number of subdivisions (50) has been achieved.\n",
            "  If increasing the limit yields no improvement it is advised to analyze \n",
            "  the integrand in order to determine the difficulties.  If the position of a \n",
            "  local difficulty can be determined (singularity, discontinuity) one will \n",
            "  probably gain from splitting up the interval and calling the integrator \n",
            "  on the subranges.  Perhaps a special-purpose integrator should be used.\n",
            "  app.launch_new_instance()\n"
          ],
          "name": "stderr"
        },
        {
          "output_type": "execute_result",
          "data": {
            "text/plain": [
              "[90.08409184340738,\n",
              " 80.1826364596626,\n",
              " 70.25883894438714,\n",
              " 60.330122095468134,\n",
              " 50.41558217226299,\n",
              " 40.49808070615871,\n",
              " 30.58130804666516,\n",
              " 20.670417652778628,\n",
              " 10.828867975353846,\n",
              " 1.8149982036650307]"
            ]
          },
          "metadata": {
            "tags": []
          },
          "execution_count": 68
        }
      ]
    },
    {
      "cell_type": "markdown",
      "metadata": {
        "id": "PyRNW8yH2yVi"
      },
      "source": [
        "![f5d0f409eb4fddab99240696647f2ab.png](data:image/png;base64,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)"
      ]
    },
    {
      "cell_type": "code",
      "metadata": {
        "id": "Mvs86RHYq1Zz"
      },
      "source": [
        "True_value = [90.0832, 80.1660, 70.2490, 60.3320, 50.4149, 40.4979, 30.5813, 20.6702, 10.8289]"
      ],
      "execution_count": 69,
      "outputs": []
    },
    {
      "cell_type": "code",
      "metadata": {
        "colab": {
          "base_uri": "https://localhost:8080/"
        },
        "id": "rS7kbv3zr3lD",
        "outputId": "376376a7-40bc-47be-eea4-f9a963a84ff1"
      },
      "source": [
        "True_value"
      ],
      "execution_count": 70,
      "outputs": [
        {
          "output_type": "execute_result",
          "data": {
            "text/plain": [
              "[90.0832, 80.166, 70.249, 60.332, 50.4149, 40.4979, 30.5813, 20.6702, 10.8289]"
            ]
          },
          "metadata": {
            "tags": []
          },
          "execution_count": 70
        }
      ]
    },
    {
      "cell_type": "code",
      "metadata": {
        "colab": {
          "base_uri": "https://localhost:8080/"
        },
        "id": "YxWMgK_Qqs76",
        "outputId": "532f0b59-be7f-457a-97fd-213ce51d6064"
      },
      "source": [
        "percentage = []\n",
        "for i in range(9):\n",
        "  error = abs(True_value[i]-call_option_price[i])\n",
        "  percentage.append(error/True_value[i])\n",
        "\n",
        "sum(percentage)/9"
      ],
      "execution_count": 71,
      "outputs": [
        {
          "output_type": "execute_result",
          "data": {
            "text/plain": [
              "4.670590949722221e-05"
            ]
          },
          "metadata": {
            "tags": []
          },
          "execution_count": 71
        }
      ]
    },
    {
      "cell_type": "code",
      "metadata": {
        "id": "SG8vGSaSz2u0"
      },
      "source": [
        "from scipy import optimize"
      ],
      "execution_count": 72,
      "outputs": []
    },
    {
      "cell_type": "code",
      "metadata": {
        "colab": {
          "base_uri": "https://localhost:8080/"
        },
        "id": "QcoUIVJnxbSh",
        "outputId": "4653188d-5e38-48ac-cb14-ff366fb042e5"
      },
      "source": [
        "def g1(params, M, K):\n",
        "    sigma, theta, v = params\n",
        "    market_price = M\n",
        "    strike_price = K\n",
        "    VG2 = VG(3638.35, 0.0088, sigma, theta, v)\n",
        "    ftc2 = FTCall(VG2)\n",
        "    ans = ftc2.price_cm(strike_price, 1/12, alpha = 1.5)\n",
        "    return abs(market_price - ans)\n",
        "\n",
        "guess_g1=[0.1, 0.1, 0.1]\n",
        "\n",
        "minimum_SPX= optimize.fmin(g1,guess_g1,args=(91, 3600, ), maxfun=400000000000,maxiter=400000000000,ftol=1e-20,xtol=1e-20)\n",
        "\n",
        "sigma, theta, v = minimum_SPX\n"
      ],
      "execution_count": 73,
      "outputs": [
        {
          "output_type": "stream",
          "text": [
            "Optimization terminated successfully.\n",
            "         Current function value: 0.000000\n",
            "         Iterations: 160\n",
            "         Function evaluations: 334\n"
          ],
          "name": "stdout"
        }
      ]
    },
    {
      "cell_type": "code",
      "metadata": {
        "id": "aonvfLLbBLkc"
      },
      "source": [
        ""
      ],
      "execution_count": 73,
      "outputs": []
    },
    {
      "cell_type": "code",
      "metadata": {
        "id": "Ob1A9zcl_pd9"
      },
      "source": [
        "Stirke = [3600, 3605, 3610, 3615, 3620, 3625, 3630, 3635, 3640, 3645, 3650, 3655, 3660, 3665, 3670, 3675, 3680, 3685, 3690, 3695, 3700]\n",
        "Option = [91, 87.5, 84.1, 80, 77.6, 74.1, 71.4, 68.4, 65.4, 62.5, 59.7, 57, 54.3, 51.4, 49.2, 46.9, 44.4, 42.2, 40, 37.8, 35.7]"
      ],
      "execution_count": 74,
      "outputs": []
    },
    {
      "cell_type": "code",
      "metadata": {
        "colab": {
          "base_uri": "https://localhost:8080/"
        },
        "id": "ZF9rj_ziATbi",
        "outputId": "36bfb758-20de-4cf4-f3d3-a90adc42772b"
      },
      "source": [
        "sigma_list = []\n",
        "theta_list = []\n",
        "v_list = []\n",
        "for i in range(21):\n",
        "  K = Stirke[i]\n",
        "  M = Option[i]\n",
        "  guess_g1=[0.1, 0.1, 0.1]\n",
        "  minimum_SPX= optimize.fmin(g1,guess_g1,args=(M, K, ), maxfun=400000000000,maxiter=400000000000,ftol=1e-12,xtol=1e-12)\n",
        "  sigma, theta, v = minimum_SPX\n",
        "  sigma_list.append(sigma)\n",
        "  theta_list.append(theta)\n",
        "  v_list.append(v)"
      ],
      "execution_count": 75,
      "outputs": [
        {
          "output_type": "stream",
          "text": [
            "Optimization terminated successfully.\n",
            "         Current function value: 0.000000\n",
            "         Iterations: 134\n",
            "         Function evaluations: 268\n",
            "Optimization terminated successfully.\n",
            "         Current function value: 0.000000\n",
            "         Iterations: 138\n",
            "         Function evaluations: 274\n",
            "Optimization terminated successfully.\n",
            "         Current function value: 0.000000\n",
            "         Iterations: 135\n",
            "         Function evaluations: 267\n",
            "Optimization terminated successfully.\n",
            "         Current function value: 0.000000\n",
            "         Iterations: 134\n",
            "         Function evaluations: 267\n",
            "Optimization terminated successfully.\n",
            "         Current function value: 0.000000\n",
            "         Iterations: 134\n",
            "         Function evaluations: 265\n",
            "Optimization terminated successfully.\n",
            "         Current function value: 0.000000\n",
            "         Iterations: 138\n",
            "         Function evaluations: 275\n",
            "Optimization terminated successfully.\n",
            "         Current function value: 0.000000\n",
            "         Iterations: 134\n",
            "         Function evaluations: 266\n",
            "Optimization terminated successfully.\n",
            "         Current function value: 0.000000\n",
            "         Iterations: 129\n",
            "         Function evaluations: 255\n",
            "Optimization terminated successfully.\n",
            "         Current function value: 0.000000\n",
            "         Iterations: 136\n",
            "         Function evaluations: 266\n",
            "Optimization terminated successfully.\n",
            "         Current function value: 0.000000\n",
            "         Iterations: 132\n",
            "         Function evaluations: 262\n",
            "Optimization terminated successfully.\n",
            "         Current function value: 0.000000\n",
            "         Iterations: 134\n",
            "         Function evaluations: 267\n",
            "Optimization terminated successfully.\n",
            "         Current function value: 0.000000\n",
            "         Iterations: 135\n",
            "         Function evaluations: 270\n"
          ],
          "name": "stdout"
        },
        {
          "output_type": "stream",
          "text": [
            "/usr/local/lib/python3.6/dist-packages/ipykernel_launcher.py:16: IntegrationWarning: The maximum number of subdivisions (50) has been achieved.\n",
            "  If increasing the limit yields no improvement it is advised to analyze \n",
            "  the integrand in order to determine the difficulties.  If the position of a \n",
            "  local difficulty can be determined (singularity, discontinuity) one will \n",
            "  probably gain from splitting up the interval and calling the integrator \n",
            "  on the subranges.  Perhaps a special-purpose integrator should be used.\n",
            "  app.launch_new_instance()\n"
          ],
          "name": "stderr"
        },
        {
          "output_type": "stream",
          "text": [
            "Optimization terminated successfully.\n",
            "         Current function value: 0.000000\n",
            "         Iterations: 130\n",
            "         Function evaluations: 260\n",
            "Optimization terminated successfully.\n",
            "         Current function value: 0.000000\n",
            "         Iterations: 130\n",
            "         Function evaluations: 260\n",
            "Optimization terminated successfully.\n",
            "         Current function value: 0.000000\n",
            "         Iterations: 134\n",
            "         Function evaluations: 268\n",
            "Optimization terminated successfully.\n",
            "         Current function value: 0.000000\n",
            "         Iterations: 132\n",
            "         Function evaluations: 264\n",
            "Optimization terminated successfully.\n",
            "         Current function value: 0.000000\n",
            "         Iterations: 132\n",
            "         Function evaluations: 263\n",
            "Optimization terminated successfully.\n",
            "         Current function value: 0.000000\n",
            "         Iterations: 131\n",
            "         Function evaluations: 262\n",
            "Optimization terminated successfully.\n",
            "         Current function value: 0.000000\n",
            "         Iterations: 131\n",
            "         Function evaluations: 263\n",
            "Optimization terminated successfully.\n",
            "         Current function value: 0.000000\n",
            "         Iterations: 132\n",
            "         Function evaluations: 262\n",
            "Optimization terminated successfully.\n",
            "         Current function value: 0.000000\n",
            "         Iterations: 130\n",
            "         Function evaluations: 259\n"
          ],
          "name": "stdout"
        }
      ]
    },
    {
      "cell_type": "code",
      "metadata": {
        "id": "AipEDki-CJ3S"
      },
      "source": [
        "price_b = []\n",
        "for i in range(21):\n",
        "  sigma_b = sigma_list[i]\n",
        "  theta_b = theta_list[i]\n",
        "  v_b = v_list[i]\n",
        "  strike_b = Stirke[i]\n",
        "  vg_b = VG(3638.35, 0.0088, sigma_b, theta_b, v_b)\n",
        "  ftc_b = FTCall(vg_b)\n",
        "  ans_b = ftc_b.price_cm(strike_b, 1/12, alpha = 1.5)\n",
        "  price_b.append(ans_b)"
      ],
      "execution_count": 76,
      "outputs": []
    },
    {
      "cell_type": "code",
      "metadata": {
        "colab": {
          "base_uri": "https://localhost:8080/"
        },
        "id": "G1lMRd2fD-PL",
        "outputId": "f5ab6cd1-fd70-48a5-ca4c-fb2ed5a642b9"
      },
      "source": [
        "price_b"
      ],
      "execution_count": 77,
      "outputs": [
        {
          "output_type": "execute_result",
          "data": {
            "text/plain": [
              "[90.99999999999989,\n",
              " 87.5000000000003,\n",
              " 84.09999999999889,\n",
              " 79.99999999999999,\n",
              " 77.60000000000035,\n",
              " 74.09999999999988,\n",
              " 71.39999999999975,\n",
              " 68.39999999999712,\n",
              " 65.40000000000005,\n",
              " 62.499999999999936,\n",
              " 59.69999999999994,\n",
              " 57.000000000000064,\n",
              " 54.29999999999982,\n",
              " 51.399999999999814,\n",
              " 49.19999999999956,\n",
              " 46.90000000000043,\n",
              " 44.39999999999965,\n",
              " 42.200000000000074,\n",
              " 40.00000000000028,\n",
              " 37.80000000000022,\n",
              " 35.69999999999995]"
            ]
          },
          "metadata": {
            "tags": []
          },
          "execution_count": 77
        }
      ]
    },
    {
      "cell_type": "code",
      "metadata": {
        "colab": {
          "base_uri": "https://localhost:8080/",
          "height": 285
        },
        "id": "tIa7MCNYHD4B",
        "outputId": "976a9ae5-3b3e-48a2-f1b2-595ff716d611"
      },
      "source": [
        "plt.plot(Stirke, sigma_list, label = '1 month maturity')\n",
        "plt.ylabel('Implied Sigmas')\n",
        "plt.xlabel('Strike Price')\n",
        "plt.legend();"
      ],
      "execution_count": 78,
      "outputs": [
        {
          "output_type": "display_data",
          "data": {
            "image/png": "[encoded data removed]",
            "text/plain": [
              "<Figure size 432x288 with 1 Axes>"
            ]
          },
          "metadata": {
            "tags": []
          }
        }
      ]
    },
    {
      "cell_type": "code",
      "metadata": {
        "colab": {
          "base_uri": "https://localhost:8080/",
          "height": 285
        },
        "id": "qGCvmRrKHVbu",
        "outputId": "2d7292e1-e191-42ac-852a-b3b9ce4d97d8"
      },
      "source": [
        "plt.plot(Stirke, theta_list, label = '1 mon maturity')\n",
        "plt.ylabel('Implied Thetas')\n",
        "plt.xlabel('Strike Price')\n",
        "plt.legend();"
      ],
      "execution_count": 79,
      "outputs": [
        {
          "output_type": "display_data",
          "data": {
            "image/png": "[encoded data removed]",
            "text/plain": [
              "<Figure size 432x288 with 1 Axes>"
            ]
          },
          "metadata": {
            "tags": []
          }
        }
      ]
    },
    {
      "cell_type": "code",
      "metadata": {
        "colab": {
          "base_uri": "https://localhost:8080/",
          "height": 285
        },
        "id": "VyVazuSwHqCA",
        "outputId": "35f52f33-c42d-4c92-c0a5-58b618f0a137"
      },
      "source": [
        "plt.plot(Stirke, v_list, label = '1 mon maturity')\n",
        "plt.ylabel('Implied V')\n",
        "plt.xlabel('Strike Price')\n",
        "plt.legend();"
      ],
      "execution_count": 80,
      "outputs": [
        {
          "output_type": "display_data",
          "data": {
            "image/png": "[encoded data removed]",
            "text/plain": [
              "<Figure size 432x288 with 1 Axes>"
            ]
          },
          "metadata": {
            "tags": []
          }
        }
      ]
    },
    {
      "cell_type": "code",
      "metadata": {
        "id": "C0kki6FBH8Cg"
      },
      "source": [
        "import seaborn as sns; sns.set()"
      ],
      "execution_count": 81,
      "outputs": []
    },
    {
      "cell_type": "code",
      "metadata": {
        "colab": {
          "base_uri": "https://localhost:8080/",
          "height": 268
        },
        "id": "1kdIjjGlJ1De",
        "outputId": "4098b284-58fb-47a1-ecec-f62d3d32ed31"
      },
      "source": [
        "from sklearn.linear_model import LinearRegression\n",
        "model_sigma = LinearRegression(fit_intercept=True)\n",
        "\n",
        "model_sigma.fit(np.array(Stirke).reshape(-1,1), np.array(sigma_list).reshape(-1, 1))\n",
        "\n",
        "xfit_sigma = np.linspace(3600, 3700, 1000)\n",
        "yfit_sigma = model_sigma.predict(xfit_sigma[:, np.newaxis])\n",
        "\n",
        "plt.scatter(Stirke, sigma_list)\n",
        "plt.plot(xfit_sigma, yfit_sigma);"
      ],
      "execution_count": 82,
      "outputs": [
        {
          "output_type": "display_data",
          "data": {
            "image/png": "[encoded data removed]",
            "text/plain": [
              "<Figure size 432x288 with 1 Axes>"
            ]
          },
          "metadata": {
            "tags": []
          }
        }
      ]
    },
    {
      "cell_type": "code",
      "metadata": {
        "colab": {
          "base_uri": "https://localhost:8080/"
        },
        "id": "IrgLIfe7K5lx",
        "outputId": "c333b00f-3061-4e86-bf39-64f2ec9a50a3"
      },
      "source": [
        "print(\"Model slope:    \", model_sigma.coef_[0])\n",
        "print(\"Model intercept:\", model_sigma.intercept_)"
      ],
      "execution_count": 83,
      "outputs": [
        {
          "output_type": "stream",
          "text": [
            "Model slope:     [-0.00030317]\n",
            "Model intercept: [1.26819529]\n"
          ],
          "name": "stdout"
        }
      ]
    },
    {
      "cell_type": "code",
      "metadata": {
        "colab": {
          "base_uri": "https://localhost:8080/",
          "height": 268
        },
        "id": "8PGDhvZrLOq0",
        "outputId": "7af057e5-7c8b-49ad-8163-09011481bcb5"
      },
      "source": [
        "from sklearn.linear_model import LinearRegression\n",
        "model_theta = LinearRegression(fit_intercept=True)\n",
        "\n",
        "model_theta.fit(np.array(Stirke).reshape(-1,1), np.array(theta_list).reshape(-1, 1))\n",
        "\n",
        "xfit_theta = np.linspace(3600, 3700, 1000)\n",
        "yfit_theta = model_theta.predict(xfit_theta[:, np.newaxis])\n",
        "\n",
        "plt.scatter(Stirke, theta_list)\n",
        "plt.plot(xfit_theta, yfit_theta);"
      ],
      "execution_count": 84,
      "outputs": [
        {
          "output_type": "display_data",
          "data": {
            "image/png": "[encoded data removed]",
            "text/plain": [
              "<Figure size 432x288 with 1 Axes>"
            ]
          },
          "metadata": {
            "tags": []
          }
        }
      ]
    },
    {
      "cell_type": "code",
      "metadata": {
        "colab": {
          "base_uri": "https://localhost:8080/"
        },
        "id": "h7ecSOJHLOyO",
        "outputId": "e867451e-6622-40af-c250-a9132b212160"
      },
      "source": [
        "print(\"Model slope:    \", model_theta.coef_[0])\n",
        "print(\"Model intercept:\", model_theta.intercept_)"
      ],
      "execution_count": 85,
      "outputs": [
        {
          "output_type": "stream",
          "text": [
            "Model slope:     [-4.402324e-05]\n",
            "Model intercept: [0.26971759]\n"
          ],
          "name": "stdout"
        }
      ]
    },
    {
      "cell_type": "code",
      "metadata": {
        "colab": {
          "base_uri": "https://localhost:8080/",
          "height": 268
        },
        "id": "JL-Oto_ILjig",
        "outputId": "200a5e06-5a98-4ab7-f707-940530183fbc"
      },
      "source": [
        "from sklearn.linear_model import LinearRegression\n",
        "model_v = LinearRegression(fit_intercept=True)\n",
        "\n",
        "model_v.fit(np.array(Stirke).reshape(-1,1), np.array(v_list).reshape(-1, 1))\n",
        "\n",
        "xfit_v = np.linspace(3600, 3700, 1000)\n",
        "yfit_v = model_v.predict(xfit_v[:, np.newaxis])\n",
        "\n",
        "plt.scatter(Stirke, v_list)\n",
        "plt.plot(xfit_v, yfit_v);"
      ],
      "execution_count": 86,
      "outputs": [
        {
          "output_type": "display_data",
          "data": {
            "image/png": "[encoded data removed]",
            "text/plain": [
              "<Figure size 432x288 with 1 Axes>"
            ]
          },
          "metadata": {
            "tags": []
          }
        }
      ]
    },
    {
      "cell_type": "code",
      "metadata": {
        "colab": {
          "base_uri": "https://localhost:8080/"
        },
        "id": "8o3M7EQDLwdG",
        "outputId": "08f36104-c09f-48ca-c2db-79e58bead924"
      },
      "source": [
        "print(\"Model slope:    \", model_v.coef_[0])\n",
        "print(\"Model intercept:\", model_v.intercept_)"
      ],
      "execution_count": 87,
      "outputs": [
        {
          "output_type": "stream",
          "text": [
            "Model slope:     [0.00021135]\n",
            "Model intercept: [-0.71065802]\n"
          ],
          "name": "stdout"
        }
      ]
    },
    {
      "cell_type": "code",
      "metadata": {
        "id": "ahuHY0SEL4Cu"
      },
      "source": [
        "price_r = []\n",
        "for i in range(21):\n",
        "  sigma_r = -0.00030317*Stirke[i]+1.26819529\n",
        "  theta_r = -4.402324e-05*Stirke[i]+0.26971759\n",
        "  v_r = 0.00021135*Stirke[i] - 0.71065802\n",
        "  strike_r = Stirke[i]\n",
        "  vg_r = VG(3638.35, 0.0088, sigma_r, theta_r, v_r)\n",
        "  ftc_r = FTCall(vg_r)\n",
        "  ans_r = ftc_r.price_cm(strike_r, 1/12, alpha = 1.5)\n",
        "  price_r.append(ans_r)"
      ],
      "execution_count": 88,
      "outputs": []
    },
    {
      "cell_type": "code",
      "metadata": {
        "colab": {
          "base_uri": "https://localhost:8080/"
        },
        "id": "hnChp4IBMsEd",
        "outputId": "e33a5493-3e24-4725-bbd2-d6a1647439e5"
      },
      "source": [
        "price_r"
      ],
      "execution_count": 89,
      "outputs": [
        {
          "output_type": "execute_result",
          "data": {
            "text/plain": [
              "[91.09293284681223,\n",
              " 87.5882315675865,\n",
              " 84.15167817456314,\n",
              " 80.78649090410332,\n",
              " 77.4956247400032,\n",
              " 74.2817346155779,\n",
              " 71.14714881949313,\n",
              " 68.09385282121558,\n",
              " 65.12348185244896,\n",
              " 62.23732158656008,\n",
              " 59.43631654482045,\n",
              " 56.72108118462992,\n",
              " 54.09191680543237,\n",
              " 51.54883010022657,\n",
              " 49.09155454081401,\n",
              " 46.71957179121101,\n",
              " 44.43213559653015,\n",
              " 42.228292406107784,\n",
              " 40.106905240334335,\n",
              " 38.06667420799444,\n",
              " 36.10615685045829]"
            ]
          },
          "metadata": {
            "tags": []
          },
          "execution_count": 89
        }
      ]
    },
    {
      "cell_type": "code",
      "metadata": {
        "id": "sn_-1wdm1Lph",
        "colab": {
          "base_uri": "https://localhost:8080/"
        },
        "outputId": "1c23f2eb-4f6e-4c9c-ae42-44d1b56121d3"
      },
      "source": [
        "sum(abs(np.array(price_r)-np.array(Option))/np.array(Option))/21"
      ],
      "execution_count": 99,
      "outputs": [
        {
          "output_type": "execute_result",
          "data": {
            "text/plain": [
              "0.0036813629003776974"
            ]
          },
          "metadata": {
            "tags": []
          },
          "execution_count": 99
        }
      ]
    },
    {
      "cell_type": "code",
      "metadata": {
        "colab": {
          "base_uri": "https://localhost:8080/"
        },
        "id": "7DWkr218BgbQ",
        "outputId": "4814792f-d1d0-45fb-8940-296747429114"
      },
      "source": [
        "sum"
      ],
      "execution_count": 92,
      "outputs": [
        {
          "output_type": "execute_result",
          "data": {
            "text/plain": [
              "[90.0832, 80.166, 70.249, 60.332, 50.4149, 40.4979, 30.5813, 20.6702, 10.8289]"
            ]
          },
          "metadata": {
            "tags": []
          },
          "execution_count": 92
        }
      ]
    },
    {
      "cell_type": "code",
      "metadata": {
        "id": "CNK_5xuMBpcD"
      },
      "source": [
        ""
      ],
      "execution_count": null,
      "outputs": []
    }
  ]
}