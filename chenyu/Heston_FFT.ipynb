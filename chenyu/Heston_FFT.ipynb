{
  "nbformat": 4,
  "nbformat_minor": 0,
  "metadata": {
    "colab": {
      "name": "Heston-FFT.ipynb",
      "provenance": [],
      "include_colab_link": true
    },
    "kernelspec": {
      "name": "python3",
      "display_name": "Python 3"
    }
  },
  "cells": [
    {
      "cell_type": "markdown",
      "metadata": {
        "id": "view-in-github",
        "colab_type": "text"
      },
      "source": [
        "<a href=\"https://colab.research.google.com/github/wuchenyu38/Is20f/blob/master/chenyu/Heston_FFT.ipynb\" target=\"_parent\"><img src=\"https://colab.research.google.com/assets/colab-badge.svg\" alt=\"Open In Colab\"/></a>"
      ]
    },
    {
      "cell_type": "code",
      "metadata": {
        "id": "dJflZNQ4bO5z"
      },
      "source": [
        "import numpy as np\n",
        "from scipy.integrate import quad"
      ],
      "execution_count": null,
      "outputs": []
    },
    {
      "cell_type": "code",
      "metadata": {
        "id": "OpEcvmIjc-s5"
      },
      "source": [
        "\n",
        "class FTCall:\n",
        "    def __init__(self, model):\n",
        "        self.md = model\n",
        "        \n",
        "    #$\\psi$ function for carr-madan method\n",
        "    def psi(self, w, T, alpha):\n",
        "        o1 = np.exp(-self.md.r*T)\n",
        "        o1 = o1*self.md.charfun(T, w - (alpha+1)*1j)\n",
        "        o2 = alpha**2+alpha-w**2+1j*(2*alpha+1.)*w\n",
        "        return o1/o2\n",
        "    \n",
        "    #carr-madan method with damping\n",
        "    def price_cm(self, K, T, alpha = 1.5):\n",
        "        k = np.log(K)\n",
        "        integrand = lambda w: (np.exp(-1j*w*k)*self.psi(w, T, alpha)).real\n",
        "        integral = quad(integrand, 0, np.inf)[0]\n",
        "        return np.exp(-alpha*k)/np.pi*integral"
      ],
      "execution_count": null,
      "outputs": []
    },
    {
      "cell_type": "code",
      "metadata": {
        "id": "VfzQXt-gdAhN"
      },
      "source": [
        "class Heston:\n",
        "    def __init__(self, S0, v0, r, kappa, theta, xi, rho):\n",
        "        self.S0 = S0\n",
        "        self.v0 = v0\n",
        "        self.r = r\n",
        "        self.kappa = kappa\n",
        "        self.theta = theta\n",
        "        self.xi = xi\n",
        "        self.rho = rho\n",
        "        \n",
        "    #char func for ln(S_T) from Ng05\n",
        "    def charfun(self, T, u):\n",
        "        t1 = self.kappa - self.rho*self.xi*1j*u\n",
        "        D = np.sqrt(t1**2+(u**2+1j*u)*self.xi**2)\n",
        "        G = (t1-D)/(t1+D)\n",
        "        t2 = 1-G*np.exp(-D*T)\n",
        "        f1 = np.exp(1j*u*(np.log(self.S0+self.r*T)))\n",
        "        f2 = np.exp(self.v0*(1-np.exp(-D*T))*(t1-D)/self.xi**2/t2)\n",
        "        f3 = np.exp(self.kappa*self.theta*(\n",
        "            T*(t1-D)-2*np.log(t2/(1-G)))/self.xi**2)\n",
        "        return f1*f2*f3"
      ],
      "execution_count": null,
      "outputs": []
    },
    {
      "cell_type": "code",
      "metadata": {
        "id": "MlewI5-GdCs8",
        "outputId": "1f231332-bdfc-491b-9137-578db238dd05",
        "colab": {
          "base_uri": "https://localhost:8080/"
        }
      },
      "source": [
        "hes = Heston(100, 0.0175, 0., 1.5768, 0.0398, 0.5751, -0.5751)\n",
        "ftc = FTCall(hes)\n",
        "ans = ftc.price_cm(108.52520983216910821762196480844, 10, alpha = 1.5)\n",
        "print(\n",
        "      f'Heston FT price by carr-madan is \\n  >> {ans}'\n",
        "      )\n",
        "print('(ref. P61 of [Hirsa13])')"
      ],
      "execution_count": null,
      "outputs": [
        {
          "output_type": "stream",
          "text": [
            "Heston FT price by carr-madan is \n",
            "  >> 18.79115435704415\n",
            "(ref. P61 of [Hirsa13])\n"
          ],
          "name": "stdout"
        }
      ]
    },
    {
      "cell_type": "code",
      "metadata": {
        "id": "640upV4hdEzM",
        "outputId": "1c16647c-9d05-4979-ad09-bcdf4d3d23c8",
        "colab": {
          "base_uri": "https://localhost:8080/"
        }
      },
      "source": [
        "T = 10\n",
        "#risk free rate\n",
        "r = 0\n",
        "#long term volatility(equiribrium level)\n",
        "theta = 0.0398\n",
        "#Mean reversion speed of volatility\n",
        "kappa = 1.5768\n",
        "#sigma(volatility of Volatility)\n",
        "sigma = 0.5751\n",
        "#rho\n",
        "rho = -0.5751\n",
        "#Initial stock price\n",
        "S0 = 100\n",
        "#Initial volatility\n",
        "v0 = 0.0175\n",
        "def charfun(u):\n",
        "    T = 10\n",
        "    #risk free rate\n",
        "    r = 0\n",
        "    #long term volatility(equiribrium level)\n",
        "    theta = 0.0398\n",
        "    #Mean reversion speed of volatility\n",
        "    kappa = 1.5768\n",
        "    #sigma(volatility of Volatility)\n",
        "    xi = 0.5751\n",
        "    #rho\n",
        "    rho = -0.5751\n",
        "    #Initial stock price\n",
        "    S0 = 100\n",
        "    #Initial volatility\n",
        "    v0 = 0.0175\n",
        "    t1 = kappa - rho*xi*1j*u\n",
        "    D = np.sqrt(t1**2+(u**2+1j*u)*xi**2)\n",
        "    G = (t1-D)/(t1+D)\n",
        "    t2 = 1-G*np.exp(-D*T)\n",
        "    f1 = np.exp(1j*u*(np.log(S0+r*T)))\n",
        "    f2 = np.exp(v0*(1-np.exp(-D*T))*(t1-D)/xi**2/t2)\n",
        "    f3 = np.exp(kappa*theta*(\n",
        "        T*(t1-D)-2*np.log(t2/(1-G)))/xi**2)\n",
        "    return f1*f2*f3\n",
        "def SimpsonW(N,eta):\n",
        "    delt = np.zeros(N, dtype=np.float)\n",
        "    delt[0] = 1\n",
        "    j = np.arange(1, N + 1, 1)\n",
        "    SimpsonW = eta*(3 + (-1) ** j - delt) / 3\n",
        "    return SimpsonW\n",
        "    \n",
        "def psi(w, T, alpha, r):\n",
        "    o1 = np.exp(-r*T)\n",
        "    o1 = o1*charfun(w - (alpha+1)*1j)\n",
        "    o2 = alpha**2+alpha-w**2+1j*(2*alpha+1.)*w\n",
        "    return o1/o2\n",
        "\n",
        "def Heston_NumpyFFT(S0, K, T):\n",
        "    k = np.log(K)\n",
        "    x0 = np.log(S0)\n",
        "    N =2**10\n",
        "    alpha=1.5\n",
        "    \n",
        "    eta=0.15\n",
        "    lambda_ = 2 * np.pi / (N *eta)\n",
        "    beta=x0-lambda_*N/2\n",
        "    km=np.asarray([beta+i*lambda_ for i in range(N)])\n",
        "    W=SimpsonW(N,eta)\n",
        "    v=np.asarray([i*eta for i in range(N)])\n",
        "    Psi=np.asarray([psi(vj, T, alpha, 0)  for vj in v])\n",
        "    FFTFunc=Psi*np.exp(-1j*beta*v)*W\n",
        "    \n",
        "    \n",
        "    y=np.fft.fft(FFTFunc).real\n",
        "    \n",
        "    \n",
        "    cT=np.exp(-alpha*km)*y/np.pi\n",
        "    return cT\n",
        "Heston_NumpyFFT(100, 80, 10)[514]"
      ],
      "execution_count": null,
      "outputs": [
        {
          "output_type": "execute_result",
          "data": {
            "text/plain": [
              "18.791154357043478"
            ]
          },
          "metadata": {
            "tags": []
          },
          "execution_count": 5
        }
      ]
    },
    {
      "cell_type": "code",
      "metadata": {
        "id": "00lMUeZnz8NW"
      },
      "source": [
        "S0 = 100.0  # index level\n",
        "N =2**10 \n",
        "eta=0.15\n",
        "lambda_ = 2 * np.pi / (N *eta)\n",
        "x0 = np.log(S0)\n",
        "beta=x0-lambda_*N/2\n",
        "k=np.asarray([np.e**(beta+lambda_*n) for n in range(N)])\n"
      ],
      "execution_count": null,
      "outputs": []
    },
    {
      "cell_type": "code",
      "metadata": {
        "id": "-HbK9Cegx6G_",
        "outputId": "5c6632e8-cd59-4973-f970-fa7b79b978bb",
        "colab": {
          "base_uri": "https://localhost:8080/",
          "height": 615
        }
      },
      "source": [
        "import matplotlib.pyplot as plt\n",
        "plt.plot(Heston_NumpyFFT(100, 80, 10)[300:600]) \n",
        "plt.show()  \n",
        "hes = Heston(100, 0.0175, 0., 1.5768, 0.0398, 0.5751, -0.5751)\n",
        "ftc = FTCall(hes)\n",
        "t=[]\n",
        "for i in range(300,600):\n",
        "  t.append(ftc.price_cm(k[i], 10, alpha = 1.5))\n",
        "plt.plot(t) \n",
        "plt.show() \n"
      ],
      "execution_count": null,
      "outputs": [
        {
          "output_type": "display_data",
          "data": {
            "image/png": "[encoded data removed]",
            "text/plain": [
              "<Figure size 432x288 with 1 Axes>"
            ]
          },
          "metadata": {
            "tags": [],
            "needs_background": "light"
          }
        },
        {
          "output_type": "stream",
          "text": [
            "/usr/local/lib/python3.6/dist-packages/ipykernel_launcher.py:17: IntegrationWarning: The maximum number of subdivisions (50) has been achieved.\n",
            "  If increasing the limit yields no improvement it is advised to analyze \n",
            "  the integrand in order to determine the difficulties.  If the position of a \n",
            "  local difficulty can be determined (singularity, discontinuity) one will \n",
            "  probably gain from splitting up the interval and calling the integrator \n",
            "  on the subranges.  Perhaps a special-purpose integrator should be used.\n"
          ],
          "name": "stderr"
        },
        {
          "output_type": "display_data",
          "data": {
            "image/png": "[encoded data removed]",
            "text/plain": [
              "<Figure size 432x288 with 1 Axes>"
            ]
          },
          "metadata": {
            "tags": [],
            "needs_background": "light"
          }
        }
      ]
    }
  ]
}